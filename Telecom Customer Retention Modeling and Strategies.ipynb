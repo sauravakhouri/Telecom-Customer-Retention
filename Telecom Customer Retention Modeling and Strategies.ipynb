{
 "cells": [
  {
   "cell_type": "markdown",
   "metadata": {},
   "source": [
    "## Importing Libraries"
   ]
  },
  {
   "cell_type": "code",
   "execution_count": 3,
   "metadata": {
    "ExecuteTime": {
     "end_time": "2021-07-03T09:01:35.040931Z",
     "start_time": "2021-07-03T09:01:35.032931Z"
    }
   },
   "outputs": [],
   "source": [
    "import pandas as pd\n",
    "import numpy as np\n",
    "import matplotlib.pyplot as plt\n",
    "import seaborn as sns\n",
    "\n",
    "%matplotlib inline\n",
    "import warnings\n",
    "warnings.filterwarnings('ignore')"
   ]
  },
  {
   "cell_type": "markdown",
   "metadata": {},
   "source": [
    "## Importing the Data"
   ]
  },
  {
   "cell_type": "code",
   "execution_count": 4,
   "metadata": {
    "ExecuteTime": {
     "end_time": "2021-07-03T09:02:25.457044Z",
     "start_time": "2021-07-03T09:02:25.408461Z"
    }
   },
   "outputs": [],
   "source": [
    "df=pd.read_csv('WA_Fn-UseC_-Telco-Customer-Churn.csv')"
   ]
  },
  {
   "cell_type": "code",
   "execution_count": 5,
   "metadata": {
    "ExecuteTime": {
     "end_time": "2021-07-03T09:02:33.355626Z",
     "start_time": "2021-07-03T09:02:33.331604Z"
    }
   },
   "outputs": [
    {
     "data": {
      "text/plain": [
       "(7043, 21)"
      ]
     },
     "execution_count": 5,
     "metadata": {},
     "output_type": "execute_result"
    }
   ],
   "source": [
    "df.shape"
   ]
  },
  {
   "cell_type": "code",
   "execution_count": 6,
   "metadata": {
    "ExecuteTime": {
     "end_time": "2021-07-03T09:02:42.856932Z",
     "start_time": "2021-07-03T09:02:42.816924Z"
    }
   },
   "outputs": [
    {
     "data": {
      "text/html": [
       "<div>\n",
       "<style scoped>\n",
       "    .dataframe tbody tr th:only-of-type {\n",
       "        vertical-align: middle;\n",
       "    }\n",
       "\n",
       "    .dataframe tbody tr th {\n",
       "        vertical-align: top;\n",
       "    }\n",
       "\n",
       "    .dataframe thead th {\n",
       "        text-align: right;\n",
       "    }\n",
       "</style>\n",
       "<table border=\"1\" class=\"dataframe\">\n",
       "  <thead>\n",
       "    <tr style=\"text-align: right;\">\n",
       "      <th></th>\n",
       "      <th>customerID</th>\n",
       "      <th>gender</th>\n",
       "      <th>SeniorCitizen</th>\n",
       "      <th>Partner</th>\n",
       "      <th>Dependents</th>\n",
       "      <th>tenure</th>\n",
       "      <th>PhoneService</th>\n",
       "      <th>MultipleLines</th>\n",
       "      <th>InternetService</th>\n",
       "      <th>OnlineSecurity</th>\n",
       "      <th>...</th>\n",
       "      <th>DeviceProtection</th>\n",
       "      <th>TechSupport</th>\n",
       "      <th>StreamingTV</th>\n",
       "      <th>StreamingMovies</th>\n",
       "      <th>Contract</th>\n",
       "      <th>PaperlessBilling</th>\n",
       "      <th>PaymentMethod</th>\n",
       "      <th>MonthlyCharges</th>\n",
       "      <th>TotalCharges</th>\n",
       "      <th>Churn</th>\n",
       "    </tr>\n",
       "  </thead>\n",
       "  <tbody>\n",
       "    <tr>\n",
       "      <th>0</th>\n",
       "      <td>7590-VHVEG</td>\n",
       "      <td>Female</td>\n",
       "      <td>0</td>\n",
       "      <td>Yes</td>\n",
       "      <td>No</td>\n",
       "      <td>1</td>\n",
       "      <td>No</td>\n",
       "      <td>No phone service</td>\n",
       "      <td>DSL</td>\n",
       "      <td>No</td>\n",
       "      <td>...</td>\n",
       "      <td>No</td>\n",
       "      <td>No</td>\n",
       "      <td>No</td>\n",
       "      <td>No</td>\n",
       "      <td>Month-to-month</td>\n",
       "      <td>Yes</td>\n",
       "      <td>Electronic check</td>\n",
       "      <td>29.85</td>\n",
       "      <td>29.85</td>\n",
       "      <td>No</td>\n",
       "    </tr>\n",
       "    <tr>\n",
       "      <th>1</th>\n",
       "      <td>5575-GNVDE</td>\n",
       "      <td>Male</td>\n",
       "      <td>0</td>\n",
       "      <td>No</td>\n",
       "      <td>No</td>\n",
       "      <td>34</td>\n",
       "      <td>Yes</td>\n",
       "      <td>No</td>\n",
       "      <td>DSL</td>\n",
       "      <td>Yes</td>\n",
       "      <td>...</td>\n",
       "      <td>Yes</td>\n",
       "      <td>No</td>\n",
       "      <td>No</td>\n",
       "      <td>No</td>\n",
       "      <td>One year</td>\n",
       "      <td>No</td>\n",
       "      <td>Mailed check</td>\n",
       "      <td>56.95</td>\n",
       "      <td>1889.50</td>\n",
       "      <td>No</td>\n",
       "    </tr>\n",
       "    <tr>\n",
       "      <th>2</th>\n",
       "      <td>3668-QPYBK</td>\n",
       "      <td>Male</td>\n",
       "      <td>0</td>\n",
       "      <td>No</td>\n",
       "      <td>No</td>\n",
       "      <td>2</td>\n",
       "      <td>Yes</td>\n",
       "      <td>No</td>\n",
       "      <td>DSL</td>\n",
       "      <td>Yes</td>\n",
       "      <td>...</td>\n",
       "      <td>No</td>\n",
       "      <td>No</td>\n",
       "      <td>No</td>\n",
       "      <td>No</td>\n",
       "      <td>Month-to-month</td>\n",
       "      <td>Yes</td>\n",
       "      <td>Mailed check</td>\n",
       "      <td>53.85</td>\n",
       "      <td>108.15</td>\n",
       "      <td>Yes</td>\n",
       "    </tr>\n",
       "    <tr>\n",
       "      <th>3</th>\n",
       "      <td>7795-CFOCW</td>\n",
       "      <td>Male</td>\n",
       "      <td>0</td>\n",
       "      <td>No</td>\n",
       "      <td>No</td>\n",
       "      <td>45</td>\n",
       "      <td>No</td>\n",
       "      <td>No phone service</td>\n",
       "      <td>DSL</td>\n",
       "      <td>Yes</td>\n",
       "      <td>...</td>\n",
       "      <td>Yes</td>\n",
       "      <td>Yes</td>\n",
       "      <td>No</td>\n",
       "      <td>No</td>\n",
       "      <td>One year</td>\n",
       "      <td>No</td>\n",
       "      <td>Bank transfer (automatic)</td>\n",
       "      <td>42.30</td>\n",
       "      <td>1840.75</td>\n",
       "      <td>No</td>\n",
       "    </tr>\n",
       "    <tr>\n",
       "      <th>4</th>\n",
       "      <td>9237-HQITU</td>\n",
       "      <td>Female</td>\n",
       "      <td>0</td>\n",
       "      <td>No</td>\n",
       "      <td>No</td>\n",
       "      <td>2</td>\n",
       "      <td>Yes</td>\n",
       "      <td>No</td>\n",
       "      <td>Fiber optic</td>\n",
       "      <td>No</td>\n",
       "      <td>...</td>\n",
       "      <td>No</td>\n",
       "      <td>No</td>\n",
       "      <td>No</td>\n",
       "      <td>No</td>\n",
       "      <td>Month-to-month</td>\n",
       "      <td>Yes</td>\n",
       "      <td>Electronic check</td>\n",
       "      <td>70.70</td>\n",
       "      <td>151.65</td>\n",
       "      <td>Yes</td>\n",
       "    </tr>\n",
       "  </tbody>\n",
       "</table>\n",
       "<p>5 rows × 21 columns</p>\n",
       "</div>"
      ],
      "text/plain": [
       "   customerID  gender  SeniorCitizen Partner Dependents  tenure PhoneService  \\\n",
       "0  7590-VHVEG  Female              0     Yes         No       1           No   \n",
       "1  5575-GNVDE    Male              0      No         No      34          Yes   \n",
       "2  3668-QPYBK    Male              0      No         No       2          Yes   \n",
       "3  7795-CFOCW    Male              0      No         No      45           No   \n",
       "4  9237-HQITU  Female              0      No         No       2          Yes   \n",
       "\n",
       "      MultipleLines InternetService OnlineSecurity  ... DeviceProtection  \\\n",
       "0  No phone service             DSL             No  ...               No   \n",
       "1                No             DSL            Yes  ...              Yes   \n",
       "2                No             DSL            Yes  ...               No   \n",
       "3  No phone service             DSL            Yes  ...              Yes   \n",
       "4                No     Fiber optic             No  ...               No   \n",
       "\n",
       "  TechSupport StreamingTV StreamingMovies        Contract PaperlessBilling  \\\n",
       "0          No          No              No  Month-to-month              Yes   \n",
       "1          No          No              No        One year               No   \n",
       "2          No          No              No  Month-to-month              Yes   \n",
       "3         Yes          No              No        One year               No   \n",
       "4          No          No              No  Month-to-month              Yes   \n",
       "\n",
       "               PaymentMethod MonthlyCharges  TotalCharges  Churn  \n",
       "0           Electronic check          29.85         29.85     No  \n",
       "1               Mailed check          56.95       1889.50     No  \n",
       "2               Mailed check          53.85        108.15    Yes  \n",
       "3  Bank transfer (automatic)          42.30       1840.75     No  \n",
       "4           Electronic check          70.70        151.65    Yes  \n",
       "\n",
       "[5 rows x 21 columns]"
      ]
     },
     "execution_count": 6,
     "metadata": {},
     "output_type": "execute_result"
    }
   ],
   "source": [
    "df.head()"
   ]
  },
  {
   "cell_type": "code",
   "execution_count": 9,
   "metadata": {
    "ExecuteTime": {
     "end_time": "2021-07-03T09:03:17.897625Z",
     "start_time": "2021-07-03T09:03:17.881625Z"
    }
   },
   "outputs": [
    {
     "data": {
      "text/plain": [
       "customerID           object\n",
       "gender               object\n",
       "SeniorCitizen         int64\n",
       "Partner              object\n",
       "Dependents           object\n",
       "tenure                int64\n",
       "PhoneService         object\n",
       "MultipleLines        object\n",
       "InternetService      object\n",
       "OnlineSecurity       object\n",
       "OnlineBackup         object\n",
       "DeviceProtection     object\n",
       "TechSupport          object\n",
       "StreamingTV          object\n",
       "StreamingMovies      object\n",
       "Contract             object\n",
       "PaperlessBilling     object\n",
       "PaymentMethod        object\n",
       "MonthlyCharges      float64\n",
       "TotalCharges        float64\n",
       "Churn                object\n",
       "dtype: object"
      ]
     },
     "execution_count": 9,
     "metadata": {},
     "output_type": "execute_result"
    }
   ],
   "source": [
    "df.dtypes"
   ]
  },
  {
   "cell_type": "code",
   "execution_count": null,
   "metadata": {},
   "outputs": [],
   "source": []
  },
  {
   "cell_type": "markdown",
   "metadata": {},
   "source": [
    "### Checking for Missing values"
   ]
  },
  {
   "cell_type": "code",
   "execution_count": 12,
   "metadata": {
    "ExecuteTime": {
     "end_time": "2021-07-03T09:05:47.764782Z",
     "start_time": "2021-07-03T09:05:47.740734Z"
    }
   },
   "outputs": [
    {
     "name": "stdout",
     "output_type": "stream",
     "text": [
      "<class 'pandas.core.frame.DataFrame'>\n",
      "RangeIndex: 7043 entries, 0 to 7042\n",
      "Data columns (total 21 columns):\n",
      " #   Column            Non-Null Count  Dtype  \n",
      "---  ------            --------------  -----  \n",
      " 0   customerID        7043 non-null   object \n",
      " 1   gender            7043 non-null   object \n",
      " 2   SeniorCitizen     7043 non-null   int64  \n",
      " 3   Partner           7043 non-null   object \n",
      " 4   Dependents        7043 non-null   object \n",
      " 5   tenure            7043 non-null   int64  \n",
      " 6   PhoneService      7043 non-null   object \n",
      " 7   MultipleLines     7043 non-null   object \n",
      " 8   InternetService   7043 non-null   object \n",
      " 9   OnlineSecurity    7043 non-null   object \n",
      " 10  OnlineBackup      7043 non-null   object \n",
      " 11  DeviceProtection  7043 non-null   object \n",
      " 12  TechSupport       7043 non-null   object \n",
      " 13  StreamingTV       7043 non-null   object \n",
      " 14  StreamingMovies   7043 non-null   object \n",
      " 15  Contract          7043 non-null   object \n",
      " 16  PaperlessBilling  7043 non-null   object \n",
      " 17  PaymentMethod     7043 non-null   object \n",
      " 18  MonthlyCharges    7043 non-null   float64\n",
      " 19  TotalCharges      7043 non-null   float64\n",
      " 20  Churn             7043 non-null   object \n",
      "dtypes: float64(2), int64(2), object(17)\n",
      "memory usage: 1.1+ MB\n"
     ]
    }
   ],
   "source": [
    "# how many rows have missing values\n",
    "\n",
    "df.info()"
   ]
  },
  {
   "cell_type": "markdown",
   "metadata": {},
   "source": [
    "#### Drop ID Feature"
   ]
  },
  {
   "cell_type": "code",
   "execution_count": 13,
   "metadata": {
    "ExecuteTime": {
     "end_time": "2021-07-03T09:07:37.302523Z",
     "start_time": "2021-07-03T09:07:37.294496Z"
    }
   },
   "outputs": [],
   "source": [
    "# Drop ID Feature for Dataset  as it has no use for analysis\n",
    "\n",
    "df.drop(['customerID'],axis=1,inplace=True)"
   ]
  },
  {
   "cell_type": "markdown",
   "metadata": {},
   "source": [
    "### # Label the Churn Feature to either 1 or 0"
   ]
  },
  {
   "cell_type": "code",
   "execution_count": 18,
   "metadata": {
    "ExecuteTime": {
     "end_time": "2021-07-03T09:09:27.642092Z",
     "start_time": "2021-07-03T09:09:27.622106Z"
    }
   },
   "outputs": [
    {
     "data": {
      "text/plain": [
       "No     5174\n",
       "Yes    1869\n",
       "Name: Churn, dtype: int64"
      ]
     },
     "execution_count": 18,
     "metadata": {},
     "output_type": "execute_result"
    }
   ],
   "source": [
    "# Label the Churn Feature to either 1 or 0 based on Yes and No\n",
    "\n",
    "df['Churn'].value_counts()"
   ]
  },
  {
   "cell_type": "code",
   "execution_count": 22,
   "metadata": {
    "ExecuteTime": {
     "end_time": "2021-07-03T09:11:20.345207Z",
     "start_time": "2021-07-03T09:11:20.329236Z"
    }
   },
   "outputs": [],
   "source": [
    "df['target']=np.where(df['Churn']==\"Yes\",1,0)"
   ]
  },
  {
   "cell_type": "code",
   "execution_count": 23,
   "metadata": {
    "ExecuteTime": {
     "end_time": "2021-07-03T09:11:21.663419Z",
     "start_time": "2021-07-03T09:11:21.643445Z"
    }
   },
   "outputs": [
    {
     "data": {
      "text/plain": [
       "0    5174\n",
       "1    1869\n",
       "Name: target, dtype: int64"
      ]
     },
     "execution_count": 23,
     "metadata": {},
     "output_type": "execute_result"
    }
   ],
   "source": [
    "df['target'].value_counts()"
   ]
  },
  {
   "cell_type": "markdown",
   "metadata": {},
   "source": [
    "### Dropping the churn feature to retain only Target"
   ]
  },
  {
   "cell_type": "code",
   "execution_count": 24,
   "metadata": {
    "ExecuteTime": {
     "end_time": "2021-07-03T09:12:16.929929Z",
     "start_time": "2021-07-03T09:12:16.917921Z"
    }
   },
   "outputs": [],
   "source": [
    "# Dropping the churn feature to retain only Target\n",
    "\n",
    "df.drop(['Churn'],axis=1,inplace=True)"
   ]
  },
  {
   "cell_type": "code",
   "execution_count": null,
   "metadata": {},
   "outputs": [],
   "source": []
  },
  {
   "cell_type": "markdown",
   "metadata": {},
   "source": [
    "## Defining Target and Independent Variables"
   ]
  },
  {
   "cell_type": "code",
   "execution_count": 25,
   "metadata": {
    "ExecuteTime": {
     "end_time": "2021-07-03T09:13:47.577291Z",
     "start_time": "2021-07-03T09:13:47.557292Z"
    }
   },
   "outputs": [],
   "source": [
    "Y=df[['target']]\n",
    "X=df.drop(['target'],axis=1)"
   ]
  },
  {
   "cell_type": "code",
   "execution_count": 31,
   "metadata": {
    "ExecuteTime": {
     "end_time": "2021-07-03T09:15:08.834257Z",
     "start_time": "2021-07-03T09:15:08.810263Z"
    }
   },
   "outputs": [
    {
     "data": {
      "text/plain": [
       "target    0.26537\n",
       "dtype: float64"
      ]
     },
     "execution_count": 31,
     "metadata": {},
     "output_type": "execute_result"
    }
   ],
   "source": [
    "#getting the churn rate i.e. event rate\n",
    "\n",
    "Y.mean()"
   ]
  },
  {
   "cell_type": "code",
   "execution_count": null,
   "metadata": {},
   "outputs": [],
   "source": []
  },
  {
   "cell_type": "markdown",
   "metadata": {},
   "source": [
    "## Split Independent Features into Numerical and Categorical "
   ]
  },
  {
   "cell_type": "code",
   "execution_count": 32,
   "metadata": {
    "ExecuteTime": {
     "end_time": "2021-07-03T09:16:47.602280Z",
     "start_time": "2021-07-03T09:16:47.590266Z"
    }
   },
   "outputs": [],
   "source": [
    "num=X.select_dtypes(include='number')\n",
    "char=X.select_dtypes(include='object')"
   ]
  },
  {
   "cell_type": "code",
   "execution_count": 35,
   "metadata": {
    "ExecuteTime": {
     "end_time": "2021-07-03T09:17:13.214745Z",
     "start_time": "2021-07-03T09:17:13.190745Z"
    }
   },
   "outputs": [
    {
     "data": {
      "text/html": [
       "<div>\n",
       "<style scoped>\n",
       "    .dataframe tbody tr th:only-of-type {\n",
       "        vertical-align: middle;\n",
       "    }\n",
       "\n",
       "    .dataframe tbody tr th {\n",
       "        vertical-align: top;\n",
       "    }\n",
       "\n",
       "    .dataframe thead th {\n",
       "        text-align: right;\n",
       "    }\n",
       "</style>\n",
       "<table border=\"1\" class=\"dataframe\">\n",
       "  <thead>\n",
       "    <tr style=\"text-align: right;\">\n",
       "      <th></th>\n",
       "      <th>SeniorCitizen</th>\n",
       "      <th>tenure</th>\n",
       "      <th>MonthlyCharges</th>\n",
       "      <th>TotalCharges</th>\n",
       "    </tr>\n",
       "  </thead>\n",
       "  <tbody>\n",
       "    <tr>\n",
       "      <th>0</th>\n",
       "      <td>0</td>\n",
       "      <td>1</td>\n",
       "      <td>29.85</td>\n",
       "      <td>29.85</td>\n",
       "    </tr>\n",
       "    <tr>\n",
       "      <th>1</th>\n",
       "      <td>0</td>\n",
       "      <td>34</td>\n",
       "      <td>56.95</td>\n",
       "      <td>1889.50</td>\n",
       "    </tr>\n",
       "    <tr>\n",
       "      <th>2</th>\n",
       "      <td>0</td>\n",
       "      <td>2</td>\n",
       "      <td>53.85</td>\n",
       "      <td>108.15</td>\n",
       "    </tr>\n",
       "    <tr>\n",
       "      <th>3</th>\n",
       "      <td>0</td>\n",
       "      <td>45</td>\n",
       "      <td>42.30</td>\n",
       "      <td>1840.75</td>\n",
       "    </tr>\n",
       "    <tr>\n",
       "      <th>4</th>\n",
       "      <td>0</td>\n",
       "      <td>2</td>\n",
       "      <td>70.70</td>\n",
       "      <td>151.65</td>\n",
       "    </tr>\n",
       "  </tbody>\n",
       "</table>\n",
       "</div>"
      ],
      "text/plain": [
       "   SeniorCitizen  tenure  MonthlyCharges  TotalCharges\n",
       "0              0       1           29.85         29.85\n",
       "1              0      34           56.95       1889.50\n",
       "2              0       2           53.85        108.15\n",
       "3              0      45           42.30       1840.75\n",
       "4              0       2           70.70        151.65"
      ]
     },
     "execution_count": 35,
     "metadata": {},
     "output_type": "execute_result"
    }
   ],
   "source": [
    "num.head()"
   ]
  },
  {
   "cell_type": "code",
   "execution_count": 36,
   "metadata": {
    "ExecuteTime": {
     "end_time": "2021-07-03T09:17:33.089730Z",
     "start_time": "2021-07-03T09:17:33.073690Z"
    }
   },
   "outputs": [
    {
     "data": {
      "text/plain": [
       "0    5901\n",
       "1    1142\n",
       "Name: SeniorCitizen, dtype: int64"
      ]
     },
     "execution_count": 36,
     "metadata": {},
     "output_type": "execute_result"
    }
   ],
   "source": [
    "#check whether senior citizen is an indicator feature or not\n",
    "\n",
    "num.SeniorCitizen.value_counts()"
   ]
  },
  {
   "cell_type": "code",
   "execution_count": 37,
   "metadata": {
    "ExecuteTime": {
     "end_time": "2021-07-03T09:17:44.292477Z",
     "start_time": "2021-07-03T09:17:44.256484Z"
    }
   },
   "outputs": [
    {
     "data": {
      "text/html": [
       "<div>\n",
       "<style scoped>\n",
       "    .dataframe tbody tr th:only-of-type {\n",
       "        vertical-align: middle;\n",
       "    }\n",
       "\n",
       "    .dataframe tbody tr th {\n",
       "        vertical-align: top;\n",
       "    }\n",
       "\n",
       "    .dataframe thead th {\n",
       "        text-align: right;\n",
       "    }\n",
       "</style>\n",
       "<table border=\"1\" class=\"dataframe\">\n",
       "  <thead>\n",
       "    <tr style=\"text-align: right;\">\n",
       "      <th></th>\n",
       "      <th>gender</th>\n",
       "      <th>Partner</th>\n",
       "      <th>Dependents</th>\n",
       "      <th>PhoneService</th>\n",
       "      <th>MultipleLines</th>\n",
       "      <th>InternetService</th>\n",
       "      <th>OnlineSecurity</th>\n",
       "      <th>OnlineBackup</th>\n",
       "      <th>DeviceProtection</th>\n",
       "      <th>TechSupport</th>\n",
       "      <th>StreamingTV</th>\n",
       "      <th>StreamingMovies</th>\n",
       "      <th>Contract</th>\n",
       "      <th>PaperlessBilling</th>\n",
       "      <th>PaymentMethod</th>\n",
       "    </tr>\n",
       "  </thead>\n",
       "  <tbody>\n",
       "    <tr>\n",
       "      <th>0</th>\n",
       "      <td>Female</td>\n",
       "      <td>Yes</td>\n",
       "      <td>No</td>\n",
       "      <td>No</td>\n",
       "      <td>No phone service</td>\n",
       "      <td>DSL</td>\n",
       "      <td>No</td>\n",
       "      <td>Yes</td>\n",
       "      <td>No</td>\n",
       "      <td>No</td>\n",
       "      <td>No</td>\n",
       "      <td>No</td>\n",
       "      <td>Month-to-month</td>\n",
       "      <td>Yes</td>\n",
       "      <td>Electronic check</td>\n",
       "    </tr>\n",
       "    <tr>\n",
       "      <th>1</th>\n",
       "      <td>Male</td>\n",
       "      <td>No</td>\n",
       "      <td>No</td>\n",
       "      <td>Yes</td>\n",
       "      <td>No</td>\n",
       "      <td>DSL</td>\n",
       "      <td>Yes</td>\n",
       "      <td>No</td>\n",
       "      <td>Yes</td>\n",
       "      <td>No</td>\n",
       "      <td>No</td>\n",
       "      <td>No</td>\n",
       "      <td>One year</td>\n",
       "      <td>No</td>\n",
       "      <td>Mailed check</td>\n",
       "    </tr>\n",
       "    <tr>\n",
       "      <th>2</th>\n",
       "      <td>Male</td>\n",
       "      <td>No</td>\n",
       "      <td>No</td>\n",
       "      <td>Yes</td>\n",
       "      <td>No</td>\n",
       "      <td>DSL</td>\n",
       "      <td>Yes</td>\n",
       "      <td>Yes</td>\n",
       "      <td>No</td>\n",
       "      <td>No</td>\n",
       "      <td>No</td>\n",
       "      <td>No</td>\n",
       "      <td>Month-to-month</td>\n",
       "      <td>Yes</td>\n",
       "      <td>Mailed check</td>\n",
       "    </tr>\n",
       "    <tr>\n",
       "      <th>3</th>\n",
       "      <td>Male</td>\n",
       "      <td>No</td>\n",
       "      <td>No</td>\n",
       "      <td>No</td>\n",
       "      <td>No phone service</td>\n",
       "      <td>DSL</td>\n",
       "      <td>Yes</td>\n",
       "      <td>No</td>\n",
       "      <td>Yes</td>\n",
       "      <td>Yes</td>\n",
       "      <td>No</td>\n",
       "      <td>No</td>\n",
       "      <td>One year</td>\n",
       "      <td>No</td>\n",
       "      <td>Bank transfer (automatic)</td>\n",
       "    </tr>\n",
       "    <tr>\n",
       "      <th>4</th>\n",
       "      <td>Female</td>\n",
       "      <td>No</td>\n",
       "      <td>No</td>\n",
       "      <td>Yes</td>\n",
       "      <td>No</td>\n",
       "      <td>Fiber optic</td>\n",
       "      <td>No</td>\n",
       "      <td>No</td>\n",
       "      <td>No</td>\n",
       "      <td>No</td>\n",
       "      <td>No</td>\n",
       "      <td>No</td>\n",
       "      <td>Month-to-month</td>\n",
       "      <td>Yes</td>\n",
       "      <td>Electronic check</td>\n",
       "    </tr>\n",
       "  </tbody>\n",
       "</table>\n",
       "</div>"
      ],
      "text/plain": [
       "   gender Partner Dependents PhoneService     MultipleLines InternetService  \\\n",
       "0  Female     Yes         No           No  No phone service             DSL   \n",
       "1    Male      No         No          Yes                No             DSL   \n",
       "2    Male      No         No          Yes                No             DSL   \n",
       "3    Male      No         No           No  No phone service             DSL   \n",
       "4  Female      No         No          Yes                No     Fiber optic   \n",
       "\n",
       "  OnlineSecurity OnlineBackup DeviceProtection TechSupport StreamingTV  \\\n",
       "0             No          Yes               No          No          No   \n",
       "1            Yes           No              Yes          No          No   \n",
       "2            Yes          Yes               No          No          No   \n",
       "3            Yes           No              Yes         Yes          No   \n",
       "4             No           No               No          No          No   \n",
       "\n",
       "  StreamingMovies        Contract PaperlessBilling              PaymentMethod  \n",
       "0              No  Month-to-month              Yes           Electronic check  \n",
       "1              No        One year               No               Mailed check  \n",
       "2              No  Month-to-month              Yes               Mailed check  \n",
       "3              No        One year               No  Bank transfer (automatic)  \n",
       "4              No  Month-to-month              Yes           Electronic check  "
      ]
     },
     "execution_count": 37,
     "metadata": {},
     "output_type": "execute_result"
    }
   ],
   "source": [
    "char.head()"
   ]
  },
  {
   "cell_type": "markdown",
   "metadata": {},
   "source": [
    "### Dropping indicator feature from num to form a separate DF"
   ]
  },
  {
   "cell_type": "code",
   "execution_count": 38,
   "metadata": {
    "ExecuteTime": {
     "end_time": "2021-07-03T09:22:14.733887Z",
     "start_time": "2021-07-03T09:22:14.713859Z"
    }
   },
   "outputs": [],
   "source": [
    "# for better data processing we're seperating the the indicator feature in a separate dataframe\n",
    "\n",
    "ind=num[['SeniorCitizen']]\n",
    "num.drop(['SeniorCitizen'],axis=1,inplace=True)"
   ]
  },
  {
   "cell_type": "markdown",
   "metadata": {
    "ExecuteTime": {
     "end_time": "2021-07-03T09:22:17.033312Z",
     "start_time": "2021-07-03T09:22:17.013339Z"
    }
   },
   "source": [
    "## Outlier analysis of numerical features"
   ]
  },
  {
   "cell_type": "code",
   "execution_count": 40,
   "metadata": {
    "ExecuteTime": {
     "end_time": "2021-07-04T08:46:26.558850Z",
     "start_time": "2021-07-04T08:46:23.634814Z"
    }
   },
   "outputs": [
    {
     "data": {
      "text/html": [
       "<div>\n",
       "<style scoped>\n",
       "    .dataframe tbody tr th:only-of-type {\n",
       "        vertical-align: middle;\n",
       "    }\n",
       "\n",
       "    .dataframe tbody tr th {\n",
       "        vertical-align: top;\n",
       "    }\n",
       "\n",
       "    .dataframe thead th {\n",
       "        text-align: right;\n",
       "    }\n",
       "</style>\n",
       "<table border=\"1\" class=\"dataframe\">\n",
       "  <thead>\n",
       "    <tr style=\"text-align: right;\">\n",
       "      <th></th>\n",
       "      <th>tenure</th>\n",
       "      <th>MonthlyCharges</th>\n",
       "      <th>TotalCharges</th>\n",
       "    </tr>\n",
       "  </thead>\n",
       "  <tbody>\n",
       "    <tr>\n",
       "      <th>count</th>\n",
       "      <td>7043.000000</td>\n",
       "      <td>7043.000000</td>\n",
       "      <td>7043.000000</td>\n",
       "    </tr>\n",
       "    <tr>\n",
       "      <th>mean</th>\n",
       "      <td>32.371149</td>\n",
       "      <td>64.761692</td>\n",
       "      <td>2279.798992</td>\n",
       "    </tr>\n",
       "    <tr>\n",
       "      <th>std</th>\n",
       "      <td>24.559481</td>\n",
       "      <td>30.090047</td>\n",
       "      <td>2266.730170</td>\n",
       "    </tr>\n",
       "    <tr>\n",
       "      <th>min</th>\n",
       "      <td>0.000000</td>\n",
       "      <td>18.250000</td>\n",
       "      <td>18.800000</td>\n",
       "    </tr>\n",
       "    <tr>\n",
       "      <th>1%</th>\n",
       "      <td>1.000000</td>\n",
       "      <td>19.200000</td>\n",
       "      <td>19.871000</td>\n",
       "    </tr>\n",
       "    <tr>\n",
       "      <th>5%</th>\n",
       "      <td>1.000000</td>\n",
       "      <td>19.650000</td>\n",
       "      <td>49.070000</td>\n",
       "    </tr>\n",
       "    <tr>\n",
       "      <th>10%</th>\n",
       "      <td>2.000000</td>\n",
       "      <td>20.050000</td>\n",
       "      <td>83.470000</td>\n",
       "    </tr>\n",
       "    <tr>\n",
       "      <th>25%</th>\n",
       "      <td>9.000000</td>\n",
       "      <td>35.500000</td>\n",
       "      <td>398.550000</td>\n",
       "    </tr>\n",
       "    <tr>\n",
       "      <th>50%</th>\n",
       "      <td>29.000000</td>\n",
       "      <td>70.350000</td>\n",
       "      <td>1394.550000</td>\n",
       "    </tr>\n",
       "    <tr>\n",
       "      <th>75%</th>\n",
       "      <td>55.000000</td>\n",
       "      <td>89.850000</td>\n",
       "      <td>3786.600000</td>\n",
       "    </tr>\n",
       "    <tr>\n",
       "      <th>85%</th>\n",
       "      <td>65.000000</td>\n",
       "      <td>98.550000</td>\n",
       "      <td>5195.485000</td>\n",
       "    </tr>\n",
       "    <tr>\n",
       "      <th>90%</th>\n",
       "      <td>69.000000</td>\n",
       "      <td>102.600000</td>\n",
       "      <td>5973.690000</td>\n",
       "    </tr>\n",
       "    <tr>\n",
       "      <th>99%</th>\n",
       "      <td>72.000000</td>\n",
       "      <td>114.729000</td>\n",
       "      <td>8039.256000</td>\n",
       "    </tr>\n",
       "    <tr>\n",
       "      <th>max</th>\n",
       "      <td>72.000000</td>\n",
       "      <td>118.750000</td>\n",
       "      <td>8684.800000</td>\n",
       "    </tr>\n",
       "  </tbody>\n",
       "</table>\n",
       "</div>"
      ],
      "text/plain": [
       "            tenure  MonthlyCharges  TotalCharges\n",
       "count  7043.000000     7043.000000   7043.000000\n",
       "mean     32.371149       64.761692   2279.798992\n",
       "std      24.559481       30.090047   2266.730170\n",
       "min       0.000000       18.250000     18.800000\n",
       "1%        1.000000       19.200000     19.871000\n",
       "5%        1.000000       19.650000     49.070000\n",
       "10%       2.000000       20.050000     83.470000\n",
       "25%       9.000000       35.500000    398.550000\n",
       "50%      29.000000       70.350000   1394.550000\n",
       "75%      55.000000       89.850000   3786.600000\n",
       "85%      65.000000       98.550000   5195.485000\n",
       "90%      69.000000      102.600000   5973.690000\n",
       "99%      72.000000      114.729000   8039.256000\n",
       "max      72.000000      118.750000   8684.800000"
      ]
     },
     "execution_count": 40,
     "metadata": {},
     "output_type": "execute_result"
    }
   ],
   "source": [
    "num.describe(percentiles=[0.01,0.05,0.10,0.25,0.50,0.75,0.85,0.90,0.99])\n",
    "\n",
    "# here we can see that difference between 99% and max is quite considerable,hence we will cap in\n",
    "# there is also some difference though not huge between min and 1%, we'll cap that as well, however we may choose not to"
   ]
  },
  {
   "cell_type": "markdown",
   "metadata": {},
   "source": [
    "## Capping and  Flooring outliers"
   ]
  },
  {
   "cell_type": "code",
   "execution_count": 44,
   "metadata": {
    "ExecuteTime": {
     "end_time": "2021-07-04T08:55:18.552660Z",
     "start_time": "2021-07-04T08:55:18.538660Z"
    }
   },
   "outputs": [],
   "source": [
    "def outlier_cap(x):\n",
    "    x=x.clip(lower=x.quantile(0.01))\n",
    "    x=x.clip(upper=x.quantile(0.99))\n",
    "    return(x)"
   ]
  },
  {
   "cell_type": "code",
   "execution_count": 45,
   "metadata": {
    "ExecuteTime": {
     "end_time": "2021-07-04T08:55:20.312385Z",
     "start_time": "2021-07-04T08:55:20.174093Z"
    }
   },
   "outputs": [],
   "source": [
    "num=num.apply(lambda x:outlier_cap(x))"
   ]
  },
  {
   "cell_type": "code",
   "execution_count": 46,
   "metadata": {
    "ExecuteTime": {
     "end_time": "2021-07-04T08:55:21.158125Z",
     "start_time": "2021-07-04T08:55:20.967091Z"
    }
   },
   "outputs": [
    {
     "data": {
      "text/html": [
       "<div>\n",
       "<style scoped>\n",
       "    .dataframe tbody tr th:only-of-type {\n",
       "        vertical-align: middle;\n",
       "    }\n",
       "\n",
       "    .dataframe tbody tr th {\n",
       "        vertical-align: top;\n",
       "    }\n",
       "\n",
       "    .dataframe thead th {\n",
       "        text-align: right;\n",
       "    }\n",
       "</style>\n",
       "<table border=\"1\" class=\"dataframe\">\n",
       "  <thead>\n",
       "    <tr style=\"text-align: right;\">\n",
       "      <th></th>\n",
       "      <th>tenure</th>\n",
       "      <th>MonthlyCharges</th>\n",
       "      <th>TotalCharges</th>\n",
       "    </tr>\n",
       "  </thead>\n",
       "  <tbody>\n",
       "    <tr>\n",
       "      <th>count</th>\n",
       "      <td>7043.000000</td>\n",
       "      <td>7043.000000</td>\n",
       "      <td>7043.000000</td>\n",
       "    </tr>\n",
       "    <tr>\n",
       "      <th>mean</th>\n",
       "      <td>32.372710</td>\n",
       "      <td>64.749689</td>\n",
       "      <td>2277.243530</td>\n",
       "    </tr>\n",
       "    <tr>\n",
       "      <th>std</th>\n",
       "      <td>24.557454</td>\n",
       "      <td>30.062810</td>\n",
       "      <td>2260.002195</td>\n",
       "    </tr>\n",
       "    <tr>\n",
       "      <th>min</th>\n",
       "      <td>1.000000</td>\n",
       "      <td>19.200000</td>\n",
       "      <td>19.883180</td>\n",
       "    </tr>\n",
       "    <tr>\n",
       "      <th>1%</th>\n",
       "      <td>1.000000</td>\n",
       "      <td>19.200000</td>\n",
       "      <td>19.890244</td>\n",
       "    </tr>\n",
       "    <tr>\n",
       "      <th>5%</th>\n",
       "      <td>1.000000</td>\n",
       "      <td>19.650000</td>\n",
       "      <td>49.070000</td>\n",
       "    </tr>\n",
       "    <tr>\n",
       "      <th>10%</th>\n",
       "      <td>2.000000</td>\n",
       "      <td>20.050000</td>\n",
       "      <td>83.470000</td>\n",
       "    </tr>\n",
       "    <tr>\n",
       "      <th>25%</th>\n",
       "      <td>9.000000</td>\n",
       "      <td>35.500000</td>\n",
       "      <td>398.550000</td>\n",
       "    </tr>\n",
       "    <tr>\n",
       "      <th>50%</th>\n",
       "      <td>29.000000</td>\n",
       "      <td>70.350000</td>\n",
       "      <td>1394.550000</td>\n",
       "    </tr>\n",
       "    <tr>\n",
       "      <th>75%</th>\n",
       "      <td>55.000000</td>\n",
       "      <td>89.850000</td>\n",
       "      <td>3786.600000</td>\n",
       "    </tr>\n",
       "    <tr>\n",
       "      <th>85%</th>\n",
       "      <td>65.000000</td>\n",
       "      <td>98.550000</td>\n",
       "      <td>5195.485000</td>\n",
       "    </tr>\n",
       "    <tr>\n",
       "      <th>90%</th>\n",
       "      <td>69.000000</td>\n",
       "      <td>102.600000</td>\n",
       "      <td>5973.690000</td>\n",
       "    </tr>\n",
       "    <tr>\n",
       "      <th>99%</th>\n",
       "      <td>72.000000</td>\n",
       "      <td>114.716820</td>\n",
       "      <td>8037.867480</td>\n",
       "    </tr>\n",
       "    <tr>\n",
       "      <th>max</th>\n",
       "      <td>72.000000</td>\n",
       "      <td>114.729000</td>\n",
       "      <td>8039.256000</td>\n",
       "    </tr>\n",
       "  </tbody>\n",
       "</table>\n",
       "</div>"
      ],
      "text/plain": [
       "            tenure  MonthlyCharges  TotalCharges\n",
       "count  7043.000000     7043.000000   7043.000000\n",
       "mean     32.372710       64.749689   2277.243530\n",
       "std      24.557454       30.062810   2260.002195\n",
       "min       1.000000       19.200000     19.883180\n",
       "1%        1.000000       19.200000     19.890244\n",
       "5%        1.000000       19.650000     49.070000\n",
       "10%       2.000000       20.050000     83.470000\n",
       "25%       9.000000       35.500000    398.550000\n",
       "50%      29.000000       70.350000   1394.550000\n",
       "75%      55.000000       89.850000   3786.600000\n",
       "85%      65.000000       98.550000   5195.485000\n",
       "90%      69.000000      102.600000   5973.690000\n",
       "99%      72.000000      114.716820   8037.867480\n",
       "max      72.000000      114.729000   8039.256000"
      ]
     },
     "execution_count": 46,
     "metadata": {},
     "output_type": "execute_result"
    }
   ],
   "source": [
    "num.describe(percentiles=[0.01,0.05,0.10,0.25,0.50,0.75,0.85,0.90,0.99])\n",
    "# now we see that there is no difference between 1% and minimum and 99% and max as we have capped the outliers"
   ]
  },
  {
   "cell_type": "markdown",
   "metadata": {},
   "source": [
    "### Missing value analysis"
   ]
  },
  {
   "cell_type": "code",
   "execution_count": 52,
   "metadata": {
    "ExecuteTime": {
     "end_time": "2021-07-04T09:01:24.964079Z",
     "start_time": "2021-07-04T09:01:24.949082Z"
    }
   },
   "outputs": [
    {
     "data": {
      "text/plain": [
       "tenure            0\n",
       "MonthlyCharges    0\n",
       "TotalCharges      0\n",
       "dtype: int64"
      ]
     },
     "execution_count": 52,
     "metadata": {},
     "output_type": "execute_result"
    }
   ],
   "source": [
    "num.isnull().sum()\n",
    "\n",
    "# since there is no missing value, hence imputation is not needed"
   ]
  },
  {
   "cell_type": "markdown",
   "metadata": {},
   "source": [
    "## Feature Selection- Numerical Features"
   ]
  },
  {
   "cell_type": "markdown",
   "metadata": {},
   "source": [
    "### Part 1: Remove features with zero variance"
   ]
  },
  {
   "cell_type": "code",
   "execution_count": 54,
   "metadata": {
    "ExecuteTime": {
     "end_time": "2021-07-04T09:10:08.463381Z",
     "start_time": "2021-07-04T09:10:08.302778Z"
    }
   },
   "outputs": [],
   "source": [
    "from sklearn.feature_selection import VarianceThreshold\n",
    "\n",
    "varselector=VarianceThreshold(threshold=0)\n",
    "varselector.fit_transform(num)\n",
    "\n",
    "#get columns to create a new df from only those columns\n",
    "cols=varselector.get_support(indices=True)\n",
    "num1=num.iloc[:,cols]"
   ]
  },
  {
   "cell_type": "code",
   "execution_count": 55,
   "metadata": {
    "ExecuteTime": {
     "end_time": "2021-07-04T09:10:27.664523Z",
     "start_time": "2021-07-04T09:10:27.650561Z"
    }
   },
   "outputs": [
    {
     "data": {
      "text/plain": [
       "tenure             1.00\n",
       "MonthlyCharges    29.85\n",
       "TotalCharges      29.85\n",
       "Name: 0, dtype: float64"
      ]
     },
     "execution_count": 55,
     "metadata": {},
     "output_type": "execute_result"
    }
   ],
   "source": [
    "num1.iloc[0]\n",
    "#none of the colums got dropped as none of them have zero variance"
   ]
  },
  {
   "cell_type": "markdown",
   "metadata": {},
   "source": [
    "### Part 2: Bivariate Analysis (Feature Discretization)"
   ]
  },
  {
   "cell_type": "code",
   "execution_count": 58,
   "metadata": {
    "ExecuteTime": {
     "end_time": "2021-07-04T09:17:41.053769Z",
     "start_time": "2021-07-04T09:17:40.881712Z"
    }
   },
   "outputs": [
    {
     "data": {
      "text/html": [
       "<div>\n",
       "<style scoped>\n",
       "    .dataframe tbody tr th:only-of-type {\n",
       "        vertical-align: middle;\n",
       "    }\n",
       "\n",
       "    .dataframe tbody tr th {\n",
       "        vertical-align: top;\n",
       "    }\n",
       "\n",
       "    .dataframe thead th {\n",
       "        text-align: right;\n",
       "    }\n",
       "</style>\n",
       "<table border=\"1\" class=\"dataframe\">\n",
       "  <thead>\n",
       "    <tr style=\"text-align: right;\">\n",
       "      <th></th>\n",
       "      <th>tenure_Rank</th>\n",
       "      <th>MonthlyCharges_Rank</th>\n",
       "      <th>TotalCharges_Rank</th>\n",
       "    </tr>\n",
       "  </thead>\n",
       "  <tbody>\n",
       "    <tr>\n",
       "      <th>0</th>\n",
       "      <td>0.0</td>\n",
       "      <td>2.0</td>\n",
       "      <td>0.0</td>\n",
       "    </tr>\n",
       "    <tr>\n",
       "      <th>1</th>\n",
       "      <td>5.0</td>\n",
       "      <td>3.0</td>\n",
       "      <td>5.0</td>\n",
       "    </tr>\n",
       "    <tr>\n",
       "      <th>2</th>\n",
       "      <td>1.0</td>\n",
       "      <td>3.0</td>\n",
       "      <td>1.0</td>\n",
       "    </tr>\n",
       "    <tr>\n",
       "      <th>3</th>\n",
       "      <td>6.0</td>\n",
       "      <td>2.0</td>\n",
       "      <td>5.0</td>\n",
       "    </tr>\n",
       "    <tr>\n",
       "      <th>4</th>\n",
       "      <td>1.0</td>\n",
       "      <td>5.0</td>\n",
       "      <td>1.0</td>\n",
       "    </tr>\n",
       "  </tbody>\n",
       "</table>\n",
       "</div>"
      ],
      "text/plain": [
       "   tenure_Rank  MonthlyCharges_Rank  TotalCharges_Rank\n",
       "0          0.0                  2.0                0.0\n",
       "1          5.0                  3.0                5.0\n",
       "2          1.0                  3.0                1.0\n",
       "3          6.0                  2.0                5.0\n",
       "4          1.0                  5.0                1.0"
      ]
     },
     "execution_count": 58,
     "metadata": {},
     "output_type": "execute_result"
    }
   ],
   "source": [
    "from sklearn.preprocessing import KBinsDiscretizer\n",
    "\n",
    "discrete=KBinsDiscretizer(n_bins=10,encode='ordinal',strategy='quantile')\n",
    "num_binned=pd.DataFrame(discrete.fit_transform(num1),index=num1.index,columns=num1.columns).add_suffix('_Rank')\n",
    "num_binned.head()"
   ]
  },
  {
   "cell_type": "markdown",
   "metadata": {
    "ExecuteTime": {
     "end_time": "2021-07-04T09:31:57.596585Z",
     "start_time": "2021-07-04T09:31:57.592570Z"
    }
   },
   "source": [
    "#### Understanding the predictive power of Numberical features"
   ]
  },
  {
   "cell_type": "code",
   "execution_count": 61,
   "metadata": {
    "ExecuteTime": {
     "end_time": "2021-07-04T09:33:41.615018Z",
     "start_time": "2021-07-04T09:33:32.816241Z"
    }
   },
   "outputs": [
    {
     "data": {
      "image/png": "[encoded data removed]",
      "text/plain": [
       "<Figure size 432x288 with 1 Axes>"
      ]
     },
     "metadata": {
      "needs_background": "light"
     },
     "output_type": "display_data"
    },
    {
     "data": {
      "image/png": "[encoded data removed]",
      "text/plain": [
       "<Figure size 432x288 with 1 Axes>"
      ]
     },
     "metadata": {
      "needs_background": "light"
     },
     "output_type": "display_data"
    },
    {
     "data": {
      "image/png": "[encoded data removed]",
      "text/plain": [
       "<Figure size 432x288 with 1 Axes>"
      ]
     },
     "metadata": {
      "needs_background": "light"
     },
     "output_type": "display_data"
    }
   ],
   "source": [
    "#Check if the features show a slope at all\n",
    "#If they do, then do you see some deciles below the population average and some higher than population average?\n",
    "#If that is the case then the slope will be strong\n",
    "#Conclusion: A strong slope is indicative of the features' ability to discriminate the event from non event\n",
    "#            making it a good predictor\n",
    "\n",
    "#percentage_income_goesinto_intallments=Insallment/annual_inc (Derived Variables/Feature Engineering)\n",
    "\n",
    "X_bin_combined=pd.concat([Y,num_binned],axis=1,join='inner')\n",
    "\n",
    "from numpy import mean\n",
    "\n",
    "for col in (num_binned.columns):\n",
    "    plt.figure()\n",
    "    sns.barplot(x=col,y='target',data=X_bin_combined,estimator=mean)"
   ]
  },
  {
   "cell_type": "code",
   "execution_count": 62,
   "metadata": {
    "ExecuteTime": {
     "end_time": "2021-07-04T09:39:19.962247Z",
     "start_time": "2021-07-04T09:39:19.556665Z"
    }
   },
   "outputs": [],
   "source": [
    "# All features from num1 will be selected as they have a good discrimination power\n",
    "# hence we will keep all of them and not use select k best \n",
    "\n",
    "select_features_df_num=num1"
   ]
  },
  {
   "cell_type": "code",
   "execution_count": 63,
   "metadata": {
    "ExecuteTime": {
     "end_time": "2021-07-04T09:39:33.302506Z",
     "start_time": "2021-07-04T09:39:33.286509Z"
    }
   },
   "outputs": [
    {
     "data": {
      "text/plain": [
       "(7043, 3)"
      ]
     },
     "execution_count": 63,
     "metadata": {},
     "output_type": "execute_result"
    }
   ],
   "source": [
    "select_features_df_num.shape"
   ]
  },
  {
   "cell_type": "code",
   "execution_count": null,
   "metadata": {},
   "outputs": [],
   "source": []
  },
  {
   "cell_type": "markdown",
   "metadata": {},
   "source": [
    "## Feature Selection - Categorical Features"
   ]
  },
  {
   "cell_type": "markdown",
   "metadata": {},
   "source": [
    "### Part 1: Bivariate Analysism: Understanding the predictive power of Numberical features"
   ]
  },
  {
   "cell_type": "code",
   "execution_count": 65,
   "metadata": {
    "ExecuteTime": {
     "end_time": "2021-07-04T09:54:08.010691Z",
     "start_time": "2021-07-04T09:54:04.142253Z"
    }
   },
   "outputs": [
    {
     "data": {
      "image/png": "[encoded data removed]",
      "text/plain": [
       "<Figure size 432x288 with 1 Axes>"
      ]
     },
     "metadata": {
      "needs_background": "light"
     },
     "output_type": "display_data"
    },
    {
     "data": {
      "image/png": "[encoded data removed]",
      "text/plain": [
       "<Figure size 432x288 with 1 Axes>"
      ]
     },
     "metadata": {
      "needs_background": "light"
     },
     "output_type": "display_data"
    },
    {
     "data": {
      "image/png": "[encoded data removed]",
      "text/plain": [
       "<Figure size 432x288 with 1 Axes>"
      ]
     },
     "metadata": {
      "needs_background": "light"
     },
     "output_type": "display_data"
    },
    {
     "data": {
      "image/png": "[encoded data removed]",
      "text/plain": [
       "<Figure size 432x288 with 1 Axes>"
      ]
     },
     "metadata": {
      "needs_background": "light"
     },
     "output_type": "display_data"
    },
    {
     "data": {
      "image/png": "[encoded data removed]",
      "text/plain": [
       "<Figure size 432x288 with 1 Axes>"
      ]
     },
     "metadata": {
      "needs_background": "light"
     },
     "output_type": "display_data"
    },
    {
     "data": {
      "image/png": "[encoded data removed]",
      "text/plain": [
       "<Figure size 432x288 with 1 Axes>"
      ]
     },
     "metadata": {
      "needs_background": "light"
     },
     "output_type": "display_data"
    },
    {
     "data": {
      "image/png": "[encoded data removed]",
      "text/plain": [
       "<Figure size 432x288 with 1 Axes>"
      ]
     },
     "metadata": {
      "needs_background": "light"
     },
     "output_type": "display_data"
    },
    {
     "data": {
      "image/png": "[encoded data removed]",
      "text/plain": [
       "<Figure size 432x288 with 1 Axes>"
      ]
     },
     "metadata": {
      "needs_background": "light"
     },
     "output_type": "display_data"
    },
    {
     "data": {
      "image/png": "[encoded data removed]",
      "text/plain": [
       "<Figure size 432x288 with 1 Axes>"
      ]
     },
     "metadata": {
      "needs_background": "light"
     },
     "output_type": "display_data"
    },
    {
     "data": {
      "image/png": "[encoded data removed]",
      "text/plain": [
       "<Figure size 432x288 with 1 Axes>"
      ]
     },
     "metadata": {
      "needs_background": "light"
     },
     "output_type": "display_data"
    },
    {
     "data": {
      "image/png": "[encoded data removed]",
      "text/plain": [
       "<Figure size 432x288 with 1 Axes>"
      ]
     },
     "metadata": {
      "needs_background": "light"
     },
     "output_type": "display_data"
    },
    {
     "data": {
      "image/png": "[encoded data removed]",
      "text/plain": [
       "<Figure size 432x288 with 1 Axes>"
      ]
     },
     "metadata": {
      "needs_background": "light"
     },
     "output_type": "display_data"
    },
    {
     "data": {
      "image/png": "[encoded data removed]",
      "text/plain": [
       "<Figure size 432x288 with 1 Axes>"
      ]
     },
     "metadata": {
      "needs_background": "light"
     },
     "output_type": "display_data"
    },
    {
     "data": {
      "image/png": "[encoded data removed]",
      "text/plain": [
       "<Figure size 432x288 with 1 Axes>"
      ]
     },
     "metadata": {
      "needs_background": "light"
     },
     "output_type": "display_data"
    },
    {
     "data": {
      "image/png": "[encoded data removed]",
      "text/plain": [
       "<Figure size 432x288 with 1 Axes>"
      ]
     },
     "metadata": {
      "needs_background": "light"
     },
     "output_type": "display_data"
    }
   ],
   "source": [
    "X_char_merged=pd.concat([Y,char],axis=1,join='inner')\n",
    "\n",
    "from numpy import mean\n",
    "\n",
    "for col in char.columns:\n",
    "    plt.figure()\n",
    "    sns.barplot(x=col,y='target',data=X_char_merged,estimator=mean)\n",
    "    \n",
    "\n"
   ]
  },
  {
   "cell_type": "code",
   "execution_count": 66,
   "metadata": {
    "ExecuteTime": {
     "end_time": "2021-07-04T10:02:40.585258Z",
     "start_time": "2021-07-04T10:02:40.571277Z"
    }
   },
   "outputs": [],
   "source": [
    "# dropping features that have low predictive power by using the above bar plot\n",
    "char.drop(['gender','PhoneService','MultipleLines'],axis=1,inplace=True)"
   ]
  },
  {
   "cell_type": "code",
   "execution_count": 67,
   "metadata": {
    "ExecuteTime": {
     "end_time": "2021-07-04T10:03:34.323784Z",
     "start_time": "2021-07-04T10:03:34.290872Z"
    }
   },
   "outputs": [
    {
     "data": {
      "text/plain": [
       "(7043, 22)"
      ]
     },
     "execution_count": 67,
     "metadata": {},
     "output_type": "execute_result"
    }
   ],
   "source": [
    "# create dummy features with n-1 level\n",
    "X_char_dum=pd.get_dummies(char,drop_first=True)\n",
    "X_char_dum.shape"
   ]
  },
  {
   "cell_type": "markdown",
   "metadata": {},
   "source": [
    "### Part 2: Select K Best features\n",
    "further reducing number of features"
   ]
  },
  {
   "cell_type": "code",
   "execution_count": 71,
   "metadata": {
    "ExecuteTime": {
     "end_time": "2021-07-04T10:08:28.572660Z",
     "start_time": "2021-07-04T10:08:28.136238Z"
    }
   },
   "outputs": [],
   "source": [
    "# select k best for categorical features\n",
    "\n",
    "from sklearn.feature_selection import SelectKBest,chi2\n",
    "\n",
    "selector=SelectKBest(chi2,k=20)\n",
    "selector.fit_transform(X_char_dum,Y)\n",
    "\n",
    "#get columns to create a new dataframe with the selected columns\n",
    "cols=selector.get_support(indices=True)\n",
    "select_features_df_char=X_char_dum.iloc[:,cols]"
   ]
  },
  {
   "cell_type": "code",
   "execution_count": 73,
   "metadata": {
    "ExecuteTime": {
     "end_time": "2021-07-04T10:08:51.900848Z",
     "start_time": "2021-07-04T10:08:51.894864Z"
    }
   },
   "outputs": [
    {
     "data": {
      "text/plain": [
       "Partner_Yes                              1\n",
       "Dependents_Yes                           0\n",
       "InternetService_Fiber optic              0\n",
       "InternetService_No                       0\n",
       "OnlineSecurity_No internet service       0\n",
       "OnlineSecurity_Yes                       0\n",
       "OnlineBackup_No internet service         0\n",
       "OnlineBackup_Yes                         1\n",
       "DeviceProtection_No internet service     0\n",
       "DeviceProtection_Yes                     0\n",
       "TechSupport_No internet service          0\n",
       "TechSupport_Yes                          0\n",
       "StreamingTV_No internet service          0\n",
       "StreamingMovies_No internet service      0\n",
       "Contract_One year                        0\n",
       "Contract_Two year                        0\n",
       "PaperlessBilling_Yes                     1\n",
       "PaymentMethod_Credit card (automatic)    0\n",
       "PaymentMethod_Electronic check           1\n",
       "PaymentMethod_Mailed check               0\n",
       "Name: 0, dtype: uint8"
      ]
     },
     "execution_count": 73,
     "metadata": {},
     "output_type": "execute_result"
    }
   ],
   "source": [
    "select_features_df_char.iloc[0]"
   ]
  },
  {
   "cell_type": "code",
   "execution_count": null,
   "metadata": {},
   "outputs": [],
   "source": []
  },
  {
   "cell_type": "markdown",
   "metadata": {},
   "source": [
    "## Feature Selection: Numerical Indicator Feature"
   ]
  },
  {
   "cell_type": "code",
   "execution_count": 74,
   "metadata": {
    "ExecuteTime": {
     "end_time": "2021-07-04T10:12:02.632174Z",
     "start_time": "2021-07-04T10:12:02.409975Z"
    }
   },
   "outputs": [
    {
     "data": {
      "image/png": "[encoded data removed]",
      "text/plain": [
       "<Figure size 432x288 with 1 Axes>"
      ]
     },
     "metadata": {
      "needs_background": "light"
     },
     "output_type": "display_data"
    }
   ],
   "source": [
    "X_ind_merged=pd.concat([Y,ind],axis=1,join='inner')\n",
    "\n",
    "for col in ind.columns:\n",
    "    plt.figure()\n",
    "    sns.barplot(x=col,y='target',data=X_ind_merged,estimator=mean)"
   ]
  },
  {
   "cell_type": "code",
   "execution_count": 75,
   "metadata": {
    "ExecuteTime": {
     "end_time": "2021-07-04T10:12:41.295766Z",
     "start_time": "2021-07-04T10:12:41.192045Z"
    }
   },
   "outputs": [],
   "source": [
    "select_features_df_ind=ind"
   ]
  },
  {
   "cell_type": "code",
   "execution_count": null,
   "metadata": {},
   "outputs": [],
   "source": []
  },
  {
   "cell_type": "markdown",
   "metadata": {},
   "source": [
    "## Creating a  Master Feature Set for Model Development"
   ]
  },
  {
   "cell_type": "code",
   "execution_count": 77,
   "metadata": {
    "ExecuteTime": {
     "end_time": "2021-07-04T10:14:57.024009Z",
     "start_time": "2021-07-04T10:14:57.003996Z"
    }
   },
   "outputs": [],
   "source": [
    "X_all=pd.concat([select_features_df_num, select_features_df_char,select_features_df_ind],axis=1,join='inner')\n"
   ]
  },
  {
   "cell_type": "code",
   "execution_count": 89,
   "metadata": {
    "ExecuteTime": {
     "end_time": "2021-07-04T10:23:49.393432Z",
     "start_time": "2021-07-04T10:23:48.917139Z"
    }
   },
   "outputs": [
    {
     "data": {
      "text/html": [
       "<div>\n",
       "<style scoped>\n",
       "    .dataframe tbody tr th:only-of-type {\n",
       "        vertical-align: middle;\n",
       "    }\n",
       "\n",
       "    .dataframe tbody tr th {\n",
       "        vertical-align: top;\n",
       "    }\n",
       "\n",
       "    .dataframe thead th {\n",
       "        text-align: right;\n",
       "    }\n",
       "</style>\n",
       "<table border=\"1\" class=\"dataframe\">\n",
       "  <thead>\n",
       "    <tr style=\"text-align: right;\">\n",
       "      <th></th>\n",
       "      <th>tenure</th>\n",
       "      <th>MonthlyCharges</th>\n",
       "      <th>TotalCharges</th>\n",
       "      <th>Partner_Yes</th>\n",
       "      <th>Dependents_Yes</th>\n",
       "      <th>InternetService_Fiber optic</th>\n",
       "      <th>InternetService_No</th>\n",
       "      <th>OnlineSecurity_No internet service</th>\n",
       "      <th>OnlineSecurity_Yes</th>\n",
       "      <th>OnlineBackup_No internet service</th>\n",
       "      <th>...</th>\n",
       "      <th>TechSupport_Yes</th>\n",
       "      <th>StreamingTV_No internet service</th>\n",
       "      <th>StreamingMovies_No internet service</th>\n",
       "      <th>Contract_One year</th>\n",
       "      <th>Contract_Two year</th>\n",
       "      <th>PaperlessBilling_Yes</th>\n",
       "      <th>PaymentMethod_Credit card (automatic)</th>\n",
       "      <th>PaymentMethod_Electronic check</th>\n",
       "      <th>PaymentMethod_Mailed check</th>\n",
       "      <th>SeniorCitizen</th>\n",
       "    </tr>\n",
       "  </thead>\n",
       "  <tbody>\n",
       "    <tr>\n",
       "      <th>count</th>\n",
       "      <td>7043.000000</td>\n",
       "      <td>7043.000000</td>\n",
       "      <td>7043.000000</td>\n",
       "      <td>7043.000000</td>\n",
       "      <td>7043.000000</td>\n",
       "      <td>7043.000000</td>\n",
       "      <td>7043.000000</td>\n",
       "      <td>7043.000000</td>\n",
       "      <td>7043.000000</td>\n",
       "      <td>7043.000000</td>\n",
       "      <td>...</td>\n",
       "      <td>7043.000000</td>\n",
       "      <td>7043.000000</td>\n",
       "      <td>7043.000000</td>\n",
       "      <td>7043.000000</td>\n",
       "      <td>7043.000000</td>\n",
       "      <td>7043.000000</td>\n",
       "      <td>7043.000000</td>\n",
       "      <td>7043.000000</td>\n",
       "      <td>7043.000000</td>\n",
       "      <td>7043.000000</td>\n",
       "    </tr>\n",
       "    <tr>\n",
       "      <th>mean</th>\n",
       "      <td>32.372710</td>\n",
       "      <td>64.749689</td>\n",
       "      <td>2277.243530</td>\n",
       "      <td>0.483033</td>\n",
       "      <td>0.299588</td>\n",
       "      <td>0.439585</td>\n",
       "      <td>0.216669</td>\n",
       "      <td>0.216669</td>\n",
       "      <td>0.286668</td>\n",
       "      <td>0.216669</td>\n",
       "      <td>...</td>\n",
       "      <td>0.290217</td>\n",
       "      <td>0.216669</td>\n",
       "      <td>0.216669</td>\n",
       "      <td>0.209144</td>\n",
       "      <td>0.240664</td>\n",
       "      <td>0.592219</td>\n",
       "      <td>0.216101</td>\n",
       "      <td>0.335794</td>\n",
       "      <td>0.228880</td>\n",
       "      <td>0.162147</td>\n",
       "    </tr>\n",
       "    <tr>\n",
       "      <th>std</th>\n",
       "      <td>24.557454</td>\n",
       "      <td>30.062810</td>\n",
       "      <td>2260.002195</td>\n",
       "      <td>0.499748</td>\n",
       "      <td>0.458110</td>\n",
       "      <td>0.496372</td>\n",
       "      <td>0.412004</td>\n",
       "      <td>0.412004</td>\n",
       "      <td>0.452237</td>\n",
       "      <td>0.412004</td>\n",
       "      <td>...</td>\n",
       "      <td>0.453895</td>\n",
       "      <td>0.412004</td>\n",
       "      <td>0.412004</td>\n",
       "      <td>0.406726</td>\n",
       "      <td>0.427517</td>\n",
       "      <td>0.491457</td>\n",
       "      <td>0.411613</td>\n",
       "      <td>0.472301</td>\n",
       "      <td>0.420141</td>\n",
       "      <td>0.368612</td>\n",
       "    </tr>\n",
       "    <tr>\n",
       "      <th>min</th>\n",
       "      <td>1.000000</td>\n",
       "      <td>19.200000</td>\n",
       "      <td>19.883180</td>\n",
       "      <td>0.000000</td>\n",
       "      <td>0.000000</td>\n",
       "      <td>0.000000</td>\n",
       "      <td>0.000000</td>\n",
       "      <td>0.000000</td>\n",
       "      <td>0.000000</td>\n",
       "      <td>0.000000</td>\n",
       "      <td>...</td>\n",
       "      <td>0.000000</td>\n",
       "      <td>0.000000</td>\n",
       "      <td>0.000000</td>\n",
       "      <td>0.000000</td>\n",
       "      <td>0.000000</td>\n",
       "      <td>0.000000</td>\n",
       "      <td>0.000000</td>\n",
       "      <td>0.000000</td>\n",
       "      <td>0.000000</td>\n",
       "      <td>0.000000</td>\n",
       "    </tr>\n",
       "    <tr>\n",
       "      <th>25%</th>\n",
       "      <td>9.000000</td>\n",
       "      <td>35.500000</td>\n",
       "      <td>398.550000</td>\n",
       "      <td>0.000000</td>\n",
       "      <td>0.000000</td>\n",
       "      <td>0.000000</td>\n",
       "      <td>0.000000</td>\n",
       "      <td>0.000000</td>\n",
       "      <td>0.000000</td>\n",
       "      <td>0.000000</td>\n",
       "      <td>...</td>\n",
       "      <td>0.000000</td>\n",
       "      <td>0.000000</td>\n",
       "      <td>0.000000</td>\n",
       "      <td>0.000000</td>\n",
       "      <td>0.000000</td>\n",
       "      <td>0.000000</td>\n",
       "      <td>0.000000</td>\n",
       "      <td>0.000000</td>\n",
       "      <td>0.000000</td>\n",
       "      <td>0.000000</td>\n",
       "    </tr>\n",
       "    <tr>\n",
       "      <th>50%</th>\n",
       "      <td>29.000000</td>\n",
       "      <td>70.350000</td>\n",
       "      <td>1394.550000</td>\n",
       "      <td>0.000000</td>\n",
       "      <td>0.000000</td>\n",
       "      <td>0.000000</td>\n",
       "      <td>0.000000</td>\n",
       "      <td>0.000000</td>\n",
       "      <td>0.000000</td>\n",
       "      <td>0.000000</td>\n",
       "      <td>...</td>\n",
       "      <td>0.000000</td>\n",
       "      <td>0.000000</td>\n",
       "      <td>0.000000</td>\n",
       "      <td>0.000000</td>\n",
       "      <td>0.000000</td>\n",
       "      <td>1.000000</td>\n",
       "      <td>0.000000</td>\n",
       "      <td>0.000000</td>\n",
       "      <td>0.000000</td>\n",
       "      <td>0.000000</td>\n",
       "    </tr>\n",
       "    <tr>\n",
       "      <th>75%</th>\n",
       "      <td>55.000000</td>\n",
       "      <td>89.850000</td>\n",
       "      <td>3786.600000</td>\n",
       "      <td>1.000000</td>\n",
       "      <td>1.000000</td>\n",
       "      <td>1.000000</td>\n",
       "      <td>0.000000</td>\n",
       "      <td>0.000000</td>\n",
       "      <td>1.000000</td>\n",
       "      <td>0.000000</td>\n",
       "      <td>...</td>\n",
       "      <td>1.000000</td>\n",
       "      <td>0.000000</td>\n",
       "      <td>0.000000</td>\n",
       "      <td>0.000000</td>\n",
       "      <td>0.000000</td>\n",
       "      <td>1.000000</td>\n",
       "      <td>0.000000</td>\n",
       "      <td>1.000000</td>\n",
       "      <td>0.000000</td>\n",
       "      <td>0.000000</td>\n",
       "    </tr>\n",
       "    <tr>\n",
       "      <th>max</th>\n",
       "      <td>72.000000</td>\n",
       "      <td>114.729000</td>\n",
       "      <td>8039.256000</td>\n",
       "      <td>1.000000</td>\n",
       "      <td>1.000000</td>\n",
       "      <td>1.000000</td>\n",
       "      <td>1.000000</td>\n",
       "      <td>1.000000</td>\n",
       "      <td>1.000000</td>\n",
       "      <td>1.000000</td>\n",
       "      <td>...</td>\n",
       "      <td>1.000000</td>\n",
       "      <td>1.000000</td>\n",
       "      <td>1.000000</td>\n",
       "      <td>1.000000</td>\n",
       "      <td>1.000000</td>\n",
       "      <td>1.000000</td>\n",
       "      <td>1.000000</td>\n",
       "      <td>1.000000</td>\n",
       "      <td>1.000000</td>\n",
       "      <td>1.000000</td>\n",
       "    </tr>\n",
       "  </tbody>\n",
       "</table>\n",
       "<p>8 rows × 24 columns</p>\n",
       "</div>"
      ],
      "text/plain": [
       "            tenure  MonthlyCharges  TotalCharges  Partner_Yes  Dependents_Yes  \\\n",
       "count  7043.000000     7043.000000   7043.000000  7043.000000     7043.000000   \n",
       "mean     32.372710       64.749689   2277.243530     0.483033        0.299588   \n",
       "std      24.557454       30.062810   2260.002195     0.499748        0.458110   \n",
       "min       1.000000       19.200000     19.883180     0.000000        0.000000   \n",
       "25%       9.000000       35.500000    398.550000     0.000000        0.000000   \n",
       "50%      29.000000       70.350000   1394.550000     0.000000        0.000000   \n",
       "75%      55.000000       89.850000   3786.600000     1.000000        1.000000   \n",
       "max      72.000000      114.729000   8039.256000     1.000000        1.000000   \n",
       "\n",
       "       InternetService_Fiber optic  InternetService_No  \\\n",
       "count                  7043.000000         7043.000000   \n",
       "mean                      0.439585            0.216669   \n",
       "std                       0.496372            0.412004   \n",
       "min                       0.000000            0.000000   \n",
       "25%                       0.000000            0.000000   \n",
       "50%                       0.000000            0.000000   \n",
       "75%                       1.000000            0.000000   \n",
       "max                       1.000000            1.000000   \n",
       "\n",
       "       OnlineSecurity_No internet service  OnlineSecurity_Yes  \\\n",
       "count                         7043.000000         7043.000000   \n",
       "mean                             0.216669            0.286668   \n",
       "std                              0.412004            0.452237   \n",
       "min                              0.000000            0.000000   \n",
       "25%                              0.000000            0.000000   \n",
       "50%                              0.000000            0.000000   \n",
       "75%                              0.000000            1.000000   \n",
       "max                              1.000000            1.000000   \n",
       "\n",
       "       OnlineBackup_No internet service  ...  TechSupport_Yes  \\\n",
       "count                       7043.000000  ...      7043.000000   \n",
       "mean                           0.216669  ...         0.290217   \n",
       "std                            0.412004  ...         0.453895   \n",
       "min                            0.000000  ...         0.000000   \n",
       "25%                            0.000000  ...         0.000000   \n",
       "50%                            0.000000  ...         0.000000   \n",
       "75%                            0.000000  ...         1.000000   \n",
       "max                            1.000000  ...         1.000000   \n",
       "\n",
       "       StreamingTV_No internet service  StreamingMovies_No internet service  \\\n",
       "count                      7043.000000                          7043.000000   \n",
       "mean                          0.216669                             0.216669   \n",
       "std                           0.412004                             0.412004   \n",
       "min                           0.000000                             0.000000   \n",
       "25%                           0.000000                             0.000000   \n",
       "50%                           0.000000                             0.000000   \n",
       "75%                           0.000000                             0.000000   \n",
       "max                           1.000000                             1.000000   \n",
       "\n",
       "       Contract_One year  Contract_Two year  PaperlessBilling_Yes  \\\n",
       "count        7043.000000        7043.000000           7043.000000   \n",
       "mean            0.209144           0.240664              0.592219   \n",
       "std             0.406726           0.427517              0.491457   \n",
       "min             0.000000           0.000000              0.000000   \n",
       "25%             0.000000           0.000000              0.000000   \n",
       "50%             0.000000           0.000000              1.000000   \n",
       "75%             0.000000           0.000000              1.000000   \n",
       "max             1.000000           1.000000              1.000000   \n",
       "\n",
       "       PaymentMethod_Credit card (automatic)  PaymentMethod_Electronic check  \\\n",
       "count                            7043.000000                     7043.000000   \n",
       "mean                                0.216101                        0.335794   \n",
       "std                                 0.411613                        0.472301   \n",
       "min                                 0.000000                        0.000000   \n",
       "25%                                 0.000000                        0.000000   \n",
       "50%                                 0.000000                        0.000000   \n",
       "75%                                 0.000000                        1.000000   \n",
       "max                                 1.000000                        1.000000   \n",
       "\n",
       "       PaymentMethod_Mailed check  SeniorCitizen  \n",
       "count                 7043.000000    7043.000000  \n",
       "mean                     0.228880       0.162147  \n",
       "std                      0.420141       0.368612  \n",
       "min                      0.000000       0.000000  \n",
       "25%                      0.000000       0.000000  \n",
       "50%                      0.000000       0.000000  \n",
       "75%                      0.000000       0.000000  \n",
       "max                      1.000000       1.000000  \n",
       "\n",
       "[8 rows x 24 columns]"
      ]
     },
     "execution_count": 89,
     "metadata": {},
     "output_type": "execute_result"
    }
   ],
   "source": [
    "#min max and mean of X before splitting\n",
    "X_all.describe()"
   ]
  },
  {
   "cell_type": "code",
   "execution_count": 84,
   "metadata": {
    "ExecuteTime": {
     "end_time": "2021-07-04T10:18:45.086645Z",
     "start_time": "2021-07-04T10:18:45.078646Z"
    }
   },
   "outputs": [
    {
     "data": {
      "text/plain": [
       "0.2653698707936959"
      ]
     },
     "execution_count": 84,
     "metadata": {},
     "output_type": "execute_result"
    }
   ],
   "source": [
    "# event rate before splitting\n",
    "Y['target'].mean()"
   ]
  },
  {
   "cell_type": "markdown",
   "metadata": {},
   "source": [
    "## Train Test Split"
   ]
  },
  {
   "cell_type": "code",
   "execution_count": 83,
   "metadata": {
    "ExecuteTime": {
     "end_time": "2021-07-04T10:17:48.511905Z",
     "start_time": "2021-07-04T10:17:48.373012Z"
    }
   },
   "outputs": [],
   "source": [
    "from sklearn.model_selection import train_test_split\n",
    "\n",
    "X_train,X_test,y_train,y_test=train_test_split(X_all,Y,test_size=0.3,random_state=10)"
   ]
  },
  {
   "cell_type": "markdown",
   "metadata": {},
   "source": []
  },
  {
   "cell_type": "markdown",
   "metadata": {},
   "source": [
    "#### Verifying the Split data is properly seperated"
   ]
  },
  {
   "cell_type": "code",
   "execution_count": 88,
   "metadata": {
    "ExecuteTime": {
     "end_time": "2021-07-04T10:20:45.715483Z",
     "start_time": "2021-07-04T10:20:45.691470Z"
    }
   },
   "outputs": [
    {
     "name": "stdout",
     "output_type": "stream",
     "text": [
      "target    0.266126\n",
      "dtype: float64\n",
      "target    0.263606\n",
      "dtype: float64\n"
     ]
    }
   ],
   "source": [
    "### Event rate after splitting\n",
    "\n",
    "print(y_train.mean())\n",
    "\n",
    "print(y_test.mean())"
   ]
  },
  {
   "cell_type": "code",
   "execution_count": 90,
   "metadata": {
    "ExecuteTime": {
     "end_time": "2021-07-04T10:24:52.895938Z",
     "start_time": "2021-07-04T10:24:52.807941Z"
    }
   },
   "outputs": [
    {
     "data": {
      "text/html": [
       "<div>\n",
       "<style scoped>\n",
       "    .dataframe tbody tr th:only-of-type {\n",
       "        vertical-align: middle;\n",
       "    }\n",
       "\n",
       "    .dataframe tbody tr th {\n",
       "        vertical-align: top;\n",
       "    }\n",
       "\n",
       "    .dataframe thead th {\n",
       "        text-align: right;\n",
       "    }\n",
       "</style>\n",
       "<table border=\"1\" class=\"dataframe\">\n",
       "  <thead>\n",
       "    <tr style=\"text-align: right;\">\n",
       "      <th></th>\n",
       "      <th>tenure</th>\n",
       "      <th>MonthlyCharges</th>\n",
       "      <th>TotalCharges</th>\n",
       "      <th>Partner_Yes</th>\n",
       "      <th>Dependents_Yes</th>\n",
       "      <th>InternetService_Fiber optic</th>\n",
       "      <th>InternetService_No</th>\n",
       "      <th>OnlineSecurity_No internet service</th>\n",
       "      <th>OnlineSecurity_Yes</th>\n",
       "      <th>OnlineBackup_No internet service</th>\n",
       "      <th>...</th>\n",
       "      <th>TechSupport_Yes</th>\n",
       "      <th>StreamingTV_No internet service</th>\n",
       "      <th>StreamingMovies_No internet service</th>\n",
       "      <th>Contract_One year</th>\n",
       "      <th>Contract_Two year</th>\n",
       "      <th>PaperlessBilling_Yes</th>\n",
       "      <th>PaymentMethod_Credit card (automatic)</th>\n",
       "      <th>PaymentMethod_Electronic check</th>\n",
       "      <th>PaymentMethod_Mailed check</th>\n",
       "      <th>SeniorCitizen</th>\n",
       "    </tr>\n",
       "  </thead>\n",
       "  <tbody>\n",
       "    <tr>\n",
       "      <th>count</th>\n",
       "      <td>4930.000000</td>\n",
       "      <td>4930.000000</td>\n",
       "      <td>4930.000000</td>\n",
       "      <td>4930.000000</td>\n",
       "      <td>4930.000000</td>\n",
       "      <td>4930.000000</td>\n",
       "      <td>4930.000000</td>\n",
       "      <td>4930.000000</td>\n",
       "      <td>4930.000000</td>\n",
       "      <td>4930.000000</td>\n",
       "      <td>...</td>\n",
       "      <td>4930.000000</td>\n",
       "      <td>4930.000000</td>\n",
       "      <td>4930.000000</td>\n",
       "      <td>4930.000000</td>\n",
       "      <td>4930.000000</td>\n",
       "      <td>4930.000000</td>\n",
       "      <td>4930.000000</td>\n",
       "      <td>4930.000000</td>\n",
       "      <td>4930.000000</td>\n",
       "      <td>4930.000000</td>\n",
       "    </tr>\n",
       "    <tr>\n",
       "      <th>mean</th>\n",
       "      <td>32.450507</td>\n",
       "      <td>64.918146</td>\n",
       "      <td>2285.482546</td>\n",
       "      <td>0.485396</td>\n",
       "      <td>0.304462</td>\n",
       "      <td>0.441379</td>\n",
       "      <td>0.213185</td>\n",
       "      <td>0.213185</td>\n",
       "      <td>0.286004</td>\n",
       "      <td>0.213185</td>\n",
       "      <td>...</td>\n",
       "      <td>0.291886</td>\n",
       "      <td>0.213185</td>\n",
       "      <td>0.213185</td>\n",
       "      <td>0.207911</td>\n",
       "      <td>0.242394</td>\n",
       "      <td>0.591075</td>\n",
       "      <td>0.223124</td>\n",
       "      <td>0.335700</td>\n",
       "      <td>0.221095</td>\n",
       "      <td>0.162475</td>\n",
       "    </tr>\n",
       "    <tr>\n",
       "      <th>std</th>\n",
       "      <td>24.591986</td>\n",
       "      <td>29.979163</td>\n",
       "      <td>2261.410852</td>\n",
       "      <td>0.499837</td>\n",
       "      <td>0.460226</td>\n",
       "      <td>0.496602</td>\n",
       "      <td>0.409599</td>\n",
       "      <td>0.409599</td>\n",
       "      <td>0.451937</td>\n",
       "      <td>0.409599</td>\n",
       "      <td>...</td>\n",
       "      <td>0.454676</td>\n",
       "      <td>0.409599</td>\n",
       "      <td>0.409599</td>\n",
       "      <td>0.405854</td>\n",
       "      <td>0.428575</td>\n",
       "      <td>0.491685</td>\n",
       "      <td>0.416383</td>\n",
       "      <td>0.472282</td>\n",
       "      <td>0.415027</td>\n",
       "      <td>0.368923</td>\n",
       "    </tr>\n",
       "    <tr>\n",
       "      <th>min</th>\n",
       "      <td>1.000000</td>\n",
       "      <td>19.200000</td>\n",
       "      <td>19.883180</td>\n",
       "      <td>0.000000</td>\n",
       "      <td>0.000000</td>\n",
       "      <td>0.000000</td>\n",
       "      <td>0.000000</td>\n",
       "      <td>0.000000</td>\n",
       "      <td>0.000000</td>\n",
       "      <td>0.000000</td>\n",
       "      <td>...</td>\n",
       "      <td>0.000000</td>\n",
       "      <td>0.000000</td>\n",
       "      <td>0.000000</td>\n",
       "      <td>0.000000</td>\n",
       "      <td>0.000000</td>\n",
       "      <td>0.000000</td>\n",
       "      <td>0.000000</td>\n",
       "      <td>0.000000</td>\n",
       "      <td>0.000000</td>\n",
       "      <td>0.000000</td>\n",
       "    </tr>\n",
       "    <tr>\n",
       "      <th>25%</th>\n",
       "      <td>9.000000</td>\n",
       "      <td>36.175000</td>\n",
       "      <td>396.475000</td>\n",
       "      <td>0.000000</td>\n",
       "      <td>0.000000</td>\n",
       "      <td>0.000000</td>\n",
       "      <td>0.000000</td>\n",
       "      <td>0.000000</td>\n",
       "      <td>0.000000</td>\n",
       "      <td>0.000000</td>\n",
       "      <td>...</td>\n",
       "      <td>0.000000</td>\n",
       "      <td>0.000000</td>\n",
       "      <td>0.000000</td>\n",
       "      <td>0.000000</td>\n",
       "      <td>0.000000</td>\n",
       "      <td>0.000000</td>\n",
       "      <td>0.000000</td>\n",
       "      <td>0.000000</td>\n",
       "      <td>0.000000</td>\n",
       "      <td>0.000000</td>\n",
       "    </tr>\n",
       "    <tr>\n",
       "      <th>50%</th>\n",
       "      <td>29.000000</td>\n",
       "      <td>70.400000</td>\n",
       "      <td>1394.075000</td>\n",
       "      <td>0.000000</td>\n",
       "      <td>0.000000</td>\n",
       "      <td>0.000000</td>\n",
       "      <td>0.000000</td>\n",
       "      <td>0.000000</td>\n",
       "      <td>0.000000</td>\n",
       "      <td>0.000000</td>\n",
       "      <td>...</td>\n",
       "      <td>0.000000</td>\n",
       "      <td>0.000000</td>\n",
       "      <td>0.000000</td>\n",
       "      <td>0.000000</td>\n",
       "      <td>0.000000</td>\n",
       "      <td>1.000000</td>\n",
       "      <td>0.000000</td>\n",
       "      <td>0.000000</td>\n",
       "      <td>0.000000</td>\n",
       "      <td>0.000000</td>\n",
       "    </tr>\n",
       "    <tr>\n",
       "      <th>75%</th>\n",
       "      <td>56.000000</td>\n",
       "      <td>89.850000</td>\n",
       "      <td>3778.687500</td>\n",
       "      <td>1.000000</td>\n",
       "      <td>1.000000</td>\n",
       "      <td>1.000000</td>\n",
       "      <td>0.000000</td>\n",
       "      <td>0.000000</td>\n",
       "      <td>1.000000</td>\n",
       "      <td>0.000000</td>\n",
       "      <td>...</td>\n",
       "      <td>1.000000</td>\n",
       "      <td>0.000000</td>\n",
       "      <td>0.000000</td>\n",
       "      <td>0.000000</td>\n",
       "      <td>0.000000</td>\n",
       "      <td>1.000000</td>\n",
       "      <td>0.000000</td>\n",
       "      <td>1.000000</td>\n",
       "      <td>0.000000</td>\n",
       "      <td>0.000000</td>\n",
       "    </tr>\n",
       "    <tr>\n",
       "      <th>max</th>\n",
       "      <td>72.000000</td>\n",
       "      <td>114.729000</td>\n",
       "      <td>8039.256000</td>\n",
       "      <td>1.000000</td>\n",
       "      <td>1.000000</td>\n",
       "      <td>1.000000</td>\n",
       "      <td>1.000000</td>\n",
       "      <td>1.000000</td>\n",
       "      <td>1.000000</td>\n",
       "      <td>1.000000</td>\n",
       "      <td>...</td>\n",
       "      <td>1.000000</td>\n",
       "      <td>1.000000</td>\n",
       "      <td>1.000000</td>\n",
       "      <td>1.000000</td>\n",
       "      <td>1.000000</td>\n",
       "      <td>1.000000</td>\n",
       "      <td>1.000000</td>\n",
       "      <td>1.000000</td>\n",
       "      <td>1.000000</td>\n",
       "      <td>1.000000</td>\n",
       "    </tr>\n",
       "  </tbody>\n",
       "</table>\n",
       "<p>8 rows × 24 columns</p>\n",
       "</div>"
      ],
      "text/plain": [
       "            tenure  MonthlyCharges  TotalCharges  Partner_Yes  Dependents_Yes  \\\n",
       "count  4930.000000     4930.000000   4930.000000  4930.000000     4930.000000   \n",
       "mean     32.450507       64.918146   2285.482546     0.485396        0.304462   \n",
       "std      24.591986       29.979163   2261.410852     0.499837        0.460226   \n",
       "min       1.000000       19.200000     19.883180     0.000000        0.000000   \n",
       "25%       9.000000       36.175000    396.475000     0.000000        0.000000   \n",
       "50%      29.000000       70.400000   1394.075000     0.000000        0.000000   \n",
       "75%      56.000000       89.850000   3778.687500     1.000000        1.000000   \n",
       "max      72.000000      114.729000   8039.256000     1.000000        1.000000   \n",
       "\n",
       "       InternetService_Fiber optic  InternetService_No  \\\n",
       "count                  4930.000000         4930.000000   \n",
       "mean                      0.441379            0.213185   \n",
       "std                       0.496602            0.409599   \n",
       "min                       0.000000            0.000000   \n",
       "25%                       0.000000            0.000000   \n",
       "50%                       0.000000            0.000000   \n",
       "75%                       1.000000            0.000000   \n",
       "max                       1.000000            1.000000   \n",
       "\n",
       "       OnlineSecurity_No internet service  OnlineSecurity_Yes  \\\n",
       "count                         4930.000000         4930.000000   \n",
       "mean                             0.213185            0.286004   \n",
       "std                              0.409599            0.451937   \n",
       "min                              0.000000            0.000000   \n",
       "25%                              0.000000            0.000000   \n",
       "50%                              0.000000            0.000000   \n",
       "75%                              0.000000            1.000000   \n",
       "max                              1.000000            1.000000   \n",
       "\n",
       "       OnlineBackup_No internet service  ...  TechSupport_Yes  \\\n",
       "count                       4930.000000  ...      4930.000000   \n",
       "mean                           0.213185  ...         0.291886   \n",
       "std                            0.409599  ...         0.454676   \n",
       "min                            0.000000  ...         0.000000   \n",
       "25%                            0.000000  ...         0.000000   \n",
       "50%                            0.000000  ...         0.000000   \n",
       "75%                            0.000000  ...         1.000000   \n",
       "max                            1.000000  ...         1.000000   \n",
       "\n",
       "       StreamingTV_No internet service  StreamingMovies_No internet service  \\\n",
       "count                      4930.000000                          4930.000000   \n",
       "mean                          0.213185                             0.213185   \n",
       "std                           0.409599                             0.409599   \n",
       "min                           0.000000                             0.000000   \n",
       "25%                           0.000000                             0.000000   \n",
       "50%                           0.000000                             0.000000   \n",
       "75%                           0.000000                             0.000000   \n",
       "max                           1.000000                             1.000000   \n",
       "\n",
       "       Contract_One year  Contract_Two year  PaperlessBilling_Yes  \\\n",
       "count        4930.000000        4930.000000           4930.000000   \n",
       "mean            0.207911           0.242394              0.591075   \n",
       "std             0.405854           0.428575              0.491685   \n",
       "min             0.000000           0.000000              0.000000   \n",
       "25%             0.000000           0.000000              0.000000   \n",
       "50%             0.000000           0.000000              1.000000   \n",
       "75%             0.000000           0.000000              1.000000   \n",
       "max             1.000000           1.000000              1.000000   \n",
       "\n",
       "       PaymentMethod_Credit card (automatic)  PaymentMethod_Electronic check  \\\n",
       "count                            4930.000000                     4930.000000   \n",
       "mean                                0.223124                        0.335700   \n",
       "std                                 0.416383                        0.472282   \n",
       "min                                 0.000000                        0.000000   \n",
       "25%                                 0.000000                        0.000000   \n",
       "50%                                 0.000000                        0.000000   \n",
       "75%                                 0.000000                        1.000000   \n",
       "max                                 1.000000                        1.000000   \n",
       "\n",
       "       PaymentMethod_Mailed check  SeniorCitizen  \n",
       "count                 4930.000000    4930.000000  \n",
       "mean                     0.221095       0.162475  \n",
       "std                      0.415027       0.368923  \n",
       "min                      0.000000       0.000000  \n",
       "25%                      0.000000       0.000000  \n",
       "50%                      0.000000       0.000000  \n",
       "75%                      0.000000       0.000000  \n",
       "max                      1.000000       1.000000  \n",
       "\n",
       "[8 rows x 24 columns]"
      ]
     },
     "execution_count": 90,
     "metadata": {},
     "output_type": "execute_result"
    }
   ],
   "source": [
    "X_train.describe()"
   ]
  },
  {
   "cell_type": "code",
   "execution_count": 91,
   "metadata": {
    "ExecuteTime": {
     "end_time": "2021-07-04T10:25:47.989726Z",
     "start_time": "2021-07-04T10:25:47.905753Z"
    }
   },
   "outputs": [
    {
     "data": {
      "text/html": [
       "<div>\n",
       "<style scoped>\n",
       "    .dataframe tbody tr th:only-of-type {\n",
       "        vertical-align: middle;\n",
       "    }\n",
       "\n",
       "    .dataframe tbody tr th {\n",
       "        vertical-align: top;\n",
       "    }\n",
       "\n",
       "    .dataframe thead th {\n",
       "        text-align: right;\n",
       "    }\n",
       "</style>\n",
       "<table border=\"1\" class=\"dataframe\">\n",
       "  <thead>\n",
       "    <tr style=\"text-align: right;\">\n",
       "      <th></th>\n",
       "      <th>tenure</th>\n",
       "      <th>MonthlyCharges</th>\n",
       "      <th>TotalCharges</th>\n",
       "      <th>Partner_Yes</th>\n",
       "      <th>Dependents_Yes</th>\n",
       "      <th>InternetService_Fiber optic</th>\n",
       "      <th>InternetService_No</th>\n",
       "      <th>OnlineSecurity_No internet service</th>\n",
       "      <th>OnlineSecurity_Yes</th>\n",
       "      <th>OnlineBackup_No internet service</th>\n",
       "      <th>...</th>\n",
       "      <th>TechSupport_Yes</th>\n",
       "      <th>StreamingTV_No internet service</th>\n",
       "      <th>StreamingMovies_No internet service</th>\n",
       "      <th>Contract_One year</th>\n",
       "      <th>Contract_Two year</th>\n",
       "      <th>PaperlessBilling_Yes</th>\n",
       "      <th>PaymentMethod_Credit card (automatic)</th>\n",
       "      <th>PaymentMethod_Electronic check</th>\n",
       "      <th>PaymentMethod_Mailed check</th>\n",
       "      <th>SeniorCitizen</th>\n",
       "    </tr>\n",
       "  </thead>\n",
       "  <tbody>\n",
       "    <tr>\n",
       "      <th>count</th>\n",
       "      <td>2113.000000</td>\n",
       "      <td>2113.000000</td>\n",
       "      <td>2113.000000</td>\n",
       "      <td>2113.000000</td>\n",
       "      <td>2113.000000</td>\n",
       "      <td>2113.000000</td>\n",
       "      <td>2113.000000</td>\n",
       "      <td>2113.000000</td>\n",
       "      <td>2113.000000</td>\n",
       "      <td>2113.000000</td>\n",
       "      <td>...</td>\n",
       "      <td>2113.000000</td>\n",
       "      <td>2113.000000</td>\n",
       "      <td>2113.000000</td>\n",
       "      <td>2113.000000</td>\n",
       "      <td>2113.000000</td>\n",
       "      <td>2113.000000</td>\n",
       "      <td>2113.000000</td>\n",
       "      <td>2113.000000</td>\n",
       "      <td>2113.000000</td>\n",
       "      <td>2113.000000</td>\n",
       "    </tr>\n",
       "    <tr>\n",
       "      <th>mean</th>\n",
       "      <td>32.191197</td>\n",
       "      <td>64.356650</td>\n",
       "      <td>2258.020458</td>\n",
       "      <td>0.477520</td>\n",
       "      <td>0.288216</td>\n",
       "      <td>0.435400</td>\n",
       "      <td>0.224799</td>\n",
       "      <td>0.224799</td>\n",
       "      <td>0.288216</td>\n",
       "      <td>0.224799</td>\n",
       "      <td>...</td>\n",
       "      <td>0.286323</td>\n",
       "      <td>0.224799</td>\n",
       "      <td>0.224799</td>\n",
       "      <td>0.212021</td>\n",
       "      <td>0.236630</td>\n",
       "      <td>0.594889</td>\n",
       "      <td>0.199716</td>\n",
       "      <td>0.336015</td>\n",
       "      <td>0.247042</td>\n",
       "      <td>0.161382</td>\n",
       "    </tr>\n",
       "    <tr>\n",
       "      <th>std</th>\n",
       "      <td>24.481544</td>\n",
       "      <td>30.260549</td>\n",
       "      <td>2257.130001</td>\n",
       "      <td>0.499613</td>\n",
       "      <td>0.453039</td>\n",
       "      <td>0.495927</td>\n",
       "      <td>0.417549</td>\n",
       "      <td>0.417549</td>\n",
       "      <td>0.453039</td>\n",
       "      <td>0.417549</td>\n",
       "      <td>...</td>\n",
       "      <td>0.452149</td>\n",
       "      <td>0.417549</td>\n",
       "      <td>0.417549</td>\n",
       "      <td>0.408836</td>\n",
       "      <td>0.425114</td>\n",
       "      <td>0.491030</td>\n",
       "      <td>0.399882</td>\n",
       "      <td>0.472456</td>\n",
       "      <td>0.431394</td>\n",
       "      <td>0.367970</td>\n",
       "    </tr>\n",
       "    <tr>\n",
       "      <th>min</th>\n",
       "      <td>1.000000</td>\n",
       "      <td>19.200000</td>\n",
       "      <td>19.883180</td>\n",
       "      <td>0.000000</td>\n",
       "      <td>0.000000</td>\n",
       "      <td>0.000000</td>\n",
       "      <td>0.000000</td>\n",
       "      <td>0.000000</td>\n",
       "      <td>0.000000</td>\n",
       "      <td>0.000000</td>\n",
       "      <td>...</td>\n",
       "      <td>0.000000</td>\n",
       "      <td>0.000000</td>\n",
       "      <td>0.000000</td>\n",
       "      <td>0.000000</td>\n",
       "      <td>0.000000</td>\n",
       "      <td>0.000000</td>\n",
       "      <td>0.000000</td>\n",
       "      <td>0.000000</td>\n",
       "      <td>0.000000</td>\n",
       "      <td>0.000000</td>\n",
       "    </tr>\n",
       "    <tr>\n",
       "      <th>25%</th>\n",
       "      <td>9.000000</td>\n",
       "      <td>33.450000</td>\n",
       "      <td>401.100000</td>\n",
       "      <td>0.000000</td>\n",
       "      <td>0.000000</td>\n",
       "      <td>0.000000</td>\n",
       "      <td>0.000000</td>\n",
       "      <td>0.000000</td>\n",
       "      <td>0.000000</td>\n",
       "      <td>0.000000</td>\n",
       "      <td>...</td>\n",
       "      <td>0.000000</td>\n",
       "      <td>0.000000</td>\n",
       "      <td>0.000000</td>\n",
       "      <td>0.000000</td>\n",
       "      <td>0.000000</td>\n",
       "      <td>0.000000</td>\n",
       "      <td>0.000000</td>\n",
       "      <td>0.000000</td>\n",
       "      <td>0.000000</td>\n",
       "      <td>0.000000</td>\n",
       "    </tr>\n",
       "    <tr>\n",
       "      <th>50%</th>\n",
       "      <td>28.000000</td>\n",
       "      <td>70.300000</td>\n",
       "      <td>1396.900000</td>\n",
       "      <td>0.000000</td>\n",
       "      <td>0.000000</td>\n",
       "      <td>0.000000</td>\n",
       "      <td>0.000000</td>\n",
       "      <td>0.000000</td>\n",
       "      <td>0.000000</td>\n",
       "      <td>0.000000</td>\n",
       "      <td>...</td>\n",
       "      <td>0.000000</td>\n",
       "      <td>0.000000</td>\n",
       "      <td>0.000000</td>\n",
       "      <td>0.000000</td>\n",
       "      <td>0.000000</td>\n",
       "      <td>1.000000</td>\n",
       "      <td>0.000000</td>\n",
       "      <td>0.000000</td>\n",
       "      <td>0.000000</td>\n",
       "      <td>0.000000</td>\n",
       "    </tr>\n",
       "    <tr>\n",
       "      <th>75%</th>\n",
       "      <td>55.000000</td>\n",
       "      <td>89.850000</td>\n",
       "      <td>3801.300000</td>\n",
       "      <td>1.000000</td>\n",
       "      <td>1.000000</td>\n",
       "      <td>1.000000</td>\n",
       "      <td>0.000000</td>\n",
       "      <td>0.000000</td>\n",
       "      <td>1.000000</td>\n",
       "      <td>0.000000</td>\n",
       "      <td>...</td>\n",
       "      <td>1.000000</td>\n",
       "      <td>0.000000</td>\n",
       "      <td>0.000000</td>\n",
       "      <td>0.000000</td>\n",
       "      <td>0.000000</td>\n",
       "      <td>1.000000</td>\n",
       "      <td>0.000000</td>\n",
       "      <td>1.000000</td>\n",
       "      <td>0.000000</td>\n",
       "      <td>0.000000</td>\n",
       "    </tr>\n",
       "    <tr>\n",
       "      <th>max</th>\n",
       "      <td>72.000000</td>\n",
       "      <td>114.729000</td>\n",
       "      <td>8039.256000</td>\n",
       "      <td>1.000000</td>\n",
       "      <td>1.000000</td>\n",
       "      <td>1.000000</td>\n",
       "      <td>1.000000</td>\n",
       "      <td>1.000000</td>\n",
       "      <td>1.000000</td>\n",
       "      <td>1.000000</td>\n",
       "      <td>...</td>\n",
       "      <td>1.000000</td>\n",
       "      <td>1.000000</td>\n",
       "      <td>1.000000</td>\n",
       "      <td>1.000000</td>\n",
       "      <td>1.000000</td>\n",
       "      <td>1.000000</td>\n",
       "      <td>1.000000</td>\n",
       "      <td>1.000000</td>\n",
       "      <td>1.000000</td>\n",
       "      <td>1.000000</td>\n",
       "    </tr>\n",
       "  </tbody>\n",
       "</table>\n",
       "<p>8 rows × 24 columns</p>\n",
       "</div>"
      ],
      "text/plain": [
       "            tenure  MonthlyCharges  TotalCharges  Partner_Yes  Dependents_Yes  \\\n",
       "count  2113.000000     2113.000000   2113.000000  2113.000000     2113.000000   \n",
       "mean     32.191197       64.356650   2258.020458     0.477520        0.288216   \n",
       "std      24.481544       30.260549   2257.130001     0.499613        0.453039   \n",
       "min       1.000000       19.200000     19.883180     0.000000        0.000000   \n",
       "25%       9.000000       33.450000    401.100000     0.000000        0.000000   \n",
       "50%      28.000000       70.300000   1396.900000     0.000000        0.000000   \n",
       "75%      55.000000       89.850000   3801.300000     1.000000        1.000000   \n",
       "max      72.000000      114.729000   8039.256000     1.000000        1.000000   \n",
       "\n",
       "       InternetService_Fiber optic  InternetService_No  \\\n",
       "count                  2113.000000         2113.000000   \n",
       "mean                      0.435400            0.224799   \n",
       "std                       0.495927            0.417549   \n",
       "min                       0.000000            0.000000   \n",
       "25%                       0.000000            0.000000   \n",
       "50%                       0.000000            0.000000   \n",
       "75%                       1.000000            0.000000   \n",
       "max                       1.000000            1.000000   \n",
       "\n",
       "       OnlineSecurity_No internet service  OnlineSecurity_Yes  \\\n",
       "count                         2113.000000         2113.000000   \n",
       "mean                             0.224799            0.288216   \n",
       "std                              0.417549            0.453039   \n",
       "min                              0.000000            0.000000   \n",
       "25%                              0.000000            0.000000   \n",
       "50%                              0.000000            0.000000   \n",
       "75%                              0.000000            1.000000   \n",
       "max                              1.000000            1.000000   \n",
       "\n",
       "       OnlineBackup_No internet service  ...  TechSupport_Yes  \\\n",
       "count                       2113.000000  ...      2113.000000   \n",
       "mean                           0.224799  ...         0.286323   \n",
       "std                            0.417549  ...         0.452149   \n",
       "min                            0.000000  ...         0.000000   \n",
       "25%                            0.000000  ...         0.000000   \n",
       "50%                            0.000000  ...         0.000000   \n",
       "75%                            0.000000  ...         1.000000   \n",
       "max                            1.000000  ...         1.000000   \n",
       "\n",
       "       StreamingTV_No internet service  StreamingMovies_No internet service  \\\n",
       "count                      2113.000000                          2113.000000   \n",
       "mean                          0.224799                             0.224799   \n",
       "std                           0.417549                             0.417549   \n",
       "min                           0.000000                             0.000000   \n",
       "25%                           0.000000                             0.000000   \n",
       "50%                           0.000000                             0.000000   \n",
       "75%                           0.000000                             0.000000   \n",
       "max                           1.000000                             1.000000   \n",
       "\n",
       "       Contract_One year  Contract_Two year  PaperlessBilling_Yes  \\\n",
       "count        2113.000000        2113.000000           2113.000000   \n",
       "mean            0.212021           0.236630              0.594889   \n",
       "std             0.408836           0.425114              0.491030   \n",
       "min             0.000000           0.000000              0.000000   \n",
       "25%             0.000000           0.000000              0.000000   \n",
       "50%             0.000000           0.000000              1.000000   \n",
       "75%             0.000000           0.000000              1.000000   \n",
       "max             1.000000           1.000000              1.000000   \n",
       "\n",
       "       PaymentMethod_Credit card (automatic)  PaymentMethod_Electronic check  \\\n",
       "count                            2113.000000                     2113.000000   \n",
       "mean                                0.199716                        0.336015   \n",
       "std                                 0.399882                        0.472456   \n",
       "min                                 0.000000                        0.000000   \n",
       "25%                                 0.000000                        0.000000   \n",
       "50%                                 0.000000                        0.000000   \n",
       "75%                                 0.000000                        1.000000   \n",
       "max                                 1.000000                        1.000000   \n",
       "\n",
       "       PaymentMethod_Mailed check  SeniorCitizen  \n",
       "count                 2113.000000    2113.000000  \n",
       "mean                     0.247042       0.161382  \n",
       "std                      0.431394       0.367970  \n",
       "min                      0.000000       0.000000  \n",
       "25%                      0.000000       0.000000  \n",
       "50%                      0.000000       0.000000  \n",
       "75%                      0.000000       0.000000  \n",
       "max                      1.000000       1.000000  \n",
       "\n",
       "[8 rows x 24 columns]"
      ]
     },
     "execution_count": 91,
     "metadata": {},
     "output_type": "execute_result"
    }
   ],
   "source": [
    "X_test.describe()"
   ]
  },
  {
   "cell_type": "code",
   "execution_count": null,
   "metadata": {},
   "outputs": [],
   "source": [
    "# from above X splits, we can see that the X is properly splitted wiht min max and mean similar to X_all"
   ]
  },
  {
   "cell_type": "code",
   "execution_count": null,
   "metadata": {},
   "outputs": [],
   "source": []
  },
  {
   "cell_type": "markdown",
   "metadata": {},
   "source": [
    "### Logistic Regression\n",
    "starting with statistical algorithm"
   ]
  },
  {
   "cell_type": "code",
   "execution_count": 92,
   "metadata": {
    "ExecuteTime": {
     "end_time": "2021-07-04T10:38:40.195732Z",
     "start_time": "2021-07-04T10:38:39.555278Z"
    }
   },
   "outputs": [
    {
     "data": {
      "text/plain": [
       "LogisticRegression(random_state=0)"
      ]
     },
     "execution_count": 92,
     "metadata": {},
     "output_type": "execute_result"
    }
   ],
   "source": [
    "# logistic Regression\n",
    "from sklearn.linear_model import LogisticRegression\n",
    "\n",
    "logreg=LogisticRegression(random_state=0)\n",
    "logreg.fit(X_train,y_train)"
   ]
  },
  {
   "cell_type": "code",
   "execution_count": null,
   "metadata": {},
   "outputs": [],
   "source": []
  },
  {
   "cell_type": "markdown",
   "metadata": {},
   "source": [
    "### Decision Tree"
   ]
  },
  {
   "cell_type": "code",
   "execution_count": 93,
   "metadata": {
    "ExecuteTime": {
     "end_time": "2021-07-04T10:40:59.841926Z",
     "start_time": "2021-07-04T10:40:59.757918Z"
    }
   },
   "outputs": [],
   "source": [
    "from sklearn.tree import DecisionTreeClassifier\n",
    "\n",
    "dtree=DecisionTreeClassifier(criterion='gini',random_state=0)b"
   ]
  },
  {
   "cell_type": "markdown",
   "metadata": {},
   "source": [
    "#### Hyper Parameter Tuning"
   ]
  },
  {
   "cell_type": "code",
   "execution_count": 95,
   "metadata": {
    "ExecuteTime": {
     "end_time": "2021-07-04T10:45:16.000161Z",
     "start_time": "2021-07-04T10:45:10.892766Z"
    }
   },
   "outputs": [
    {
     "name": "stdout",
     "output_type": "stream",
     "text": [
      "Best Parameters using Grid Search: \n",
      " {'max_depth': 6, 'min_samples_split': 50}\n"
     ]
    }
   ],
   "source": [
    "#gridsearch cv\n",
    "np.random.seed(44)\n",
    "from sklearn.model_selection import GridSearchCV\n",
    "param_dist={'max_depth':[3,5,6,7],'min_samples_split':[50,100,150,200,250]}\n",
    "tree_grid=GridSearchCV(dtree,cv=10,param_grid=param_dist,n_jobs=3)\n",
    "tree_grid.fit(X_train,y_train)\n",
    "print('Best Parameters using Grid Search: \\n',tree_grid.best_params_)"
   ]
  },
  {
   "cell_type": "code",
   "execution_count": 96,
   "metadata": {
    "ExecuteTime": {
     "end_time": "2021-07-04T10:48:11.405089Z",
     "start_time": "2021-07-04T10:48:11.365087Z"
    }
   },
   "outputs": [
    {
     "data": {
      "text/plain": [
       "DecisionTreeClassifier(max_depth=6, min_samples_split=50, random_state=0)"
      ]
     },
     "execution_count": 96,
     "metadata": {},
     "output_type": "execute_result"
    }
   ],
   "source": [
    "dtree=DecisionTreeClassifier(criterion='gini',random_state=0,max_depth=6,min_samples_split=50)\n",
    "dtree.fit(X_train,y_train)"
   ]
  },
  {
   "cell_type": "code",
   "execution_count": null,
   "metadata": {},
   "outputs": [],
   "source": []
  },
  {
   "cell_type": "markdown",
   "metadata": {},
   "source": [
    "### Random Forest"
   ]
  },
  {
   "cell_type": "code",
   "execution_count": 98,
   "metadata": {
    "ExecuteTime": {
     "end_time": "2021-07-04T10:50:19.580252Z",
     "start_time": "2021-07-04T10:50:19.094929Z"
    }
   },
   "outputs": [
    {
     "data": {
      "text/plain": [
       "RandomForestClassifier(max_depth=6, min_samples_split=50, random_state=0)"
      ]
     },
     "execution_count": 98,
     "metadata": {},
     "output_type": "execute_result"
    }
   ],
   "source": [
    "from sklearn.ensemble import RandomForestClassifier\n",
    "\n",
    "rf=RandomForestClassifier(criterion='gini',random_state=0,max_depth=6,min_samples_split=50)\n",
    "rf.fit(X_train,y_train)"
   ]
  },
  {
   "cell_type": "markdown",
   "metadata": {},
   "source": [
    "#### Feature importance"
   ]
  },
  {
   "cell_type": "code",
   "execution_count": 100,
   "metadata": {
    "ExecuteTime": {
     "end_time": "2021-07-04T10:53:31.834749Z",
     "start_time": "2021-07-04T10:53:31.802708Z"
    }
   },
   "outputs": [
    {
     "data": {
      "text/html": [
       "<div>\n",
       "<style scoped>\n",
       "    .dataframe tbody tr th:only-of-type {\n",
       "        vertical-align: middle;\n",
       "    }\n",
       "\n",
       "    .dataframe tbody tr th {\n",
       "        vertical-align: top;\n",
       "    }\n",
       "\n",
       "    .dataframe thead th {\n",
       "        text-align: right;\n",
       "    }\n",
       "</style>\n",
       "<table border=\"1\" class=\"dataframe\">\n",
       "  <thead>\n",
       "    <tr style=\"text-align: right;\">\n",
       "      <th></th>\n",
       "      <th>importance</th>\n",
       "    </tr>\n",
       "  </thead>\n",
       "  <tbody>\n",
       "    <tr>\n",
       "      <th>tenure</th>\n",
       "      <td>0.188384</td>\n",
       "    </tr>\n",
       "    <tr>\n",
       "      <th>TotalCharges</th>\n",
       "      <td>0.121662</td>\n",
       "    </tr>\n",
       "    <tr>\n",
       "      <th>PaymentMethod_Electronic check</th>\n",
       "      <td>0.120966</td>\n",
       "    </tr>\n",
       "    <tr>\n",
       "      <th>Contract_Two year</th>\n",
       "      <td>0.098088</td>\n",
       "    </tr>\n",
       "    <tr>\n",
       "      <th>InternetService_Fiber optic</th>\n",
       "      <td>0.086792</td>\n",
       "    </tr>\n",
       "    <tr>\n",
       "      <th>MonthlyCharges</th>\n",
       "      <td>0.060647</td>\n",
       "    </tr>\n",
       "    <tr>\n",
       "      <th>Contract_One year</th>\n",
       "      <td>0.040105</td>\n",
       "    </tr>\n",
       "    <tr>\n",
       "      <th>OnlineSecurity_Yes</th>\n",
       "      <td>0.039029</td>\n",
       "    </tr>\n",
       "    <tr>\n",
       "      <th>TechSupport_Yes</th>\n",
       "      <td>0.035054</td>\n",
       "    </tr>\n",
       "    <tr>\n",
       "      <th>OnlineSecurity_No internet service</th>\n",
       "      <td>0.028540</td>\n",
       "    </tr>\n",
       "    <tr>\n",
       "      <th>TechSupport_No internet service</th>\n",
       "      <td>0.024509</td>\n",
       "    </tr>\n",
       "    <tr>\n",
       "      <th>OnlineBackup_No internet service</th>\n",
       "      <td>0.023740</td>\n",
       "    </tr>\n",
       "    <tr>\n",
       "      <th>StreamingTV_No internet service</th>\n",
       "      <td>0.021025</td>\n",
       "    </tr>\n",
       "    <tr>\n",
       "      <th>OnlineBackup_Yes</th>\n",
       "      <td>0.020742</td>\n",
       "    </tr>\n",
       "    <tr>\n",
       "      <th>InternetService_No</th>\n",
       "      <td>0.019540</td>\n",
       "    </tr>\n",
       "    <tr>\n",
       "      <th>StreamingMovies_No internet service</th>\n",
       "      <td>0.015326</td>\n",
       "    </tr>\n",
       "    <tr>\n",
       "      <th>PaperlessBilling_Yes</th>\n",
       "      <td>0.014504</td>\n",
       "    </tr>\n",
       "    <tr>\n",
       "      <th>DeviceProtection_No internet service</th>\n",
       "      <td>0.010684</td>\n",
       "    </tr>\n",
       "    <tr>\n",
       "      <th>SeniorCitizen</th>\n",
       "      <td>0.008064</td>\n",
       "    </tr>\n",
       "    <tr>\n",
       "      <th>Partner_Yes</th>\n",
       "      <td>0.006526</td>\n",
       "    </tr>\n",
       "    <tr>\n",
       "      <th>Dependents_Yes</th>\n",
       "      <td>0.005332</td>\n",
       "    </tr>\n",
       "    <tr>\n",
       "      <th>DeviceProtection_Yes</th>\n",
       "      <td>0.004865</td>\n",
       "    </tr>\n",
       "    <tr>\n",
       "      <th>PaymentMethod_Credit card (automatic)</th>\n",
       "      <td>0.003459</td>\n",
       "    </tr>\n",
       "    <tr>\n",
       "      <th>PaymentMethod_Mailed check</th>\n",
       "      <td>0.002419</td>\n",
       "    </tr>\n",
       "  </tbody>\n",
       "</table>\n",
       "</div>"
      ],
      "text/plain": [
       "                                       importance\n",
       "tenure                                   0.188384\n",
       "TotalCharges                             0.121662\n",
       "PaymentMethod_Electronic check           0.120966\n",
       "Contract_Two year                        0.098088\n",
       "InternetService_Fiber optic              0.086792\n",
       "MonthlyCharges                           0.060647\n",
       "Contract_One year                        0.040105\n",
       "OnlineSecurity_Yes                       0.039029\n",
       "TechSupport_Yes                          0.035054\n",
       "OnlineSecurity_No internet service       0.028540\n",
       "TechSupport_No internet service          0.024509\n",
       "OnlineBackup_No internet service         0.023740\n",
       "StreamingTV_No internet service          0.021025\n",
       "OnlineBackup_Yes                         0.020742\n",
       "InternetService_No                       0.019540\n",
       "StreamingMovies_No internet service      0.015326\n",
       "PaperlessBilling_Yes                     0.014504\n",
       "DeviceProtection_No internet service     0.010684\n",
       "SeniorCitizen                            0.008064\n",
       "Partner_Yes                              0.006526\n",
       "Dependents_Yes                           0.005332\n",
       "DeviceProtection_Yes                     0.004865\n",
       "PaymentMethod_Credit card (automatic)    0.003459\n",
       "PaymentMethod_Mailed check               0.002419"
      ]
     },
     "execution_count": 100,
     "metadata": {},
     "output_type": "execute_result"
    }
   ],
   "source": [
    "\n",
    "feature_importances=pd.DataFrame(rf.feature_importances_, \n",
    "                                 index=X_train.columns,\n",
    "                                 columns=['importance']).sort_values('importance',ascending=False)\n",
    "\n",
    "feature_importances"
   ]
  },
  {
   "cell_type": "code",
   "execution_count": null,
   "metadata": {},
   "outputs": [],
   "source": []
  },
  {
   "cell_type": "markdown",
   "metadata": {},
   "source": [
    "### Gradient Boosting "
   ]
  },
  {
   "cell_type": "code",
   "execution_count": 101,
   "metadata": {
    "ExecuteTime": {
     "end_time": "2021-07-04T10:55:38.927711Z",
     "start_time": "2021-07-04T10:55:37.300633Z"
    }
   },
   "outputs": [
    {
     "data": {
      "text/plain": [
       "GradientBoostingClassifier(criterion='mse', max_depth=6, min_samples_split=50,\n",
       "                           random_state=0)"
      ]
     },
     "execution_count": 101,
     "metadata": {},
     "output_type": "execute_result"
    }
   ],
   "source": [
    "from sklearn.ensemble import GradientBoostingClassifier\n",
    "\n",
    "gbm=GradientBoostingClassifier(criterion='mse',random_state=0,max_depth=6,min_samples_split=50)\n",
    "gbm.fit(X_train,y_train)"
   ]
  },
  {
   "cell_type": "markdown",
   "metadata": {},
   "source": [
    "#### Feature importance"
   ]
  },
  {
   "cell_type": "code",
   "execution_count": 102,
   "metadata": {
    "ExecuteTime": {
     "end_time": "2021-07-04T10:58:11.686844Z",
     "start_time": "2021-07-04T10:58:11.662810Z"
    }
   },
   "outputs": [
    {
     "data": {
      "text/html": [
       "<div>\n",
       "<style scoped>\n",
       "    .dataframe tbody tr th:only-of-type {\n",
       "        vertical-align: middle;\n",
       "    }\n",
       "\n",
       "    .dataframe tbody tr th {\n",
       "        vertical-align: top;\n",
       "    }\n",
       "\n",
       "    .dataframe thead th {\n",
       "        text-align: right;\n",
       "    }\n",
       "</style>\n",
       "<table border=\"1\" class=\"dataframe\">\n",
       "  <thead>\n",
       "    <tr style=\"text-align: right;\">\n",
       "      <th></th>\n",
       "      <th>importance</th>\n",
       "    </tr>\n",
       "  </thead>\n",
       "  <tbody>\n",
       "    <tr>\n",
       "      <th>tenure</th>\n",
       "      <td>0.207184</td>\n",
       "    </tr>\n",
       "    <tr>\n",
       "      <th>TotalCharges</th>\n",
       "      <td>0.182088</td>\n",
       "    </tr>\n",
       "    <tr>\n",
       "      <th>MonthlyCharges</th>\n",
       "      <td>0.171018</td>\n",
       "    </tr>\n",
       "    <tr>\n",
       "      <th>PaymentMethod_Electronic check</th>\n",
       "      <td>0.137353</td>\n",
       "    </tr>\n",
       "    <tr>\n",
       "      <th>InternetService_Fiber optic</th>\n",
       "      <td>0.132630</td>\n",
       "    </tr>\n",
       "    <tr>\n",
       "      <th>Contract_Two year</th>\n",
       "      <td>0.035270</td>\n",
       "    </tr>\n",
       "    <tr>\n",
       "      <th>Contract_One year</th>\n",
       "      <td>0.033820</td>\n",
       "    </tr>\n",
       "    <tr>\n",
       "      <th>PaperlessBilling_Yes</th>\n",
       "      <td>0.019569</td>\n",
       "    </tr>\n",
       "    <tr>\n",
       "      <th>OnlineSecurity_Yes</th>\n",
       "      <td>0.016303</td>\n",
       "    </tr>\n",
       "    <tr>\n",
       "      <th>TechSupport_Yes</th>\n",
       "      <td>0.012952</td>\n",
       "    </tr>\n",
       "    <tr>\n",
       "      <th>SeniorCitizen</th>\n",
       "      <td>0.012337</td>\n",
       "    </tr>\n",
       "    <tr>\n",
       "      <th>OnlineBackup_Yes</th>\n",
       "      <td>0.007473</td>\n",
       "    </tr>\n",
       "    <tr>\n",
       "      <th>Dependents_Yes</th>\n",
       "      <td>0.004177</td>\n",
       "    </tr>\n",
       "    <tr>\n",
       "      <th>PaymentMethod_Mailed check</th>\n",
       "      <td>0.004146</td>\n",
       "    </tr>\n",
       "    <tr>\n",
       "      <th>PaymentMethod_Credit card (automatic)</th>\n",
       "      <td>0.004016</td>\n",
       "    </tr>\n",
       "    <tr>\n",
       "      <th>Partner_Yes</th>\n",
       "      <td>0.003557</td>\n",
       "    </tr>\n",
       "    <tr>\n",
       "      <th>StreamingMovies_No internet service</th>\n",
       "      <td>0.003491</td>\n",
       "    </tr>\n",
       "    <tr>\n",
       "      <th>TechSupport_No internet service</th>\n",
       "      <td>0.002943</td>\n",
       "    </tr>\n",
       "    <tr>\n",
       "      <th>DeviceProtection_No internet service</th>\n",
       "      <td>0.002836</td>\n",
       "    </tr>\n",
       "    <tr>\n",
       "      <th>DeviceProtection_Yes</th>\n",
       "      <td>0.002831</td>\n",
       "    </tr>\n",
       "    <tr>\n",
       "      <th>InternetService_No</th>\n",
       "      <td>0.001970</td>\n",
       "    </tr>\n",
       "    <tr>\n",
       "      <th>StreamingTV_No internet service</th>\n",
       "      <td>0.001197</td>\n",
       "    </tr>\n",
       "    <tr>\n",
       "      <th>OnlineBackup_No internet service</th>\n",
       "      <td>0.000620</td>\n",
       "    </tr>\n",
       "    <tr>\n",
       "      <th>OnlineSecurity_No internet service</th>\n",
       "      <td>0.000216</td>\n",
       "    </tr>\n",
       "  </tbody>\n",
       "</table>\n",
       "</div>"
      ],
      "text/plain": [
       "                                       importance\n",
       "tenure                                   0.207184\n",
       "TotalCharges                             0.182088\n",
       "MonthlyCharges                           0.171018\n",
       "PaymentMethod_Electronic check           0.137353\n",
       "InternetService_Fiber optic              0.132630\n",
       "Contract_Two year                        0.035270\n",
       "Contract_One year                        0.033820\n",
       "PaperlessBilling_Yes                     0.019569\n",
       "OnlineSecurity_Yes                       0.016303\n",
       "TechSupport_Yes                          0.012952\n",
       "SeniorCitizen                            0.012337\n",
       "OnlineBackup_Yes                         0.007473\n",
       "Dependents_Yes                           0.004177\n",
       "PaymentMethod_Mailed check               0.004146\n",
       "PaymentMethod_Credit card (automatic)    0.004016\n",
       "Partner_Yes                              0.003557\n",
       "StreamingMovies_No internet service      0.003491\n",
       "TechSupport_No internet service          0.002943\n",
       "DeviceProtection_No internet service     0.002836\n",
       "DeviceProtection_Yes                     0.002831\n",
       "InternetService_No                       0.001970\n",
       "StreamingTV_No internet service          0.001197\n",
       "OnlineBackup_No internet service         0.000620\n",
       "OnlineSecurity_No internet service       0.000216"
      ]
     },
     "execution_count": 102,
     "metadata": {},
     "output_type": "execute_result"
    }
   ],
   "source": [
    "feature_importances_gbm=pd.DataFrame(gbm.feature_importances_,\n",
    "                                    index=X_train.columns,\n",
    "                                    columns=['importance']).sort_values('importance',ascending=False)\n",
    "feature_importances_gbm"
   ]
  },
  {
   "cell_type": "code",
   "execution_count": null,
   "metadata": {},
   "outputs": [],
   "source": []
  },
  {
   "cell_type": "markdown",
   "metadata": {},
   "source": [
    "#### Stacking Classifier"
   ]
  },
  {
   "cell_type": "code",
   "execution_count": 104,
   "metadata": {
    "ExecuteTime": {
     "end_time": "2021-07-04T11:09:19.271126Z",
     "start_time": "2021-07-04T11:09:19.251126Z"
    }
   },
   "outputs": [],
   "source": [
    "# combining the output of both strong algo random forest(bagging) and gbm(boosting)  \n",
    "# with the aim to pass it through a Stacking Classifier using Logisitic regression to find if stacking results of both \n",
    "# gives better results or not\n",
    "\n",
    "\n",
    "\n",
    "base_learners=[('rf',RandomForestClassifier(criterion='gini',random_state=0,max_depth=6,min_samples_split=50)),\n",
    "               ('gbm',GradientBoostingClassifier(criterion='mse',random_state=0,max_depth=6,min_samples_split=50))]"
   ]
  },
  {
   "cell_type": "code",
   "execution_count": 106,
   "metadata": {
    "ExecuteTime": {
     "end_time": "2021-07-04T11:11:13.391728Z",
     "start_time": "2021-07-04T11:11:04.287846Z"
    }
   },
   "outputs": [
    {
     "data": {
      "text/plain": [
       "StackingClassifier(estimators=[('rf',\n",
       "                                RandomForestClassifier(max_depth=6,\n",
       "                                                       min_samples_split=50,\n",
       "                                                       random_state=0)),\n",
       "                               ('gbm',\n",
       "                                GradientBoostingClassifier(criterion='mse',\n",
       "                                                           max_depth=6,\n",
       "                                                           min_samples_split=50,\n",
       "                                                           random_state=0))],\n",
       "                   final_estimator=LogisticRegression())"
      ]
     },
     "execution_count": 106,
     "metadata": {},
     "output_type": "execute_result"
    }
   ],
   "source": [
    "\n",
    "from sklearn.ensemble import StackingClassifier\n",
    "\n",
    "stack=StackingClassifier(estimators=base_learners,final_estimator=LogisticRegression())\n",
    "stack.fit(X_train,y_train)"
   ]
  },
  {
   "cell_type": "code",
   "execution_count": null,
   "metadata": {},
   "outputs": [],
   "source": []
  },
  {
   "cell_type": "markdown",
   "metadata": {},
   "source": [
    "## Model Evaluation"
   ]
  },
  {
   "cell_type": "code",
   "execution_count": 107,
   "metadata": {
    "ExecuteTime": {
     "end_time": "2021-07-04T11:13:04.215156Z",
     "start_time": "2021-07-04T11:13:04.106553Z"
    }
   },
   "outputs": [],
   "source": [
    "y_pred_logreg=logreg.predict(X_test)\n",
    "y_pred_dtree=dtree.predict(X_test)\n",
    "y_pred_rf=rf.predict(X_test)\n",
    "y_pred_gbm=gbm.predict(X_test)\n",
    "y_pred_stack=stack.predict(X_test)"
   ]
  },
  {
   "cell_type": "code",
   "execution_count": 108,
   "metadata": {
    "ExecuteTime": {
     "end_time": "2021-07-04T11:15:36.926755Z",
     "start_time": "2021-07-04T11:15:36.894755Z"
    }
   },
   "outputs": [
    {
     "name": "stdout",
     "output_type": "stream",
     "text": [
      "Accuracy:  0.7974443918599148\n",
      "Accuracy:  0.6381156316916489\n",
      "Accuracy:  0.5350089766606823\n",
      "Accuracy:  0.58203125\n"
     ]
    }
   ],
   "source": [
    "from sklearn.metrics import confusion_matrix\n",
    "from sklearn import metrics\n",
    "\n",
    "print(\"Accuracy: \",metrics.accuracy_score(y_test,y_pred_logreg))\n",
    "print(\"Accuracy: \",metrics.precision_score(y_test,y_pred_logreg))\n",
    "print(\"Accuracy: \",metrics.recall_score(y_test,y_pred_logreg))\n",
    "print(\"Accuracy: \",metrics.f1_score(y_test,y_pred_logreg))"
   ]
  },
  {
   "cell_type": "code",
   "execution_count": 119,
   "metadata": {
    "ExecuteTime": {
     "end_time": "2021-07-04T11:19:38.398558Z",
     "start_time": "2021-07-04T11:19:38.234558Z"
    }
   },
   "outputs": [
    {
     "data": {
      "text/plain": [
       "<sklearn.metrics._plot.confusion_matrix.ConfusionMatrixDisplay at 0x20564c8bfd0>"
      ]
     },
     "execution_count": 119,
     "metadata": {},
     "output_type": "execute_result"
    },
    {
     "data": {
      "image/png": "[encoded data removed]",
      "text/plain": [
       "<Figure size 432x288 with 2 Axes>"
      ]
     },
     "metadata": {
      "needs_background": "light"
     },
     "output_type": "display_data"
    }
   ],
   "source": [
    "metrics.plot_confusion_matrix(logreg,X_all,Y)"
   ]
  },
  {
   "cell_type": "code",
   "execution_count": 124,
   "metadata": {
    "ExecuteTime": {
     "end_time": "2021-07-04T11:23:50.145474Z",
     "start_time": "2021-07-04T11:23:49.961474Z"
    }
   },
   "outputs": [
    {
     "name": "stdout",
     "output_type": "stream",
     "text": [
      "Accuracy:  0.7950780880265026\n",
      "Precision:  0.6455399061032864\n",
      "Recall:  0.49371633752244165\n",
      "F1-Score:  0.5595116988809766\n"
     ]
    },
    {
     "data": {
      "text/plain": [
       "<sklearn.metrics._plot.confusion_matrix.ConfusionMatrixDisplay at 0x20565e5ee50>"
      ]
     },
     "execution_count": 124,
     "metadata": {},
     "output_type": "execute_result"
    },
    {
     "data": {
      "image/png": "[encoded data removed]",
      "text/plain": [
       "<Figure size 432x288 with 2 Axes>"
      ]
     },
     "metadata": {
      "needs_background": "light"
     },
     "output_type": "display_data"
    }
   ],
   "source": [
    "from sklearn.metrics import confusion_matrix\n",
    "from sklearn import metrics\n",
    "\n",
    "print(\"Accuracy: \",metrics.accuracy_score(y_test,y_pred_dtree))\n",
    "print(\"Precision: \",metrics.precision_score(y_test,y_pred_dtree))\n",
    "print(\"Recall: \",metrics.recall_score(y_test,y_pred_dtree))\n",
    "print(\"F1-Score: \",metrics.f1_score(y_test,y_pred_dtree))\n",
    "\n",
    "metrics.plot_confusion_matrix(dtree,X_all,Y)"
   ]
  },
  {
   "cell_type": "code",
   "execution_count": 125,
   "metadata": {
    "ExecuteTime": {
     "end_time": "2021-07-04T11:23:55.107417Z",
     "start_time": "2021-07-04T11:23:54.855417Z"
    }
   },
   "outputs": [
    {
     "name": "stdout",
     "output_type": "stream",
     "text": [
      "Accuracy:  0.7969711310932324\n",
      "Precision:  0.6666666666666666\n",
      "Recall:  0.45960502692998206\n",
      "F1-Score:  0.5441020191285867\n"
     ]
    },
    {
     "data": {
      "text/plain": [
       "<sklearn.metrics._plot.confusion_matrix.ConfusionMatrixDisplay at 0x2056434a640>"
      ]
     },
     "execution_count": 125,
     "metadata": {},
     "output_type": "execute_result"
    },
    {
     "data": {
      "image/png": "[encoded data removed]",
      "text/plain": [
       "<Figure size 432x288 with 2 Axes>"
      ]
     },
     "metadata": {
      "needs_background": "light"
     },
     "output_type": "display_data"
    }
   ],
   "source": [
    "from sklearn.metrics import confusion_matrix\n",
    "from sklearn import metrics\n",
    "\n",
    "print(\"Accuracy: \",metrics.accuracy_score(y_test,y_pred_rf))\n",
    "print(\"Precision: \",metrics.precision_score(y_test,y_pred_rf))\n",
    "print(\"Recall: \",metrics.recall_score(y_test,y_pred_rf))\n",
    "print(\"F1-Score: \",metrics.f1_score(y_test,y_pred_rf))\n",
    "\n",
    "metrics.plot_confusion_matrix(rf,X_all,Y)"
   ]
  },
  {
   "cell_type": "code",
   "execution_count": 126,
   "metadata": {
    "ExecuteTime": {
     "end_time": "2021-07-04T11:24:08.840585Z",
     "start_time": "2021-07-04T11:24:08.644561Z"
    }
   },
   "outputs": [
    {
     "name": "stdout",
     "output_type": "stream",
     "text": [
      "Accuracy:  0.7979176526265973\n",
      "Precision:  0.6406926406926406\n",
      "Recall:  0.5314183123877917\n",
      "F1-Score:  0.5809617271835132\n"
     ]
    },
    {
     "data": {
      "text/plain": [
       "<sklearn.metrics._plot.confusion_matrix.ConfusionMatrixDisplay at 0x20565c88790>"
      ]
     },
     "execution_count": 126,
     "metadata": {},
     "output_type": "execute_result"
    },
    {
     "data": {
      "image/png": "[encoded data removed]",
      "text/plain": [
       "<Figure size 432x288 with 2 Axes>"
      ]
     },
     "metadata": {
      "needs_background": "light"
     },
     "output_type": "display_data"
    }
   ],
   "source": [
    "from sklearn.metrics import confusion_matrix\n",
    "from sklearn import metrics\n",
    "\n",
    "print(\"Accuracy: \",metrics.accuracy_score(y_test,y_pred_gbm))\n",
    "print(\"Precision: \",metrics.precision_score(y_test,y_pred_gbm))\n",
    "print(\"Recall: \",metrics.recall_score(y_test,y_pred_gbm))\n",
    "print(\"F1-Score: \",metrics.f1_score(y_test,y_pred_gbm))\n",
    "\n",
    "metrics.plot_confusion_matrix(gbm,X_all,Y)"
   ]
  },
  {
   "cell_type": "code",
   "execution_count": 127,
   "metadata": {
    "ExecuteTime": {
     "end_time": "2021-07-04T11:24:23.475160Z",
     "start_time": "2021-07-04T11:24:23.071198Z"
    }
   },
   "outputs": [
    {
     "name": "stdout",
     "output_type": "stream",
     "text": [
      "Accuracy:  0.7988641741599621\n",
      "Precision:  0.65\n",
      "Recall:  0.5134649910233393\n",
      "F1-Score:  0.5737211634904715\n"
     ]
    },
    {
     "data": {
      "text/plain": [
       "<sklearn.metrics._plot.confusion_matrix.ConfusionMatrixDisplay at 0x205663b4fa0>"
      ]
     },
     "execution_count": 127,
     "metadata": {},
     "output_type": "execute_result"
    },
    {
     "data": {
      "image/png": "[encoded data removed]",
      "text/plain": [
       "<Figure size 432x288 with 2 Axes>"
      ]
     },
     "metadata": {
      "needs_background": "light"
     },
     "output_type": "display_data"
    }
   ],
   "source": [
    "from sklearn.metrics import confusion_matrix\n",
    "from sklearn import metrics\n",
    "\n",
    "print(\"Accuracy: \",metrics.accuracy_score(y_test,y_pred_stack))\n",
    "print(\"Precision: \",metrics.precision_score(y_test,y_pred_stack))\n",
    "print(\"Recall: \",metrics.recall_score(y_test,y_pred_stack))\n",
    "print(\"F1-Score: \",metrics.f1_score(y_test,y_pred_stack))\n",
    "\n",
    "metrics.plot_confusion_matrix(stack,X_all,Y)"
   ]
  },
  {
   "cell_type": "code",
   "execution_count": null,
   "metadata": {},
   "outputs": [],
   "source": [
    "# from the above model we can see that True Positives of gbm model is the best,false negatives are also comparatively low\n",
    "# however there are still a lot of misclassification and a lot of false negatives. hence low recall score\n",
    "\n",
    "# So from the above recall scores, we will know that it's around 50%, which means the actual churners are getting\n",
    "# probability vlaues less that 50% hence they are getting characterised as 0, when they are actual 0s\n",
    "\n",
    "# so in this case it is better to use a lower probability values as cut off to identify churners.\n",
    "# hence we will be using lorenz curve with actual predicted probability instead of predicted values(0 or 1)"
   ]
  },
  {
   "cell_type": "markdown",
   "metadata": {},
   "source": [
    "## Lorenz Curve"
   ]
  },
  {
   "cell_type": "markdown",
   "metadata": {},
   "source": [
    "#### Logistic Regression Lorenz Curve"
   ]
  },
  {
   "cell_type": "code",
   "execution_count": 156,
   "metadata": {
    "ExecuteTime": {
     "end_time": "2021-07-04T13:32:58.295179Z",
     "start_time": "2021-07-04T13:32:58.135144Z"
    }
   },
   "outputs": [
    {
     "data": {
      "text/html": [
       "<div>\n",
       "<style scoped>\n",
       "    .dataframe tbody tr th:only-of-type {\n",
       "        vertical-align: middle;\n",
       "    }\n",
       "\n",
       "    .dataframe tbody tr th {\n",
       "        vertical-align: top;\n",
       "    }\n",
       "\n",
       "    .dataframe thead th {\n",
       "        text-align: right;\n",
       "    }\n",
       "</style>\n",
       "<table border=\"1\" class=\"dataframe\">\n",
       "  <thead>\n",
       "    <tr style=\"text-align: right;\">\n",
       "      <th></th>\n",
       "      <th>P_rank_logreg</th>\n",
       "      <th>count</th>\n",
       "      <th>Actual_Event_Rate</th>\n",
       "      <th>Predicted_Event_Rate</th>\n",
       "      <th>N_events</th>\n",
       "      <th>cum_events</th>\n",
       "      <th>event_cap</th>\n",
       "      <th>cum_event_cap</th>\n",
       "      <th>N_non_events</th>\n",
       "      <th>cum_non_events</th>\n",
       "      <th>event_non_cap</th>\n",
       "      <th>cum_non_event_cap</th>\n",
       "      <th>KS</th>\n",
       "      <th>random_cap</th>\n",
       "      <th>cum_random_cap</th>\n",
       "      <th>Decile</th>\n",
       "    </tr>\n",
       "  </thead>\n",
       "  <tbody>\n",
       "    <tr>\n",
       "      <th>0</th>\n",
       "      <td>10</td>\n",
       "      <td>705</td>\n",
       "      <td>0.760284</td>\n",
       "      <td>0.736007</td>\n",
       "      <td>536.0</td>\n",
       "      <td>536.0</td>\n",
       "      <td>0.286784</td>\n",
       "      <td>0.286784</td>\n",
       "      <td>169.0</td>\n",
       "      <td>169.0</td>\n",
       "      <td>0.032663</td>\n",
       "      <td>0.032663</td>\n",
       "      <td>0.2541</td>\n",
       "      <td>0.100099</td>\n",
       "      <td>0.100099</td>\n",
       "      <td>1</td>\n",
       "    </tr>\n",
       "    <tr>\n",
       "      <th>1</th>\n",
       "      <td>9</td>\n",
       "      <td>704</td>\n",
       "      <td>0.572443</td>\n",
       "      <td>0.594917</td>\n",
       "      <td>403.0</td>\n",
       "      <td>939.0</td>\n",
       "      <td>0.215623</td>\n",
       "      <td>0.502408</td>\n",
       "      <td>301.0</td>\n",
       "      <td>470.0</td>\n",
       "      <td>0.058175</td>\n",
       "      <td>0.090839</td>\n",
       "      <td>0.4116</td>\n",
       "      <td>0.099957</td>\n",
       "      <td>0.200057</td>\n",
       "      <td>2</td>\n",
       "    </tr>\n",
       "    <tr>\n",
       "      <th>2</th>\n",
       "      <td>8</td>\n",
       "      <td>704</td>\n",
       "      <td>0.443182</td>\n",
       "      <td>0.460019</td>\n",
       "      <td>312.0</td>\n",
       "      <td>1251.0</td>\n",
       "      <td>0.166934</td>\n",
       "      <td>0.669342</td>\n",
       "      <td>392.0</td>\n",
       "      <td>862.0</td>\n",
       "      <td>0.075763</td>\n",
       "      <td>0.166602</td>\n",
       "      <td>0.5027</td>\n",
       "      <td>0.099957</td>\n",
       "      <td>0.300014</td>\n",
       "      <td>3</td>\n",
       "    </tr>\n",
       "    <tr>\n",
       "      <th>3</th>\n",
       "      <td>7</td>\n",
       "      <td>704</td>\n",
       "      <td>0.308239</td>\n",
       "      <td>0.328185</td>\n",
       "      <td>217.0</td>\n",
       "      <td>1468.0</td>\n",
       "      <td>0.116105</td>\n",
       "      <td>0.785447</td>\n",
       "      <td>487.0</td>\n",
       "      <td>1349.0</td>\n",
       "      <td>0.094124</td>\n",
       "      <td>0.260727</td>\n",
       "      <td>0.5247</td>\n",
       "      <td>0.099957</td>\n",
       "      <td>0.399972</td>\n",
       "      <td>4</td>\n",
       "    </tr>\n",
       "    <tr>\n",
       "      <th>4</th>\n",
       "      <td>6</td>\n",
       "      <td>704</td>\n",
       "      <td>0.225852</td>\n",
       "      <td>0.218394</td>\n",
       "      <td>159.0</td>\n",
       "      <td>1627.0</td>\n",
       "      <td>0.085072</td>\n",
       "      <td>0.870519</td>\n",
       "      <td>545.0</td>\n",
       "      <td>1894.0</td>\n",
       "      <td>0.105334</td>\n",
       "      <td>0.366061</td>\n",
       "      <td>0.5045</td>\n",
       "      <td>0.099957</td>\n",
       "      <td>0.499929</td>\n",
       "      <td>5</td>\n",
       "    </tr>\n",
       "    <tr>\n",
       "      <th>5</th>\n",
       "      <td>5</td>\n",
       "      <td>705</td>\n",
       "      <td>0.160284</td>\n",
       "      <td>0.145098</td>\n",
       "      <td>113.0</td>\n",
       "      <td>1740.0</td>\n",
       "      <td>0.060460</td>\n",
       "      <td>0.930979</td>\n",
       "      <td>592.0</td>\n",
       "      <td>2486.0</td>\n",
       "      <td>0.114418</td>\n",
       "      <td>0.480479</td>\n",
       "      <td>0.4505</td>\n",
       "      <td>0.100099</td>\n",
       "      <td>0.600028</td>\n",
       "      <td>6</td>\n",
       "    </tr>\n",
       "    <tr>\n",
       "      <th>6</th>\n",
       "      <td>4</td>\n",
       "      <td>704</td>\n",
       "      <td>0.090909</td>\n",
       "      <td>0.091236</td>\n",
       "      <td>64.0</td>\n",
       "      <td>1804.0</td>\n",
       "      <td>0.034243</td>\n",
       "      <td>0.965222</td>\n",
       "      <td>640.0</td>\n",
       "      <td>3126.0</td>\n",
       "      <td>0.123695</td>\n",
       "      <td>0.604175</td>\n",
       "      <td>0.3610</td>\n",
       "      <td>0.099957</td>\n",
       "      <td>0.699986</td>\n",
       "      <td>7</td>\n",
       "    </tr>\n",
       "    <tr>\n",
       "      <th>7</th>\n",
       "      <td>3</td>\n",
       "      <td>704</td>\n",
       "      <td>0.052557</td>\n",
       "      <td>0.051302</td>\n",
       "      <td>37.0</td>\n",
       "      <td>1841.0</td>\n",
       "      <td>0.019797</td>\n",
       "      <td>0.985019</td>\n",
       "      <td>667.0</td>\n",
       "      <td>3793.0</td>\n",
       "      <td>0.128914</td>\n",
       "      <td>0.733089</td>\n",
       "      <td>0.2519</td>\n",
       "      <td>0.099957</td>\n",
       "      <td>0.799943</td>\n",
       "      <td>8</td>\n",
       "    </tr>\n",
       "    <tr>\n",
       "      <th>8</th>\n",
       "      <td>2</td>\n",
       "      <td>704</td>\n",
       "      <td>0.024148</td>\n",
       "      <td>0.024060</td>\n",
       "      <td>17.0</td>\n",
       "      <td>1858.0</td>\n",
       "      <td>0.009096</td>\n",
       "      <td>0.994114</td>\n",
       "      <td>687.0</td>\n",
       "      <td>4480.0</td>\n",
       "      <td>0.132779</td>\n",
       "      <td>0.865868</td>\n",
       "      <td>0.1282</td>\n",
       "      <td>0.099957</td>\n",
       "      <td>0.899901</td>\n",
       "      <td>9</td>\n",
       "    </tr>\n",
       "    <tr>\n",
       "      <th>9</th>\n",
       "      <td>1</td>\n",
       "      <td>705</td>\n",
       "      <td>0.015603</td>\n",
       "      <td>0.007748</td>\n",
       "      <td>11.0</td>\n",
       "      <td>1869.0</td>\n",
       "      <td>0.005886</td>\n",
       "      <td>1.000000</td>\n",
       "      <td>694.0</td>\n",
       "      <td>5174.0</td>\n",
       "      <td>0.134132</td>\n",
       "      <td>1.000000</td>\n",
       "      <td>-0.0000</td>\n",
       "      <td>0.100099</td>\n",
       "      <td>1.000000</td>\n",
       "      <td>10</td>\n",
       "    </tr>\n",
       "  </tbody>\n",
       "</table>\n",
       "</div>"
      ],
      "text/plain": [
       "   P_rank_logreg  count  Actual_Event_Rate  Predicted_Event_Rate  N_events  \\\n",
       "0             10    705           0.760284              0.736007     536.0   \n",
       "1              9    704           0.572443              0.594917     403.0   \n",
       "2              8    704           0.443182              0.460019     312.0   \n",
       "3              7    704           0.308239              0.328185     217.0   \n",
       "4              6    704           0.225852              0.218394     159.0   \n",
       "5              5    705           0.160284              0.145098     113.0   \n",
       "6              4    704           0.090909              0.091236      64.0   \n",
       "7              3    704           0.052557              0.051302      37.0   \n",
       "8              2    704           0.024148              0.024060      17.0   \n",
       "9              1    705           0.015603              0.007748      11.0   \n",
       "\n",
       "   cum_events  event_cap  cum_event_cap  N_non_events  cum_non_events  \\\n",
       "0       536.0   0.286784       0.286784         169.0           169.0   \n",
       "1       939.0   0.215623       0.502408         301.0           470.0   \n",
       "2      1251.0   0.166934       0.669342         392.0           862.0   \n",
       "3      1468.0   0.116105       0.785447         487.0          1349.0   \n",
       "4      1627.0   0.085072       0.870519         545.0          1894.0   \n",
       "5      1740.0   0.060460       0.930979         592.0          2486.0   \n",
       "6      1804.0   0.034243       0.965222         640.0          3126.0   \n",
       "7      1841.0   0.019797       0.985019         667.0          3793.0   \n",
       "8      1858.0   0.009096       0.994114         687.0          4480.0   \n",
       "9      1869.0   0.005886       1.000000         694.0          5174.0   \n",
       "\n",
       "   event_non_cap  cum_non_event_cap      KS  random_cap  cum_random_cap  \\\n",
       "0       0.032663           0.032663  0.2541    0.100099        0.100099   \n",
       "1       0.058175           0.090839  0.4116    0.099957        0.200057   \n",
       "2       0.075763           0.166602  0.5027    0.099957        0.300014   \n",
       "3       0.094124           0.260727  0.5247    0.099957        0.399972   \n",
       "4       0.105334           0.366061  0.5045    0.099957        0.499929   \n",
       "5       0.114418           0.480479  0.4505    0.100099        0.600028   \n",
       "6       0.123695           0.604175  0.3610    0.099957        0.699986   \n",
       "7       0.128914           0.733089  0.2519    0.099957        0.799943   \n",
       "8       0.132779           0.865868  0.1282    0.099957        0.899901   \n",
       "9       0.134132           1.000000 -0.0000    0.100099        1.000000   \n",
       "\n",
       "   Decile  \n",
       "0       1  \n",
       "1       2  \n",
       "2       3  \n",
       "3       4  \n",
       "4       5  \n",
       "5       6  \n",
       "6       7  \n",
       "7       8  \n",
       "8       9  \n",
       "9      10  "
      ]
     },
     "execution_count": 156,
     "metadata": {},
     "output_type": "execute_result"
    }
   ],
   "source": [
    "y_pred_prob=logreg.predict_proba(X_all)[:,1]   #predict probability\n",
    "#returns two columns, where first column is(non event) for not risky and 2nd column is the actual event,\n",
    "# hence we  take only 2nd column\n",
    "\n",
    "df['y_pred_prob']=pd.DataFrame(y_pred_prob) # adding a y_pred column to the original df along side actual Y\n",
    "\n",
    "df['P_rank_logreg']=pd.qcut(df['y_pred_prob'].rank(method='first').values,10,duplicates='drop').codes+1\n",
    "#grouping the predicted probability in deciles (1 to 10)\n",
    "\n",
    "\n",
    "#creating new columns for count and mean and adding in a new df. Count shows the number of rows/records in each decile.\n",
    "# mean shows the event rate \n",
    "# creating for both actual and predicted event rate and renaming it\n",
    "rank_df_actuals=df.groupby('P_rank_logreg')['target'].agg(['count','mean'])\n",
    "rank_df_predicted=df.groupby('P_rank_logreg')['y_pred_prob'].agg(['mean'])\n",
    "\n",
    "rank_df_actuals=pd.DataFrame(rank_df_actuals)\n",
    "rank_df_actuals.rename(columns={'mean':'Actual_Event_Rate'},inplace=True)\n",
    "\n",
    "rank_df_predicted=pd.DataFrame(rank_df_predicted)\n",
    "rank_df_predicted.rename(columns={'mean':'Predicted_Event_Rate'},inplace=True)\n",
    "\n",
    "# combining both the df for actual and predicted\n",
    "rank_df=pd.concat([rank_df_actuals,rank_df_predicted],axis=1,join='inner')\n",
    "\n",
    "\n",
    "#sorting & creating new df based on Rank in desc order\n",
    "sorted_rank_df=rank_df.sort_values(by='P_rank_logreg',ascending=False)\n",
    "\n",
    "\n",
    "# Adding some new calculated columns\n",
    "\n",
    "#for event\n",
    "sorted_rank_df['N_events']=rank_df['count']*rank_df['Actual_Event_Rate'] #column to show number of event in each decile\n",
    "sorted_rank_df['cum_events']=sorted_rank_df['N_events'].cumsum() #cumulative sum of all events\n",
    "sorted_rank_df['event_cap']=sorted_rank_df['N_events']/max(sorted_rank_df['N_events'].cumsum()) # each event/total event\n",
    "# above column shows how many percentage of event does the decile account for\n",
    "sorted_rank_df['cum_event_cap']=sorted_rank_df['event_cap'].cumsum()  # cumulative event rate\n",
    "\n",
    "\n",
    "#for non event\n",
    "sorted_rank_df['N_non_events']=sorted_rank_df['count'] - sorted_rank_df['N_events'] \n",
    "sorted_rank_df['cum_non_events']=sorted_rank_df['N_non_events'].cumsum() \n",
    "sorted_rank_df['event_non_cap']=sorted_rank_df['N_non_events']/max(sorted_rank_df['N_non_events'].cumsum()) \n",
    "sorted_rank_df['cum_non_event_cap']=sorted_rank_df['event_non_cap'].cumsum()\n",
    "\n",
    "\n",
    "sorted_rank_df['KS']=round((sorted_rank_df['cum_event_cap']-sorted_rank_df['cum_non_event_cap']),4)\n",
    "# named after Kolmogorov–Smirnov test\n",
    "# KS metrics tells us how similar(closer) or dissimilar(far apart) two distributions are\n",
    "# for a good model the KS value will maximize between 2nd and 3rd decile because that is where majority of the polulation\n",
    "# lies which basically means if you go through top 30% of your data, that should account for majority of the events\n",
    "\n",
    "sorted_rank_df['random_cap']=sorted_rank_df['count']/max(sorted_rank_df['count'].cumsum()) #records % per decile(10% each)\n",
    "sorted_rank_df['cum_random_cap']=sorted_rank_df['random_cap'].cumsum() # cumulative of the above column (adds up to100%)\n",
    "\n",
    "sorted_reindexed=sorted_rank_df.reset_index()\n",
    "sorted_reindexed['Decile']=sorted_reindexed.index+1 # decile number\n",
    "sorted_reindexed"
   ]
  },
  {
   "cell_type": "code",
   "execution_count": 157,
   "metadata": {
    "ExecuteTime": {
     "end_time": "2021-07-04T13:33:00.031264Z",
     "start_time": "2021-07-04T13:32:59.835263Z"
    }
   },
   "outputs": [
    {
     "data": {
      "image/png": "[encoded data removed]",
      "text/plain": [
       "<Figure size 432x288 with 1 Axes>"
      ]
     },
     "metadata": {
      "needs_background": "light"
     },
     "output_type": "display_data"
    }
   ],
   "source": [
    "ax=sns.lineplot(x=\"Decile\",y=\"Actual_Event_Rate\",data=sorted_reindexed,color='red')\n",
    "ax=sns.lineplot(x=\"Decile\",y=\"Predicted_Event_Rate\",data=sorted_reindexed,color='green')"
   ]
  },
  {
   "cell_type": "code",
   "execution_count": 158,
   "metadata": {
    "ExecuteTime": {
     "end_time": "2021-07-04T13:33:01.417971Z",
     "start_time": "2021-07-04T13:33:01.233979Z"
    }
   },
   "outputs": [
    {
     "data": {
      "image/png": "[encoded data removed]",
      "text/plain": [
       "<Figure size 432x288 with 1 Axes>"
      ]
     },
     "metadata": {
      "needs_background": "light"
     },
     "output_type": "display_data"
    }
   ],
   "source": [
    "ax=sns.lineplot(x=\"Decile\",y=\"cum_random_cap\",data=sorted_reindexed,color='red')\n",
    "ax=sns.lineplot(x=\"Decile\",y=\"cum_event_cap\",data=sorted_reindexed,color='green')"
   ]
  },
  {
   "cell_type": "code",
   "execution_count": null,
   "metadata": {},
   "outputs": [],
   "source": []
  },
  {
   "cell_type": "markdown",
   "metadata": {},
   "source": [
    "#### Decision Tree Lorenz Curve"
   ]
  },
  {
   "cell_type": "code",
   "execution_count": 159,
   "metadata": {
    "ExecuteTime": {
     "end_time": "2021-07-04T13:33:05.945337Z",
     "start_time": "2021-07-04T13:33:05.881300Z"
    }
   },
   "outputs": [
    {
     "data": {
      "text/html": [
       "<div>\n",
       "<style scoped>\n",
       "    .dataframe tbody tr th:only-of-type {\n",
       "        vertical-align: middle;\n",
       "    }\n",
       "\n",
       "    .dataframe tbody tr th {\n",
       "        vertical-align: top;\n",
       "    }\n",
       "\n",
       "    .dataframe thead th {\n",
       "        text-align: right;\n",
       "    }\n",
       "</style>\n",
       "<table border=\"1\" class=\"dataframe\">\n",
       "  <thead>\n",
       "    <tr style=\"text-align: right;\">\n",
       "      <th></th>\n",
       "      <th>P_rank_dtree</th>\n",
       "      <th>count</th>\n",
       "      <th>Actual_Event_Rate</th>\n",
       "      <th>Predicted_Event_Rate</th>\n",
       "      <th>N_events</th>\n",
       "      <th>cum_events</th>\n",
       "      <th>event_cap</th>\n",
       "      <th>cum_event_cap</th>\n",
       "      <th>N_non_events</th>\n",
       "      <th>cum_non_events</th>\n",
       "      <th>event_non_cap</th>\n",
       "      <th>cum_non_event_cap</th>\n",
       "      <th>KS</th>\n",
       "      <th>random_cap</th>\n",
       "      <th>cum_random_cap</th>\n",
       "      <th>Decile</th>\n",
       "    </tr>\n",
       "  </thead>\n",
       "  <tbody>\n",
       "    <tr>\n",
       "      <th>0</th>\n",
       "      <td>10</td>\n",
       "      <td>705</td>\n",
       "      <td>0.757447</td>\n",
       "      <td>0.775697</td>\n",
       "      <td>534.0</td>\n",
       "      <td>534.0</td>\n",
       "      <td>0.285714</td>\n",
       "      <td>0.285714</td>\n",
       "      <td>171.0</td>\n",
       "      <td>171.0</td>\n",
       "      <td>0.033050</td>\n",
       "      <td>0.033050</td>\n",
       "      <td>0.2527</td>\n",
       "      <td>0.100099</td>\n",
       "      <td>0.100099</td>\n",
       "      <td>1</td>\n",
       "    </tr>\n",
       "    <tr>\n",
       "      <th>1</th>\n",
       "      <td>9</td>\n",
       "      <td>704</td>\n",
       "      <td>0.600852</td>\n",
       "      <td>0.612564</td>\n",
       "      <td>423.0</td>\n",
       "      <td>957.0</td>\n",
       "      <td>0.226324</td>\n",
       "      <td>0.512039</td>\n",
       "      <td>281.0</td>\n",
       "      <td>452.0</td>\n",
       "      <td>0.054310</td>\n",
       "      <td>0.087360</td>\n",
       "      <td>0.4247</td>\n",
       "      <td>0.099957</td>\n",
       "      <td>0.200057</td>\n",
       "      <td>2</td>\n",
       "    </tr>\n",
       "    <tr>\n",
       "      <th>2</th>\n",
       "      <td>8</td>\n",
       "      <td>704</td>\n",
       "      <td>0.420455</td>\n",
       "      <td>0.440659</td>\n",
       "      <td>296.0</td>\n",
       "      <td>1253.0</td>\n",
       "      <td>0.158373</td>\n",
       "      <td>0.670412</td>\n",
       "      <td>408.0</td>\n",
       "      <td>860.0</td>\n",
       "      <td>0.078856</td>\n",
       "      <td>0.166216</td>\n",
       "      <td>0.5042</td>\n",
       "      <td>0.099957</td>\n",
       "      <td>0.300014</td>\n",
       "      <td>3</td>\n",
       "    </tr>\n",
       "    <tr>\n",
       "      <th>3</th>\n",
       "      <td>7</td>\n",
       "      <td>704</td>\n",
       "      <td>0.329545</td>\n",
       "      <td>0.325437</td>\n",
       "      <td>232.0</td>\n",
       "      <td>1485.0</td>\n",
       "      <td>0.124131</td>\n",
       "      <td>0.794543</td>\n",
       "      <td>472.0</td>\n",
       "      <td>1332.0</td>\n",
       "      <td>0.091225</td>\n",
       "      <td>0.257441</td>\n",
       "      <td>0.5371</td>\n",
       "      <td>0.099957</td>\n",
       "      <td>0.399972</td>\n",
       "      <td>4</td>\n",
       "    </tr>\n",
       "    <tr>\n",
       "      <th>4</th>\n",
       "      <td>6</td>\n",
       "      <td>704</td>\n",
       "      <td>0.198864</td>\n",
       "      <td>0.198429</td>\n",
       "      <td>140.0</td>\n",
       "      <td>1625.0</td>\n",
       "      <td>0.074906</td>\n",
       "      <td>0.869449</td>\n",
       "      <td>564.0</td>\n",
       "      <td>1896.0</td>\n",
       "      <td>0.109007</td>\n",
       "      <td>0.366448</td>\n",
       "      <td>0.5030</td>\n",
       "      <td>0.099957</td>\n",
       "      <td>0.499929</td>\n",
       "      <td>5</td>\n",
       "    </tr>\n",
       "    <tr>\n",
       "      <th>5</th>\n",
       "      <td>5</td>\n",
       "      <td>705</td>\n",
       "      <td>0.156028</td>\n",
       "      <td>0.152310</td>\n",
       "      <td>110.0</td>\n",
       "      <td>1735.0</td>\n",
       "      <td>0.058855</td>\n",
       "      <td>0.928304</td>\n",
       "      <td>595.0</td>\n",
       "      <td>2491.0</td>\n",
       "      <td>0.114998</td>\n",
       "      <td>0.481446</td>\n",
       "      <td>0.4469</td>\n",
       "      <td>0.100099</td>\n",
       "      <td>0.600028</td>\n",
       "      <td>6</td>\n",
       "    </tr>\n",
       "    <tr>\n",
       "      <th>6</th>\n",
       "      <td>4</td>\n",
       "      <td>704</td>\n",
       "      <td>0.120739</td>\n",
       "      <td>0.101395</td>\n",
       "      <td>85.0</td>\n",
       "      <td>1820.0</td>\n",
       "      <td>0.045479</td>\n",
       "      <td>0.973783</td>\n",
       "      <td>619.0</td>\n",
       "      <td>3110.0</td>\n",
       "      <td>0.119637</td>\n",
       "      <td>0.601082</td>\n",
       "      <td>0.3727</td>\n",
       "      <td>0.099957</td>\n",
       "      <td>0.699986</td>\n",
       "      <td>7</td>\n",
       "    </tr>\n",
       "    <tr>\n",
       "      <th>7</th>\n",
       "      <td>3</td>\n",
       "      <td>704</td>\n",
       "      <td>0.041193</td>\n",
       "      <td>0.039016</td>\n",
       "      <td>29.0</td>\n",
       "      <td>1849.0</td>\n",
       "      <td>0.015516</td>\n",
       "      <td>0.989299</td>\n",
       "      <td>675.0</td>\n",
       "      <td>3785.0</td>\n",
       "      <td>0.130460</td>\n",
       "      <td>0.731542</td>\n",
       "      <td>0.2578</td>\n",
       "      <td>0.099957</td>\n",
       "      <td>0.799943</td>\n",
       "      <td>8</td>\n",
       "    </tr>\n",
       "    <tr>\n",
       "      <th>8</th>\n",
       "      <td>2</td>\n",
       "      <td>704</td>\n",
       "      <td>0.017045</td>\n",
       "      <td>0.016893</td>\n",
       "      <td>12.0</td>\n",
       "      <td>1861.0</td>\n",
       "      <td>0.006421</td>\n",
       "      <td>0.995720</td>\n",
       "      <td>692.0</td>\n",
       "      <td>4477.0</td>\n",
       "      <td>0.133746</td>\n",
       "      <td>0.865288</td>\n",
       "      <td>0.1304</td>\n",
       "      <td>0.099957</td>\n",
       "      <td>0.899901</td>\n",
       "      <td>9</td>\n",
       "    </tr>\n",
       "    <tr>\n",
       "      <th>9</th>\n",
       "      <td>1</td>\n",
       "      <td>705</td>\n",
       "      <td>0.011348</td>\n",
       "      <td>0.003096</td>\n",
       "      <td>8.0</td>\n",
       "      <td>1869.0</td>\n",
       "      <td>0.004280</td>\n",
       "      <td>1.000000</td>\n",
       "      <td>697.0</td>\n",
       "      <td>5174.0</td>\n",
       "      <td>0.134712</td>\n",
       "      <td>1.000000</td>\n",
       "      <td>-0.0000</td>\n",
       "      <td>0.100099</td>\n",
       "      <td>1.000000</td>\n",
       "      <td>10</td>\n",
       "    </tr>\n",
       "  </tbody>\n",
       "</table>\n",
       "</div>"
      ],
      "text/plain": [
       "   P_rank_dtree  count  Actual_Event_Rate  Predicted_Event_Rate  N_events  \\\n",
       "0            10    705           0.757447              0.775697     534.0   \n",
       "1             9    704           0.600852              0.612564     423.0   \n",
       "2             8    704           0.420455              0.440659     296.0   \n",
       "3             7    704           0.329545              0.325437     232.0   \n",
       "4             6    704           0.198864              0.198429     140.0   \n",
       "5             5    705           0.156028              0.152310     110.0   \n",
       "6             4    704           0.120739              0.101395      85.0   \n",
       "7             3    704           0.041193              0.039016      29.0   \n",
       "8             2    704           0.017045              0.016893      12.0   \n",
       "9             1    705           0.011348              0.003096       8.0   \n",
       "\n",
       "   cum_events  event_cap  cum_event_cap  N_non_events  cum_non_events  \\\n",
       "0       534.0   0.285714       0.285714         171.0           171.0   \n",
       "1       957.0   0.226324       0.512039         281.0           452.0   \n",
       "2      1253.0   0.158373       0.670412         408.0           860.0   \n",
       "3      1485.0   0.124131       0.794543         472.0          1332.0   \n",
       "4      1625.0   0.074906       0.869449         564.0          1896.0   \n",
       "5      1735.0   0.058855       0.928304         595.0          2491.0   \n",
       "6      1820.0   0.045479       0.973783         619.0          3110.0   \n",
       "7      1849.0   0.015516       0.989299         675.0          3785.0   \n",
       "8      1861.0   0.006421       0.995720         692.0          4477.0   \n",
       "9      1869.0   0.004280       1.000000         697.0          5174.0   \n",
       "\n",
       "   event_non_cap  cum_non_event_cap      KS  random_cap  cum_random_cap  \\\n",
       "0       0.033050           0.033050  0.2527    0.100099        0.100099   \n",
       "1       0.054310           0.087360  0.4247    0.099957        0.200057   \n",
       "2       0.078856           0.166216  0.5042    0.099957        0.300014   \n",
       "3       0.091225           0.257441  0.5371    0.099957        0.399972   \n",
       "4       0.109007           0.366448  0.5030    0.099957        0.499929   \n",
       "5       0.114998           0.481446  0.4469    0.100099        0.600028   \n",
       "6       0.119637           0.601082  0.3727    0.099957        0.699986   \n",
       "7       0.130460           0.731542  0.2578    0.099957        0.799943   \n",
       "8       0.133746           0.865288  0.1304    0.099957        0.899901   \n",
       "9       0.134712           1.000000 -0.0000    0.100099        1.000000   \n",
       "\n",
       "   Decile  \n",
       "0       1  \n",
       "1       2  \n",
       "2       3  \n",
       "3       4  \n",
       "4       5  \n",
       "5       6  \n",
       "6       7  \n",
       "7       8  \n",
       "8       9  \n",
       "9      10  "
      ]
     },
     "execution_count": 159,
     "metadata": {},
     "output_type": "execute_result"
    }
   ],
   "source": [
    "y_pred_prob=dtree.predict_proba(X_all)[:,1]   #predict probability\n",
    "#returns two columns, where first column is(non event) for not risky and 2nd column is the actual event,\n",
    "# hence we  take only 2nd column\n",
    "\n",
    "df['y_pred_prob']=pd.DataFrame(y_pred_prob) # adding a y_pred column to the original df along side actual Y\n",
    "\n",
    "df['P_rank_dtree']=pd.qcut(df['y_pred_prob'].rank(method='first').values,10,duplicates='drop').codes+1\n",
    "#grouping the predicted probability in deciles (1 to 10)\n",
    "\n",
    "\n",
    "#creating new columns for count and mean and adding in a new df. Count shows the number of rows/records in each decile.\n",
    "# mean shows the event rate \n",
    "# creating for both actual and predicted event rate and renaming it\n",
    "rank_df_actuals=df.groupby('P_rank_dtree')['target'].agg(['count','mean'])\n",
    "rank_df_predicted=df.groupby('P_rank_dtree')['y_pred_prob'].agg(['mean'])\n",
    "\n",
    "rank_df_actuals=pd.DataFrame(rank_df_actuals)\n",
    "rank_df_actuals.rename(columns={'mean':'Actual_Event_Rate'},inplace=True)\n",
    "\n",
    "rank_df_predicted=pd.DataFrame(rank_df_predicted)\n",
    "rank_df_predicted.rename(columns={'mean':'Predicted_Event_Rate'},inplace=True)\n",
    "\n",
    "# combining both the df for actual and predicted\n",
    "rank_df=pd.concat([rank_df_actuals,rank_df_predicted],axis=1,join='inner')\n",
    "\n",
    "\n",
    "#sorting & creating new df based on Rank in desc order\n",
    "sorted_rank_df=rank_df.sort_values(by='P_rank_dtree',ascending=False)\n",
    "\n",
    "\n",
    "# Adding some new calculated columns\n",
    "\n",
    "#for event\n",
    "sorted_rank_df['N_events']=rank_df['count']*rank_df['Actual_Event_Rate'] #column to show number of event in each decile\n",
    "sorted_rank_df['cum_events']=sorted_rank_df['N_events'].cumsum() #cumulative sum of all events\n",
    "sorted_rank_df['event_cap']=sorted_rank_df['N_events']/max(sorted_rank_df['N_events'].cumsum()) # each event/total event\n",
    "# above column shows how many percentage of event does the decile account for\n",
    "sorted_rank_df['cum_event_cap']=sorted_rank_df['event_cap'].cumsum()  # cumulative event rate\n",
    "\n",
    "\n",
    "#for non event\n",
    "sorted_rank_df['N_non_events']=sorted_rank_df['count'] - sorted_rank_df['N_events'] \n",
    "sorted_rank_df['cum_non_events']=sorted_rank_df['N_non_events'].cumsum() \n",
    "sorted_rank_df['event_non_cap']=sorted_rank_df['N_non_events']/max(sorted_rank_df['N_non_events'].cumsum()) \n",
    "sorted_rank_df['cum_non_event_cap']=sorted_rank_df['event_non_cap'].cumsum()\n",
    "\n",
    "\n",
    "sorted_rank_df['KS']=round((sorted_rank_df['cum_event_cap']-sorted_rank_df['cum_non_event_cap']),4)\n",
    "\n",
    "\n",
    "sorted_rank_df['random_cap']=sorted_rank_df['count']/max(sorted_rank_df['count'].cumsum()) #records % per decile(10% each)\n",
    "sorted_rank_df['cum_random_cap']=sorted_rank_df['random_cap'].cumsum() # cumulative of the above column (adds up to100%)\n",
    "\n",
    "sorted_reindexed=sorted_rank_df.reset_index()\n",
    "sorted_reindexed['Decile']=sorted_reindexed.index+1 # decile number\n",
    "sorted_reindexed"
   ]
  },
  {
   "cell_type": "code",
   "execution_count": 160,
   "metadata": {
    "ExecuteTime": {
     "end_time": "2021-07-04T13:33:07.330724Z",
     "start_time": "2021-07-04T13:33:07.146707Z"
    }
   },
   "outputs": [
    {
     "data": {
      "image/png": "[encoded data removed]",
      "text/plain": [
       "<Figure size 432x288 with 1 Axes>"
      ]
     },
     "metadata": {
      "needs_background": "light"
     },
     "output_type": "display_data"
    }
   ],
   "source": [
    "ax=sns.lineplot(x=\"Decile\",y=\"Actual_Event_Rate\",data=sorted_reindexed,color='red')\n",
    "ax=sns.lineplot(x=\"Decile\",y=\"Predicted_Event_Rate\",data=sorted_reindexed,color='green')"
   ]
  },
  {
   "cell_type": "code",
   "execution_count": 161,
   "metadata": {
    "ExecuteTime": {
     "end_time": "2021-07-04T13:33:09.289266Z",
     "start_time": "2021-07-04T13:33:09.097267Z"
    }
   },
   "outputs": [
    {
     "data": {
      "image/png": "[encoded data removed]",
      "text/plain": [
       "<Figure size 432x288 with 1 Axes>"
      ]
     },
     "metadata": {
      "needs_background": "light"
     },
     "output_type": "display_data"
    }
   ],
   "source": [
    "ax=sns.lineplot(x=\"Decile\",y=\"cum_random_cap\",data=sorted_reindexed,color='red')\n",
    "ax=sns.lineplot(x=\"Decile\",y=\"cum_event_cap\",data=sorted_reindexed,color='green')"
   ]
  },
  {
   "cell_type": "code",
   "execution_count": null,
   "metadata": {},
   "outputs": [],
   "source": []
  },
  {
   "cell_type": "markdown",
   "metadata": {},
   "source": [
    "#### Random Forest Lorenz Curve"
   ]
  },
  {
   "cell_type": "code",
   "execution_count": 162,
   "metadata": {
    "ExecuteTime": {
     "end_time": "2021-07-04T13:33:18.777584Z",
     "start_time": "2021-07-04T13:33:18.633583Z"
    }
   },
   "outputs": [
    {
     "data": {
      "text/html": [
       "<div>\n",
       "<style scoped>\n",
       "    .dataframe tbody tr th:only-of-type {\n",
       "        vertical-align: middle;\n",
       "    }\n",
       "\n",
       "    .dataframe tbody tr th {\n",
       "        vertical-align: top;\n",
       "    }\n",
       "\n",
       "    .dataframe thead th {\n",
       "        text-align: right;\n",
       "    }\n",
       "</style>\n",
       "<table border=\"1\" class=\"dataframe\">\n",
       "  <thead>\n",
       "    <tr style=\"text-align: right;\">\n",
       "      <th></th>\n",
       "      <th>P_rank_rf</th>\n",
       "      <th>count</th>\n",
       "      <th>Actual_Event_Rate</th>\n",
       "      <th>Predicted_Event_Rate</th>\n",
       "      <th>N_events</th>\n",
       "      <th>cum_events</th>\n",
       "      <th>event_cap</th>\n",
       "      <th>cum_event_cap</th>\n",
       "      <th>N_non_events</th>\n",
       "      <th>cum_non_events</th>\n",
       "      <th>event_non_cap</th>\n",
       "      <th>cum_non_event_cap</th>\n",
       "      <th>KS</th>\n",
       "      <th>random_cap</th>\n",
       "      <th>cum_random_cap</th>\n",
       "      <th>Decile</th>\n",
       "    </tr>\n",
       "  </thead>\n",
       "  <tbody>\n",
       "    <tr>\n",
       "      <th>0</th>\n",
       "      <td>10</td>\n",
       "      <td>705</td>\n",
       "      <td>0.763121</td>\n",
       "      <td>0.667740</td>\n",
       "      <td>538.0</td>\n",
       "      <td>538.0</td>\n",
       "      <td>0.287854</td>\n",
       "      <td>0.287854</td>\n",
       "      <td>167.0</td>\n",
       "      <td>167.0</td>\n",
       "      <td>0.032277</td>\n",
       "      <td>0.032277</td>\n",
       "      <td>0.2556</td>\n",
       "      <td>0.100099</td>\n",
       "      <td>0.100099</td>\n",
       "      <td>1</td>\n",
       "    </tr>\n",
       "    <tr>\n",
       "      <th>1</th>\n",
       "      <td>9</td>\n",
       "      <td>704</td>\n",
       "      <td>0.596591</td>\n",
       "      <td>0.533612</td>\n",
       "      <td>420.0</td>\n",
       "      <td>958.0</td>\n",
       "      <td>0.224719</td>\n",
       "      <td>0.512574</td>\n",
       "      <td>284.0</td>\n",
       "      <td>451.0</td>\n",
       "      <td>0.054890</td>\n",
       "      <td>0.087167</td>\n",
       "      <td>0.4254</td>\n",
       "      <td>0.099957</td>\n",
       "      <td>0.200057</td>\n",
       "      <td>2</td>\n",
       "    </tr>\n",
       "    <tr>\n",
       "      <th>2</th>\n",
       "      <td>8</td>\n",
       "      <td>704</td>\n",
       "      <td>0.457386</td>\n",
       "      <td>0.426432</td>\n",
       "      <td>322.0</td>\n",
       "      <td>1280.0</td>\n",
       "      <td>0.172285</td>\n",
       "      <td>0.684858</td>\n",
       "      <td>382.0</td>\n",
       "      <td>833.0</td>\n",
       "      <td>0.073831</td>\n",
       "      <td>0.160997</td>\n",
       "      <td>0.5239</td>\n",
       "      <td>0.099957</td>\n",
       "      <td>0.300014</td>\n",
       "      <td>3</td>\n",
       "    </tr>\n",
       "    <tr>\n",
       "      <th>3</th>\n",
       "      <td>7</td>\n",
       "      <td>704</td>\n",
       "      <td>0.311080</td>\n",
       "      <td>0.325696</td>\n",
       "      <td>219.0</td>\n",
       "      <td>1499.0</td>\n",
       "      <td>0.117175</td>\n",
       "      <td>0.802033</td>\n",
       "      <td>485.0</td>\n",
       "      <td>1318.0</td>\n",
       "      <td>0.093738</td>\n",
       "      <td>0.254735</td>\n",
       "      <td>0.5473</td>\n",
       "      <td>0.099957</td>\n",
       "      <td>0.399972</td>\n",
       "      <td>4</td>\n",
       "    </tr>\n",
       "    <tr>\n",
       "      <th>4</th>\n",
       "      <td>6</td>\n",
       "      <td>704</td>\n",
       "      <td>0.235795</td>\n",
       "      <td>0.253239</td>\n",
       "      <td>166.0</td>\n",
       "      <td>1665.0</td>\n",
       "      <td>0.088818</td>\n",
       "      <td>0.890851</td>\n",
       "      <td>538.0</td>\n",
       "      <td>1856.0</td>\n",
       "      <td>0.103981</td>\n",
       "      <td>0.358717</td>\n",
       "      <td>0.5321</td>\n",
       "      <td>0.099957</td>\n",
       "      <td>0.499929</td>\n",
       "      <td>5</td>\n",
       "    </tr>\n",
       "    <tr>\n",
       "      <th>5</th>\n",
       "      <td>5</td>\n",
       "      <td>705</td>\n",
       "      <td>0.130496</td>\n",
       "      <td>0.186314</td>\n",
       "      <td>92.0</td>\n",
       "      <td>1757.0</td>\n",
       "      <td>0.049224</td>\n",
       "      <td>0.940075</td>\n",
       "      <td>613.0</td>\n",
       "      <td>2469.0</td>\n",
       "      <td>0.118477</td>\n",
       "      <td>0.477194</td>\n",
       "      <td>0.4629</td>\n",
       "      <td>0.100099</td>\n",
       "      <td>0.600028</td>\n",
       "      <td>6</td>\n",
       "    </tr>\n",
       "    <tr>\n",
       "      <th>6</th>\n",
       "      <td>4</td>\n",
       "      <td>704</td>\n",
       "      <td>0.092330</td>\n",
       "      <td>0.128399</td>\n",
       "      <td>65.0</td>\n",
       "      <td>1822.0</td>\n",
       "      <td>0.034778</td>\n",
       "      <td>0.974853</td>\n",
       "      <td>639.0</td>\n",
       "      <td>3108.0</td>\n",
       "      <td>0.123502</td>\n",
       "      <td>0.600696</td>\n",
       "      <td>0.3742</td>\n",
       "      <td>0.099957</td>\n",
       "      <td>0.699986</td>\n",
       "      <td>7</td>\n",
       "    </tr>\n",
       "    <tr>\n",
       "      <th>7</th>\n",
       "      <td>3</td>\n",
       "      <td>704</td>\n",
       "      <td>0.048295</td>\n",
       "      <td>0.079613</td>\n",
       "      <td>34.0</td>\n",
       "      <td>1856.0</td>\n",
       "      <td>0.018192</td>\n",
       "      <td>0.993044</td>\n",
       "      <td>670.0</td>\n",
       "      <td>3778.0</td>\n",
       "      <td>0.129494</td>\n",
       "      <td>0.730189</td>\n",
       "      <td>0.2629</td>\n",
       "      <td>0.099957</td>\n",
       "      <td>0.799943</td>\n",
       "      <td>8</td>\n",
       "    </tr>\n",
       "    <tr>\n",
       "      <th>8</th>\n",
       "      <td>2</td>\n",
       "      <td>704</td>\n",
       "      <td>0.015625</td>\n",
       "      <td>0.037686</td>\n",
       "      <td>11.0</td>\n",
       "      <td>1867.0</td>\n",
       "      <td>0.005886</td>\n",
       "      <td>0.998930</td>\n",
       "      <td>693.0</td>\n",
       "      <td>4471.0</td>\n",
       "      <td>0.133939</td>\n",
       "      <td>0.864128</td>\n",
       "      <td>0.1348</td>\n",
       "      <td>0.099957</td>\n",
       "      <td>0.899901</td>\n",
       "      <td>9</td>\n",
       "    </tr>\n",
       "    <tr>\n",
       "      <th>9</th>\n",
       "      <td>1</td>\n",
       "      <td>705</td>\n",
       "      <td>0.002837</td>\n",
       "      <td>0.017306</td>\n",
       "      <td>2.0</td>\n",
       "      <td>1869.0</td>\n",
       "      <td>0.001070</td>\n",
       "      <td>1.000000</td>\n",
       "      <td>703.0</td>\n",
       "      <td>5174.0</td>\n",
       "      <td>0.135872</td>\n",
       "      <td>1.000000</td>\n",
       "      <td>0.0000</td>\n",
       "      <td>0.100099</td>\n",
       "      <td>1.000000</td>\n",
       "      <td>10</td>\n",
       "    </tr>\n",
       "  </tbody>\n",
       "</table>\n",
       "</div>"
      ],
      "text/plain": [
       "   P_rank_rf  count  Actual_Event_Rate  Predicted_Event_Rate  N_events  \\\n",
       "0         10    705           0.763121              0.667740     538.0   \n",
       "1          9    704           0.596591              0.533612     420.0   \n",
       "2          8    704           0.457386              0.426432     322.0   \n",
       "3          7    704           0.311080              0.325696     219.0   \n",
       "4          6    704           0.235795              0.253239     166.0   \n",
       "5          5    705           0.130496              0.186314      92.0   \n",
       "6          4    704           0.092330              0.128399      65.0   \n",
       "7          3    704           0.048295              0.079613      34.0   \n",
       "8          2    704           0.015625              0.037686      11.0   \n",
       "9          1    705           0.002837              0.017306       2.0   \n",
       "\n",
       "   cum_events  event_cap  cum_event_cap  N_non_events  cum_non_events  \\\n",
       "0       538.0   0.287854       0.287854         167.0           167.0   \n",
       "1       958.0   0.224719       0.512574         284.0           451.0   \n",
       "2      1280.0   0.172285       0.684858         382.0           833.0   \n",
       "3      1499.0   0.117175       0.802033         485.0          1318.0   \n",
       "4      1665.0   0.088818       0.890851         538.0          1856.0   \n",
       "5      1757.0   0.049224       0.940075         613.0          2469.0   \n",
       "6      1822.0   0.034778       0.974853         639.0          3108.0   \n",
       "7      1856.0   0.018192       0.993044         670.0          3778.0   \n",
       "8      1867.0   0.005886       0.998930         693.0          4471.0   \n",
       "9      1869.0   0.001070       1.000000         703.0          5174.0   \n",
       "\n",
       "   event_non_cap  cum_non_event_cap      KS  random_cap  cum_random_cap  \\\n",
       "0       0.032277           0.032277  0.2556    0.100099        0.100099   \n",
       "1       0.054890           0.087167  0.4254    0.099957        0.200057   \n",
       "2       0.073831           0.160997  0.5239    0.099957        0.300014   \n",
       "3       0.093738           0.254735  0.5473    0.099957        0.399972   \n",
       "4       0.103981           0.358717  0.5321    0.099957        0.499929   \n",
       "5       0.118477           0.477194  0.4629    0.100099        0.600028   \n",
       "6       0.123502           0.600696  0.3742    0.099957        0.699986   \n",
       "7       0.129494           0.730189  0.2629    0.099957        0.799943   \n",
       "8       0.133939           0.864128  0.1348    0.099957        0.899901   \n",
       "9       0.135872           1.000000  0.0000    0.100099        1.000000   \n",
       "\n",
       "   Decile  \n",
       "0       1  \n",
       "1       2  \n",
       "2       3  \n",
       "3       4  \n",
       "4       5  \n",
       "5       6  \n",
       "6       7  \n",
       "7       8  \n",
       "8       9  \n",
       "9      10  "
      ]
     },
     "execution_count": 162,
     "metadata": {},
     "output_type": "execute_result"
    }
   ],
   "source": [
    "y_pred_prob=rf.predict_proba(X_all)[:,1]   #predict probability\n",
    "#returns two columns, where first column is(non event) for not risky and 2nd column is the actual event,\n",
    "# hence we  take only 2nd column\n",
    "\n",
    "df['y_pred_prob']=pd.DataFrame(y_pred_prob) # adding a y_pred column to the original df along side actual Y\n",
    "\n",
    "df['P_rank_rf']=pd.qcut(df['y_pred_prob'].rank(method='first').values,10,duplicates='drop').codes+1\n",
    "#grouping the predicted probability in deciles (1 to 10)\n",
    "\n",
    "\n",
    "#creating new columns for count and mean and adding in a new df. Count shows the number of rows/records in each decile.\n",
    "# mean shows the event rate \n",
    "# creating for both actual and predicted event rate and renaming it\n",
    "rank_df_actuals=df.groupby('P_rank_rf')['target'].agg(['count','mean'])\n",
    "rank_df_predicted=df.groupby('P_rank_rf')['y_pred_prob'].agg(['mean'])\n",
    "\n",
    "rank_df_actuals=pd.DataFrame(rank_df_actuals)\n",
    "rank_df_actuals.rename(columns={'mean':'Actual_Event_Rate'},inplace=True)\n",
    "\n",
    "rank_df_predicted=pd.DataFrame(rank_df_predicted)\n",
    "rank_df_predicted.rename(columns={'mean':'Predicted_Event_Rate'},inplace=True)\n",
    "\n",
    "# combining both the df for actual and predicted\n",
    "rank_df=pd.concat([rank_df_actuals,rank_df_predicted],axis=1,join='inner')\n",
    "\n",
    "\n",
    "#sorting & creating new df based on Rank in desc order\n",
    "sorted_rank_df=rank_df.sort_values(by='P_rank_rf',ascending=False)\n",
    "\n",
    "\n",
    "# Adding some new calculated columns\n",
    "\n",
    "#for event\n",
    "sorted_rank_df['N_events']=rank_df['count']*rank_df['Actual_Event_Rate'] #column to show number of event in each decile\n",
    "sorted_rank_df['cum_events']=sorted_rank_df['N_events'].cumsum() #cumulative sum of all events\n",
    "sorted_rank_df['event_cap']=sorted_rank_df['N_events']/max(sorted_rank_df['N_events'].cumsum()) # each event/total event\n",
    "# above column shows how many percentage of event does the decile account for\n",
    "sorted_rank_df['cum_event_cap']=sorted_rank_df['event_cap'].cumsum()  # cumulative event rate\n",
    "\n",
    "\n",
    "#for non event\n",
    "sorted_rank_df['N_non_events']=sorted_rank_df['count'] - sorted_rank_df['N_events'] \n",
    "sorted_rank_df['cum_non_events']=sorted_rank_df['N_non_events'].cumsum() \n",
    "sorted_rank_df['event_non_cap']=sorted_rank_df['N_non_events']/max(sorted_rank_df['N_non_events'].cumsum()) \n",
    "sorted_rank_df['cum_non_event_cap']=sorted_rank_df['event_non_cap'].cumsum()\n",
    "\n",
    "\n",
    "sorted_rank_df['KS']=round((sorted_rank_df['cum_event_cap']-sorted_rank_df['cum_non_event_cap']),4)\n",
    "\n",
    "\n",
    "sorted_rank_df['random_cap']=sorted_rank_df['count']/max(sorted_rank_df['count'].cumsum()) #records % per decile(10% each)\n",
    "sorted_rank_df['cum_random_cap']=sorted_rank_df['random_cap'].cumsum() # cumulative of the above column (adds up to100%)\n",
    "\n",
    "sorted_reindexed=sorted_rank_df.reset_index()\n",
    "sorted_reindexed['Decile']=sorted_reindexed.index+1 # decile number\n",
    "sorted_reindexed"
   ]
  },
  {
   "cell_type": "code",
   "execution_count": 163,
   "metadata": {
    "ExecuteTime": {
     "end_time": "2021-07-04T13:33:20.036643Z",
     "start_time": "2021-07-04T13:33:19.860640Z"
    }
   },
   "outputs": [
    {
     "data": {
      "image/png": "[encoded data removed]",
      "text/plain": [
       "<Figure size 432x288 with 1 Axes>"
      ]
     },
     "metadata": {
      "needs_background": "light"
     },
     "output_type": "display_data"
    }
   ],
   "source": [
    "ax=sns.lineplot(x=\"Decile\",y=\"Actual_Event_Rate\",data=sorted_reindexed,color='red')\n",
    "ax=sns.lineplot(x=\"Decile\",y=\"Predicted_Event_Rate\",data=sorted_reindexed,color='green')"
   ]
  },
  {
   "cell_type": "code",
   "execution_count": 164,
   "metadata": {
    "ExecuteTime": {
     "end_time": "2021-07-04T13:33:21.917573Z",
     "start_time": "2021-07-04T13:33:21.741572Z"
    }
   },
   "outputs": [
    {
     "data": {
      "image/png": "[encoded data removed]",
      "text/plain": [
       "<Figure size 432x288 with 1 Axes>"
      ]
     },
     "metadata": {
      "needs_background": "light"
     },
     "output_type": "display_data"
    }
   ],
   "source": [
    "ax=sns.lineplot(x=\"Decile\",y=\"cum_random_cap\",data=sorted_reindexed,color='red')\n",
    "ax=sns.lineplot(x=\"Decile\",y=\"cum_event_cap\",data=sorted_reindexed,color='green')"
   ]
  },
  {
   "cell_type": "code",
   "execution_count": null,
   "metadata": {},
   "outputs": [],
   "source": []
  },
  {
   "cell_type": "markdown",
   "metadata": {},
   "source": [
    "#### GBM Lorenz Curve"
   ]
  },
  {
   "cell_type": "code",
   "execution_count": 165,
   "metadata": {
    "ExecuteTime": {
     "end_time": "2021-07-04T13:33:24.551462Z",
     "start_time": "2021-07-04T13:33:24.467388Z"
    }
   },
   "outputs": [
    {
     "data": {
      "text/html": [
       "<div>\n",
       "<style scoped>\n",
       "    .dataframe tbody tr th:only-of-type {\n",
       "        vertical-align: middle;\n",
       "    }\n",
       "\n",
       "    .dataframe tbody tr th {\n",
       "        vertical-align: top;\n",
       "    }\n",
       "\n",
       "    .dataframe thead th {\n",
       "        text-align: right;\n",
       "    }\n",
       "</style>\n",
       "<table border=\"1\" class=\"dataframe\">\n",
       "  <thead>\n",
       "    <tr style=\"text-align: right;\">\n",
       "      <th></th>\n",
       "      <th>P_rank_gbm</th>\n",
       "      <th>count</th>\n",
       "      <th>Actual_Event_Rate</th>\n",
       "      <th>Predicted_Event_Rate</th>\n",
       "      <th>N_events</th>\n",
       "      <th>cum_events</th>\n",
       "      <th>event_cap</th>\n",
       "      <th>cum_event_cap</th>\n",
       "      <th>N_non_events</th>\n",
       "      <th>cum_non_events</th>\n",
       "      <th>event_non_cap</th>\n",
       "      <th>cum_non_event_cap</th>\n",
       "      <th>KS</th>\n",
       "      <th>random_cap</th>\n",
       "      <th>cum_random_cap</th>\n",
       "      <th>Decile</th>\n",
       "    </tr>\n",
       "  </thead>\n",
       "  <tbody>\n",
       "    <tr>\n",
       "      <th>0</th>\n",
       "      <td>10</td>\n",
       "      <td>705</td>\n",
       "      <td>0.914894</td>\n",
       "      <td>0.816501</td>\n",
       "      <td>645.0</td>\n",
       "      <td>645.0</td>\n",
       "      <td>0.345104</td>\n",
       "      <td>0.345104</td>\n",
       "      <td>60.0</td>\n",
       "      <td>60.0</td>\n",
       "      <td>0.011596</td>\n",
       "      <td>0.011596</td>\n",
       "      <td>0.3335</td>\n",
       "      <td>0.100099</td>\n",
       "      <td>0.100099</td>\n",
       "      <td>1</td>\n",
       "    </tr>\n",
       "    <tr>\n",
       "      <th>1</th>\n",
       "      <td>9</td>\n",
       "      <td>704</td>\n",
       "      <td>0.667614</td>\n",
       "      <td>0.614637</td>\n",
       "      <td>470.0</td>\n",
       "      <td>1115.0</td>\n",
       "      <td>0.251471</td>\n",
       "      <td>0.596576</td>\n",
       "      <td>234.0</td>\n",
       "      <td>294.0</td>\n",
       "      <td>0.045226</td>\n",
       "      <td>0.056823</td>\n",
       "      <td>0.5398</td>\n",
       "      <td>0.099957</td>\n",
       "      <td>0.200057</td>\n",
       "      <td>2</td>\n",
       "    </tr>\n",
       "    <tr>\n",
       "      <th>2</th>\n",
       "      <td>8</td>\n",
       "      <td>704</td>\n",
       "      <td>0.494318</td>\n",
       "      <td>0.458804</td>\n",
       "      <td>348.0</td>\n",
       "      <td>1463.0</td>\n",
       "      <td>0.186196</td>\n",
       "      <td>0.782772</td>\n",
       "      <td>356.0</td>\n",
       "      <td>650.0</td>\n",
       "      <td>0.068806</td>\n",
       "      <td>0.125628</td>\n",
       "      <td>0.6571</td>\n",
       "      <td>0.099957</td>\n",
       "      <td>0.300014</td>\n",
       "      <td>3</td>\n",
       "    </tr>\n",
       "    <tr>\n",
       "      <th>3</th>\n",
       "      <td>7</td>\n",
       "      <td>704</td>\n",
       "      <td>0.267045</td>\n",
       "      <td>0.312966</td>\n",
       "      <td>188.0</td>\n",
       "      <td>1651.0</td>\n",
       "      <td>0.100589</td>\n",
       "      <td>0.883360</td>\n",
       "      <td>516.0</td>\n",
       "      <td>1166.0</td>\n",
       "      <td>0.099729</td>\n",
       "      <td>0.225358</td>\n",
       "      <td>0.6580</td>\n",
       "      <td>0.099957</td>\n",
       "      <td>0.399972</td>\n",
       "      <td>4</td>\n",
       "    </tr>\n",
       "    <tr>\n",
       "      <th>4</th>\n",
       "      <td>6</td>\n",
       "      <td>704</td>\n",
       "      <td>0.167614</td>\n",
       "      <td>0.193597</td>\n",
       "      <td>118.0</td>\n",
       "      <td>1769.0</td>\n",
       "      <td>0.063135</td>\n",
       "      <td>0.946495</td>\n",
       "      <td>586.0</td>\n",
       "      <td>1752.0</td>\n",
       "      <td>0.113259</td>\n",
       "      <td>0.338616</td>\n",
       "      <td>0.6079</td>\n",
       "      <td>0.099957</td>\n",
       "      <td>0.499929</td>\n",
       "      <td>5</td>\n",
       "    </tr>\n",
       "    <tr>\n",
       "      <th>5</th>\n",
       "      <td>5</td>\n",
       "      <td>705</td>\n",
       "      <td>0.069504</td>\n",
       "      <td>0.119308</td>\n",
       "      <td>49.0</td>\n",
       "      <td>1818.0</td>\n",
       "      <td>0.026217</td>\n",
       "      <td>0.972713</td>\n",
       "      <td>656.0</td>\n",
       "      <td>2408.0</td>\n",
       "      <td>0.126788</td>\n",
       "      <td>0.465404</td>\n",
       "      <td>0.5073</td>\n",
       "      <td>0.100099</td>\n",
       "      <td>0.600028</td>\n",
       "      <td>6</td>\n",
       "    </tr>\n",
       "    <tr>\n",
       "      <th>6</th>\n",
       "      <td>4</td>\n",
       "      <td>704</td>\n",
       "      <td>0.034091</td>\n",
       "      <td>0.071687</td>\n",
       "      <td>24.0</td>\n",
       "      <td>1842.0</td>\n",
       "      <td>0.012841</td>\n",
       "      <td>0.985554</td>\n",
       "      <td>680.0</td>\n",
       "      <td>3088.0</td>\n",
       "      <td>0.131426</td>\n",
       "      <td>0.596830</td>\n",
       "      <td>0.3887</td>\n",
       "      <td>0.099957</td>\n",
       "      <td>0.699986</td>\n",
       "      <td>7</td>\n",
       "    </tr>\n",
       "    <tr>\n",
       "      <th>7</th>\n",
       "      <td>3</td>\n",
       "      <td>704</td>\n",
       "      <td>0.026989</td>\n",
       "      <td>0.036621</td>\n",
       "      <td>19.0</td>\n",
       "      <td>1861.0</td>\n",
       "      <td>0.010166</td>\n",
       "      <td>0.995720</td>\n",
       "      <td>685.0</td>\n",
       "      <td>3773.0</td>\n",
       "      <td>0.132393</td>\n",
       "      <td>0.729223</td>\n",
       "      <td>0.2665</td>\n",
       "      <td>0.099957</td>\n",
       "      <td>0.799943</td>\n",
       "      <td>8</td>\n",
       "    </tr>\n",
       "    <tr>\n",
       "      <th>8</th>\n",
       "      <td>2</td>\n",
       "      <td>704</td>\n",
       "      <td>0.008523</td>\n",
       "      <td>0.017694</td>\n",
       "      <td>6.0</td>\n",
       "      <td>1867.0</td>\n",
       "      <td>0.003210</td>\n",
       "      <td>0.998930</td>\n",
       "      <td>698.0</td>\n",
       "      <td>4471.0</td>\n",
       "      <td>0.134905</td>\n",
       "      <td>0.864128</td>\n",
       "      <td>0.1348</td>\n",
       "      <td>0.099957</td>\n",
       "      <td>0.899901</td>\n",
       "      <td>9</td>\n",
       "    </tr>\n",
       "    <tr>\n",
       "      <th>9</th>\n",
       "      <td>1</td>\n",
       "      <td>705</td>\n",
       "      <td>0.002837</td>\n",
       "      <td>0.010378</td>\n",
       "      <td>2.0</td>\n",
       "      <td>1869.0</td>\n",
       "      <td>0.001070</td>\n",
       "      <td>1.000000</td>\n",
       "      <td>703.0</td>\n",
       "      <td>5174.0</td>\n",
       "      <td>0.135872</td>\n",
       "      <td>1.000000</td>\n",
       "      <td>-0.0000</td>\n",
       "      <td>0.100099</td>\n",
       "      <td>1.000000</td>\n",
       "      <td>10</td>\n",
       "    </tr>\n",
       "  </tbody>\n",
       "</table>\n",
       "</div>"
      ],
      "text/plain": [
       "   P_rank_gbm  count  Actual_Event_Rate  Predicted_Event_Rate  N_events  \\\n",
       "0          10    705           0.914894              0.816501     645.0   \n",
       "1           9    704           0.667614              0.614637     470.0   \n",
       "2           8    704           0.494318              0.458804     348.0   \n",
       "3           7    704           0.267045              0.312966     188.0   \n",
       "4           6    704           0.167614              0.193597     118.0   \n",
       "5           5    705           0.069504              0.119308      49.0   \n",
       "6           4    704           0.034091              0.071687      24.0   \n",
       "7           3    704           0.026989              0.036621      19.0   \n",
       "8           2    704           0.008523              0.017694       6.0   \n",
       "9           1    705           0.002837              0.010378       2.0   \n",
       "\n",
       "   cum_events  event_cap  cum_event_cap  N_non_events  cum_non_events  \\\n",
       "0       645.0   0.345104       0.345104          60.0            60.0   \n",
       "1      1115.0   0.251471       0.596576         234.0           294.0   \n",
       "2      1463.0   0.186196       0.782772         356.0           650.0   \n",
       "3      1651.0   0.100589       0.883360         516.0          1166.0   \n",
       "4      1769.0   0.063135       0.946495         586.0          1752.0   \n",
       "5      1818.0   0.026217       0.972713         656.0          2408.0   \n",
       "6      1842.0   0.012841       0.985554         680.0          3088.0   \n",
       "7      1861.0   0.010166       0.995720         685.0          3773.0   \n",
       "8      1867.0   0.003210       0.998930         698.0          4471.0   \n",
       "9      1869.0   0.001070       1.000000         703.0          5174.0   \n",
       "\n",
       "   event_non_cap  cum_non_event_cap      KS  random_cap  cum_random_cap  \\\n",
       "0       0.011596           0.011596  0.3335    0.100099        0.100099   \n",
       "1       0.045226           0.056823  0.5398    0.099957        0.200057   \n",
       "2       0.068806           0.125628  0.6571    0.099957        0.300014   \n",
       "3       0.099729           0.225358  0.6580    0.099957        0.399972   \n",
       "4       0.113259           0.338616  0.6079    0.099957        0.499929   \n",
       "5       0.126788           0.465404  0.5073    0.100099        0.600028   \n",
       "6       0.131426           0.596830  0.3887    0.099957        0.699986   \n",
       "7       0.132393           0.729223  0.2665    0.099957        0.799943   \n",
       "8       0.134905           0.864128  0.1348    0.099957        0.899901   \n",
       "9       0.135872           1.000000 -0.0000    0.100099        1.000000   \n",
       "\n",
       "   Decile  \n",
       "0       1  \n",
       "1       2  \n",
       "2       3  \n",
       "3       4  \n",
       "4       5  \n",
       "5       6  \n",
       "6       7  \n",
       "7       8  \n",
       "8       9  \n",
       "9      10  "
      ]
     },
     "execution_count": 165,
     "metadata": {},
     "output_type": "execute_result"
    }
   ],
   "source": [
    "y_pred_prob=gbm.predict_proba(X_all)[:,1]   #predict probability\n",
    "#returns two columns, where first column is(non event) for not risky and 2nd column is the actual event,\n",
    "# hence we  take only 2nd column\n",
    "\n",
    "df['y_pred_prob']=pd.DataFrame(y_pred_prob) # adding a y_pred column to the original df along side actual Y\n",
    "\n",
    "df['P_rank_gbm']=pd.qcut(df['y_pred_prob'].rank(method='first').values,10,duplicates='drop').codes+1\n",
    "#grouping the predicted probability in deciles (1 to 10)\n",
    "\n",
    "\n",
    "#creating new columns for count and mean and adding in a new df. Count shows the number of rows/records in each decile.\n",
    "# mean shows the event rate \n",
    "# creating for both actual and predicted event rate and renaming it\n",
    "rank_df_actuals=df.groupby('P_rank_gbm')['target'].agg(['count','mean'])\n",
    "rank_df_predicted=df.groupby('P_rank_gbm')['y_pred_prob'].agg(['mean'])\n",
    "\n",
    "rank_df_actuals=pd.DataFrame(rank_df_actuals)\n",
    "rank_df_actuals.rename(columns={'mean':'Actual_Event_Rate'},inplace=True)\n",
    "\n",
    "rank_df_predicted=pd.DataFrame(rank_df_predicted)\n",
    "rank_df_predicted.rename(columns={'mean':'Predicted_Event_Rate'},inplace=True)\n",
    "\n",
    "# combining both the df for actual and predicted\n",
    "rank_df=pd.concat([rank_df_actuals,rank_df_predicted],axis=1,join='inner')\n",
    "\n",
    "\n",
    "#sorting & creating new df based on Rank in desc order\n",
    "sorted_rank_df=rank_df.sort_values(by='P_rank_gbm',ascending=False)\n",
    "\n",
    "\n",
    "# Adding some new calculated columns\n",
    "\n",
    "#for event\n",
    "sorted_rank_df['N_events']=rank_df['count']*rank_df['Actual_Event_Rate'] #column to show number of event in each decile\n",
    "sorted_rank_df['cum_events']=sorted_rank_df['N_events'].cumsum() #cumulative sum of all events\n",
    "sorted_rank_df['event_cap']=sorted_rank_df['N_events']/max(sorted_rank_df['N_events'].cumsum()) # each event/total event\n",
    "# above column shows how many percentage of event does the decile account for\n",
    "sorted_rank_df['cum_event_cap']=sorted_rank_df['event_cap'].cumsum()  # cumulative event rate\n",
    "\n",
    "\n",
    "#for non event\n",
    "sorted_rank_df['N_non_events']=sorted_rank_df['count'] - sorted_rank_df['N_events'] \n",
    "sorted_rank_df['cum_non_events']=sorted_rank_df['N_non_events'].cumsum() \n",
    "sorted_rank_df['event_non_cap']=sorted_rank_df['N_non_events']/max(sorted_rank_df['N_non_events'].cumsum()) \n",
    "sorted_rank_df['cum_non_event_cap']=sorted_rank_df['event_non_cap'].cumsum()\n",
    "\n",
    "\n",
    "sorted_rank_df['KS']=round((sorted_rank_df['cum_event_cap']-sorted_rank_df['cum_non_event_cap']),4)\n",
    "\n",
    "\n",
    "sorted_rank_df['random_cap']=sorted_rank_df['count']/max(sorted_rank_df['count'].cumsum()) #records % per decile(10% each)\n",
    "sorted_rank_df['cum_random_cap']=sorted_rank_df['random_cap'].cumsum() # cumulative of the above column (adds up to100%)\n",
    "\n",
    "sorted_reindexed=sorted_rank_df.reset_index()\n",
    "sorted_reindexed['Decile']=sorted_reindexed.index+1 # decile number\n",
    "sorted_reindexed"
   ]
  },
  {
   "cell_type": "code",
   "execution_count": 166,
   "metadata": {
    "ExecuteTime": {
     "end_time": "2021-07-04T13:33:26.042673Z",
     "start_time": "2021-07-04T13:33:25.878532Z"
    }
   },
   "outputs": [
    {
     "data": {
      "image/png": "[encoded data removed]",
      "text/plain": [
       "<Figure size 432x288 with 1 Axes>"
      ]
     },
     "metadata": {
      "needs_background": "light"
     },
     "output_type": "display_data"
    }
   ],
   "source": [
    "ax=sns.lineplot(x=\"Decile\",y=\"Actual_Event_Rate\",data=sorted_reindexed,color='red')\n",
    "ax=sns.lineplot(x=\"Decile\",y=\"Predicted_Event_Rate\",data=sorted_reindexed,color='green')"
   ]
  },
  {
   "cell_type": "code",
   "execution_count": 167,
   "metadata": {
    "ExecuteTime": {
     "end_time": "2021-07-04T13:33:27.990799Z",
     "start_time": "2021-07-04T13:33:27.834793Z"
    }
   },
   "outputs": [
    {
     "data": {
      "image/png": "[encoded data removed]",
      "text/plain": [
       "<Figure size 432x288 with 1 Axes>"
      ]
     },
     "metadata": {
      "needs_background": "light"
     },
     "output_type": "display_data"
    }
   ],
   "source": [
    "ax=sns.lineplot(x=\"Decile\",y=\"cum_random_cap\",data=sorted_reindexed,color='red')\n",
    "ax=sns.lineplot(x=\"Decile\",y=\"cum_event_cap\",data=sorted_reindexed,color='green')"
   ]
  },
  {
   "cell_type": "code",
   "execution_count": null,
   "metadata": {},
   "outputs": [],
   "source": []
  },
  {
   "cell_type": "markdown",
   "metadata": {},
   "source": [
    "#### Stacking Classifier Lorenz Curve"
   ]
  },
  {
   "cell_type": "code",
   "execution_count": 168,
   "metadata": {
    "ExecuteTime": {
     "end_time": "2021-07-04T13:33:31.388640Z",
     "start_time": "2021-07-04T13:33:31.208641Z"
    }
   },
   "outputs": [
    {
     "data": {
      "text/html": [
       "<div>\n",
       "<style scoped>\n",
       "    .dataframe tbody tr th:only-of-type {\n",
       "        vertical-align: middle;\n",
       "    }\n",
       "\n",
       "    .dataframe tbody tr th {\n",
       "        vertical-align: top;\n",
       "    }\n",
       "\n",
       "    .dataframe thead th {\n",
       "        text-align: right;\n",
       "    }\n",
       "</style>\n",
       "<table border=\"1\" class=\"dataframe\">\n",
       "  <thead>\n",
       "    <tr style=\"text-align: right;\">\n",
       "      <th></th>\n",
       "      <th>P_rank_stack</th>\n",
       "      <th>count</th>\n",
       "      <th>Actual_Event_Rate</th>\n",
       "      <th>Predicted_Event_Rate</th>\n",
       "      <th>N_events</th>\n",
       "      <th>cum_events</th>\n",
       "      <th>event_cap</th>\n",
       "      <th>cum_event_cap</th>\n",
       "      <th>N_non_events</th>\n",
       "      <th>cum_non_events</th>\n",
       "      <th>event_non_cap</th>\n",
       "      <th>cum_non_event_cap</th>\n",
       "      <th>KS</th>\n",
       "      <th>random_cap</th>\n",
       "      <th>cum_random_cap</th>\n",
       "      <th>Decile</th>\n",
       "    </tr>\n",
       "  </thead>\n",
       "  <tbody>\n",
       "    <tr>\n",
       "      <th>0</th>\n",
       "      <td>10</td>\n",
       "      <td>705</td>\n",
       "      <td>0.802837</td>\n",
       "      <td>0.773193</td>\n",
       "      <td>566.0</td>\n",
       "      <td>566.0</td>\n",
       "      <td>0.302836</td>\n",
       "      <td>0.302836</td>\n",
       "      <td>139.0</td>\n",
       "      <td>139.0</td>\n",
       "      <td>0.026865</td>\n",
       "      <td>0.026865</td>\n",
       "      <td>0.2760</td>\n",
       "      <td>0.100099</td>\n",
       "      <td>0.100099</td>\n",
       "      <td>1</td>\n",
       "    </tr>\n",
       "    <tr>\n",
       "      <th>1</th>\n",
       "      <td>9</td>\n",
       "      <td>704</td>\n",
       "      <td>0.602273</td>\n",
       "      <td>0.595722</td>\n",
       "      <td>424.0</td>\n",
       "      <td>990.0</td>\n",
       "      <td>0.226859</td>\n",
       "      <td>0.529695</td>\n",
       "      <td>280.0</td>\n",
       "      <td>419.0</td>\n",
       "      <td>0.054117</td>\n",
       "      <td>0.080982</td>\n",
       "      <td>0.4487</td>\n",
       "      <td>0.099957</td>\n",
       "      <td>0.200057</td>\n",
       "      <td>2</td>\n",
       "    </tr>\n",
       "    <tr>\n",
       "      <th>2</th>\n",
       "      <td>8</td>\n",
       "      <td>704</td>\n",
       "      <td>0.454545</td>\n",
       "      <td>0.422179</td>\n",
       "      <td>320.0</td>\n",
       "      <td>1310.0</td>\n",
       "      <td>0.171215</td>\n",
       "      <td>0.700910</td>\n",
       "      <td>384.0</td>\n",
       "      <td>803.0</td>\n",
       "      <td>0.074217</td>\n",
       "      <td>0.155199</td>\n",
       "      <td>0.5457</td>\n",
       "      <td>0.099957</td>\n",
       "      <td>0.300014</td>\n",
       "      <td>3</td>\n",
       "    </tr>\n",
       "    <tr>\n",
       "      <th>3</th>\n",
       "      <td>7</td>\n",
       "      <td>704</td>\n",
       "      <td>0.325284</td>\n",
       "      <td>0.274594</td>\n",
       "      <td>229.0</td>\n",
       "      <td>1539.0</td>\n",
       "      <td>0.122525</td>\n",
       "      <td>0.823435</td>\n",
       "      <td>475.0</td>\n",
       "      <td>1278.0</td>\n",
       "      <td>0.091805</td>\n",
       "      <td>0.247004</td>\n",
       "      <td>0.5764</td>\n",
       "      <td>0.099957</td>\n",
       "      <td>0.399972</td>\n",
       "      <td>4</td>\n",
       "    </tr>\n",
       "    <tr>\n",
       "      <th>4</th>\n",
       "      <td>6</td>\n",
       "      <td>704</td>\n",
       "      <td>0.213068</td>\n",
       "      <td>0.188837</td>\n",
       "      <td>150.0</td>\n",
       "      <td>1689.0</td>\n",
       "      <td>0.080257</td>\n",
       "      <td>0.903692</td>\n",
       "      <td>554.0</td>\n",
       "      <td>1832.0</td>\n",
       "      <td>0.107074</td>\n",
       "      <td>0.354078</td>\n",
       "      <td>0.5496</td>\n",
       "      <td>0.099957</td>\n",
       "      <td>0.499929</td>\n",
       "      <td>5</td>\n",
       "    </tr>\n",
       "    <tr>\n",
       "      <th>5</th>\n",
       "      <td>5</td>\n",
       "      <td>705</td>\n",
       "      <td>0.130496</td>\n",
       "      <td>0.132047</td>\n",
       "      <td>92.0</td>\n",
       "      <td>1781.0</td>\n",
       "      <td>0.049224</td>\n",
       "      <td>0.952916</td>\n",
       "      <td>613.0</td>\n",
       "      <td>2445.0</td>\n",
       "      <td>0.118477</td>\n",
       "      <td>0.472555</td>\n",
       "      <td>0.4804</td>\n",
       "      <td>0.100099</td>\n",
       "      <td>0.600028</td>\n",
       "      <td>6</td>\n",
       "    </tr>\n",
       "    <tr>\n",
       "      <th>6</th>\n",
       "      <td>4</td>\n",
       "      <td>704</td>\n",
       "      <td>0.076705</td>\n",
       "      <td>0.095794</td>\n",
       "      <td>54.0</td>\n",
       "      <td>1835.0</td>\n",
       "      <td>0.028892</td>\n",
       "      <td>0.981808</td>\n",
       "      <td>650.0</td>\n",
       "      <td>3095.0</td>\n",
       "      <td>0.125628</td>\n",
       "      <td>0.598183</td>\n",
       "      <td>0.3836</td>\n",
       "      <td>0.099957</td>\n",
       "      <td>0.699986</td>\n",
       "      <td>7</td>\n",
       "    </tr>\n",
       "    <tr>\n",
       "      <th>7</th>\n",
       "      <td>3</td>\n",
       "      <td>704</td>\n",
       "      <td>0.034091</td>\n",
       "      <td>0.073122</td>\n",
       "      <td>24.0</td>\n",
       "      <td>1859.0</td>\n",
       "      <td>0.012841</td>\n",
       "      <td>0.994650</td>\n",
       "      <td>680.0</td>\n",
       "      <td>3775.0</td>\n",
       "      <td>0.131426</td>\n",
       "      <td>0.729610</td>\n",
       "      <td>0.2650</td>\n",
       "      <td>0.099957</td>\n",
       "      <td>0.799943</td>\n",
       "      <td>8</td>\n",
       "    </tr>\n",
       "    <tr>\n",
       "      <th>8</th>\n",
       "      <td>2</td>\n",
       "      <td>704</td>\n",
       "      <td>0.012784</td>\n",
       "      <td>0.057527</td>\n",
       "      <td>9.0</td>\n",
       "      <td>1868.0</td>\n",
       "      <td>0.004815</td>\n",
       "      <td>0.999465</td>\n",
       "      <td>695.0</td>\n",
       "      <td>4470.0</td>\n",
       "      <td>0.134325</td>\n",
       "      <td>0.863935</td>\n",
       "      <td>0.1355</td>\n",
       "      <td>0.099957</td>\n",
       "      <td>0.899901</td>\n",
       "      <td>9</td>\n",
       "    </tr>\n",
       "    <tr>\n",
       "      <th>9</th>\n",
       "      <td>1</td>\n",
       "      <td>705</td>\n",
       "      <td>0.001418</td>\n",
       "      <td>0.051527</td>\n",
       "      <td>1.0</td>\n",
       "      <td>1869.0</td>\n",
       "      <td>0.000535</td>\n",
       "      <td>1.000000</td>\n",
       "      <td>704.0</td>\n",
       "      <td>5174.0</td>\n",
       "      <td>0.136065</td>\n",
       "      <td>1.000000</td>\n",
       "      <td>0.0000</td>\n",
       "      <td>0.100099</td>\n",
       "      <td>1.000000</td>\n",
       "      <td>10</td>\n",
       "    </tr>\n",
       "  </tbody>\n",
       "</table>\n",
       "</div>"
      ],
      "text/plain": [
       "   P_rank_stack  count  Actual_Event_Rate  Predicted_Event_Rate  N_events  \\\n",
       "0            10    705           0.802837              0.773193     566.0   \n",
       "1             9    704           0.602273              0.595722     424.0   \n",
       "2             8    704           0.454545              0.422179     320.0   \n",
       "3             7    704           0.325284              0.274594     229.0   \n",
       "4             6    704           0.213068              0.188837     150.0   \n",
       "5             5    705           0.130496              0.132047      92.0   \n",
       "6             4    704           0.076705              0.095794      54.0   \n",
       "7             3    704           0.034091              0.073122      24.0   \n",
       "8             2    704           0.012784              0.057527       9.0   \n",
       "9             1    705           0.001418              0.051527       1.0   \n",
       "\n",
       "   cum_events  event_cap  cum_event_cap  N_non_events  cum_non_events  \\\n",
       "0       566.0   0.302836       0.302836         139.0           139.0   \n",
       "1       990.0   0.226859       0.529695         280.0           419.0   \n",
       "2      1310.0   0.171215       0.700910         384.0           803.0   \n",
       "3      1539.0   0.122525       0.823435         475.0          1278.0   \n",
       "4      1689.0   0.080257       0.903692         554.0          1832.0   \n",
       "5      1781.0   0.049224       0.952916         613.0          2445.0   \n",
       "6      1835.0   0.028892       0.981808         650.0          3095.0   \n",
       "7      1859.0   0.012841       0.994650         680.0          3775.0   \n",
       "8      1868.0   0.004815       0.999465         695.0          4470.0   \n",
       "9      1869.0   0.000535       1.000000         704.0          5174.0   \n",
       "\n",
       "   event_non_cap  cum_non_event_cap      KS  random_cap  cum_random_cap  \\\n",
       "0       0.026865           0.026865  0.2760    0.100099        0.100099   \n",
       "1       0.054117           0.080982  0.4487    0.099957        0.200057   \n",
       "2       0.074217           0.155199  0.5457    0.099957        0.300014   \n",
       "3       0.091805           0.247004  0.5764    0.099957        0.399972   \n",
       "4       0.107074           0.354078  0.5496    0.099957        0.499929   \n",
       "5       0.118477           0.472555  0.4804    0.100099        0.600028   \n",
       "6       0.125628           0.598183  0.3836    0.099957        0.699986   \n",
       "7       0.131426           0.729610  0.2650    0.099957        0.799943   \n",
       "8       0.134325           0.863935  0.1355    0.099957        0.899901   \n",
       "9       0.136065           1.000000  0.0000    0.100099        1.000000   \n",
       "\n",
       "   Decile  \n",
       "0       1  \n",
       "1       2  \n",
       "2       3  \n",
       "3       4  \n",
       "4       5  \n",
       "5       6  \n",
       "6       7  \n",
       "7       8  \n",
       "8       9  \n",
       "9      10  "
      ]
     },
     "execution_count": 168,
     "metadata": {},
     "output_type": "execute_result"
    }
   ],
   "source": [
    "y_pred_prob=stack.predict_proba(X_all)[:,1]   #predict probability\n",
    "#returns two columns, where first column is(non event) for not risky and 2nd column is the actual event,\n",
    "# hence we  take only 2nd column\n",
    "\n",
    "df['y_pred_prob']=pd.DataFrame(y_pred_prob) # adding a y_pred column to the original df along side actual Y\n",
    "\n",
    "df['P_rank_stack']=pd.qcut(df['y_pred_prob'].rank(method='first').values,10,duplicates='drop').codes+1\n",
    "#grouping the predicted probability in deciles (1 to 10)\n",
    "\n",
    "\n",
    "#creating new columns for count and mean and adding in a new df. Count shows the number of rows/records in each decile.\n",
    "# mean shows the event rate \n",
    "# creating for both actual and predicted event rate and renaming it\n",
    "rank_df_actuals=df.groupby('P_rank_stack')['target'].agg(['count','mean'])\n",
    "rank_df_predicted=df.groupby('P_rank_stack')['y_pred_prob'].agg(['mean'])\n",
    "\n",
    "rank_df_actuals=pd.DataFrame(rank_df_actuals)\n",
    "rank_df_actuals.rename(columns={'mean':'Actual_Event_Rate'},inplace=True)\n",
    "\n",
    "rank_df_predicted=pd.DataFrame(rank_df_predicted)\n",
    "rank_df_predicted.rename(columns={'mean':'Predicted_Event_Rate'},inplace=True)\n",
    "\n",
    "# combining both the df for actual and predicted\n",
    "rank_df=pd.concat([rank_df_actuals,rank_df_predicted],axis=1,join='inner')\n",
    "\n",
    "\n",
    "#sorting & creating new df based on Rank in desc order\n",
    "sorted_rank_df=rank_df.sort_values(by='P_rank_stack',ascending=False)\n",
    "\n",
    "\n",
    "# Adding some new calculated columns\n",
    "\n",
    "#for event\n",
    "sorted_rank_df['N_events']=rank_df['count']*rank_df['Actual_Event_Rate'] #column to show number of event in each decile\n",
    "sorted_rank_df['cum_events']=sorted_rank_df['N_events'].cumsum() #cumulative sum of all events\n",
    "sorted_rank_df['event_cap']=sorted_rank_df['N_events']/max(sorted_rank_df['N_events'].cumsum()) # each event/total event\n",
    "# above column shows how many percentage of event does the decile account for\n",
    "sorted_rank_df['cum_event_cap']=sorted_rank_df['event_cap'].cumsum()  # cumulative event rate\n",
    "\n",
    "\n",
    "#for non event\n",
    "sorted_rank_df['N_non_events']=sorted_rank_df['count'] - sorted_rank_df['N_events'] \n",
    "sorted_rank_df['cum_non_events']=sorted_rank_df['N_non_events'].cumsum() \n",
    "sorted_rank_df['event_non_cap']=sorted_rank_df['N_non_events']/max(sorted_rank_df['N_non_events'].cumsum()) \n",
    "sorted_rank_df['cum_non_event_cap']=sorted_rank_df['event_non_cap'].cumsum()\n",
    "\n",
    "\n",
    "sorted_rank_df['KS']=round((sorted_rank_df['cum_event_cap']-sorted_rank_df['cum_non_event_cap']),4)\n",
    "\n",
    "\n",
    "sorted_rank_df['random_cap']=sorted_rank_df['count']/max(sorted_rank_df['count'].cumsum()) #records % per decile(10% each)\n",
    "sorted_rank_df['cum_random_cap']=sorted_rank_df['random_cap'].cumsum() # cumulative of the above column (adds up to100%)\n",
    "\n",
    "sorted_reindexed=sorted_rank_df.reset_index()\n",
    "sorted_reindexed['Decile']=sorted_reindexed.index+1 # decile number\n",
    "sorted_reindexed"
   ]
  },
  {
   "cell_type": "code",
   "execution_count": 169,
   "metadata": {
    "ExecuteTime": {
     "end_time": "2021-07-04T13:33:32.664641Z",
     "start_time": "2021-07-04T13:33:32.480640Z"
    }
   },
   "outputs": [
    {
     "data": {
      "image/png": "[encoded data removed]",
      "text/plain": [
       "<Figure size 432x288 with 1 Axes>"
      ]
     },
     "metadata": {
      "needs_background": "light"
     },
     "output_type": "display_data"
    }
   ],
   "source": [
    "ax=sns.lineplot(x=\"Decile\",y=\"Actual_Event_Rate\",data=sorted_reindexed,color='red')\n",
    "ax=sns.lineplot(x=\"Decile\",y=\"Predicted_Event_Rate\",data=sorted_reindexed,color='green')"
   ]
  },
  {
   "cell_type": "code",
   "execution_count": 170,
   "metadata": {
    "ExecuteTime": {
     "end_time": "2021-07-04T13:33:34.121836Z",
     "start_time": "2021-07-04T13:33:33.949835Z"
    }
   },
   "outputs": [
    {
     "data": {
      "image/png": "[encoded data removed]",
      "text/plain": [
       "<Figure size 432x288 with 1 Axes>"
      ]
     },
     "metadata": {
      "needs_background": "light"
     },
     "output_type": "display_data"
    }
   ],
   "source": [
    "ax=sns.lineplot(x=\"Decile\",y=\"cum_random_cap\",data=sorted_reindexed,color='red')\n",
    "ax=sns.lineplot(x=\"Decile\",y=\"cum_event_cap\",data=sorted_reindexed,color='green')"
   ]
  },
  {
   "cell_type": "code",
   "execution_count": null,
   "metadata": {},
   "outputs": [],
   "source": [
    "# The best model should have maximum cumulative event capture between 2-3 deciles.\n",
    "# Based on the KS values and cumulative event capture rate we can conclude that GBM is the best model as it is\n",
    "# accounting for 78% of data within the first 3 deciles i.e. top 30% data"
   ]
  },
  {
   "cell_type": "code",
   "execution_count": null,
   "metadata": {},
   "outputs": [],
   "source": [
    "# Project Conclusion :- \n",
    "# The GBM Model has performed the best and will be used for Customer targeting with Loan offers\n",
    "# Since Monthly Income and Existing EMI are the most important features for the GBM model\n",
    "# We will build a Business Value Metric based on Existing EMI/Monthly Income\n",
    "# Low Values of this ratio will indicate valueable customers\n",
    "# Within the High Value group, we can leverage the model to identify the best targets"
   ]
  },
  {
   "cell_type": "code",
   "execution_count": null,
   "metadata": {},
   "outputs": [],
   "source": []
  },
  {
   "cell_type": "markdown",
   "metadata": {},
   "source": [
    "## Creating Strategies \n",
    "by analysing the output of Machine Learning Model"
   ]
  },
  {
   "cell_type": "code",
   "execution_count": 173,
   "metadata": {
    "ExecuteTime": {
     "end_time": "2021-07-04T13:59:55.872505Z",
     "start_time": "2021-07-04T13:59:55.836556Z"
    }
   },
   "outputs": [
    {
     "data": {
      "text/html": [
       "<div>\n",
       "<style scoped>\n",
       "    .dataframe tbody tr th:only-of-type {\n",
       "        vertical-align: middle;\n",
       "    }\n",
       "\n",
       "    .dataframe tbody tr th {\n",
       "        vertical-align: top;\n",
       "    }\n",
       "\n",
       "    .dataframe thead th {\n",
       "        text-align: right;\n",
       "    }\n",
       "</style>\n",
       "<table border=\"1\" class=\"dataframe\">\n",
       "  <thead>\n",
       "    <tr style=\"text-align: right;\">\n",
       "      <th></th>\n",
       "      <th>min</th>\n",
       "      <th>max</th>\n",
       "      <th>mean</th>\n",
       "    </tr>\n",
       "    <tr>\n",
       "      <th>Tenure_Rank</th>\n",
       "      <th></th>\n",
       "      <th></th>\n",
       "      <th></th>\n",
       "    </tr>\n",
       "  </thead>\n",
       "  <tbody>\n",
       "    <tr>\n",
       "      <th>1</th>\n",
       "      <td>0</td>\n",
       "      <td>2</td>\n",
       "      <td>1.099291</td>\n",
       "    </tr>\n",
       "    <tr>\n",
       "      <th>2</th>\n",
       "      <td>2</td>\n",
       "      <td>6</td>\n",
       "      <td>3.566761</td>\n",
       "    </tr>\n",
       "    <tr>\n",
       "      <th>3</th>\n",
       "      <td>6</td>\n",
       "      <td>12</td>\n",
       "      <td>8.779830</td>\n",
       "    </tr>\n",
       "    <tr>\n",
       "      <th>4</th>\n",
       "      <td>12</td>\n",
       "      <td>20</td>\n",
       "      <td>15.531250</td>\n",
       "    </tr>\n",
       "    <tr>\n",
       "      <th>5</th>\n",
       "      <td>20</td>\n",
       "      <td>29</td>\n",
       "      <td>24.153191</td>\n",
       "    </tr>\n",
       "    <tr>\n",
       "      <th>6</th>\n",
       "      <td>29</td>\n",
       "      <td>40</td>\n",
       "      <td>34.004261</td>\n",
       "    </tr>\n",
       "    <tr>\n",
       "      <th>7</th>\n",
       "      <td>40</td>\n",
       "      <td>50</td>\n",
       "      <td>45.014205</td>\n",
       "    </tr>\n",
       "    <tr>\n",
       "      <th>8</th>\n",
       "      <td>50</td>\n",
       "      <td>60</td>\n",
       "      <td>55.370739</td>\n",
       "    </tr>\n",
       "    <tr>\n",
       "      <th>9</th>\n",
       "      <td>60</td>\n",
       "      <td>69</td>\n",
       "      <td>65.001420</td>\n",
       "    </tr>\n",
       "    <tr>\n",
       "      <th>10</th>\n",
       "      <td>69</td>\n",
       "      <td>72</td>\n",
       "      <td>71.191489</td>\n",
       "    </tr>\n",
       "  </tbody>\n",
       "</table>\n",
       "</div>"
      ],
      "text/plain": [
       "             min  max       mean\n",
       "Tenure_Rank                     \n",
       "1              0    2   1.099291\n",
       "2              2    6   3.566761\n",
       "3              6   12   8.779830\n",
       "4             12   20  15.531250\n",
       "5             20   29  24.153191\n",
       "6             29   40  34.004261\n",
       "7             40   50  45.014205\n",
       "8             50   60  55.370739\n",
       "9             60   69  65.001420\n",
       "10            69   72  71.191489"
      ]
     },
     "execution_count": 173,
     "metadata": {},
     "output_type": "execute_result"
    }
   ],
   "source": [
    "# creating quartiles of the columns to identify in which decile the min max and mean is located. \n",
    "# So that we could actually use the customized ranges to classify(define low, high categories etc)  \n",
    "\n",
    "df['Tenure_Rank']=pd.qcut(df['tenure'].rank(method='first').values,10,duplicates='drop').codes+1\n",
    "df.groupby('Tenure_Rank')['tenure'].agg(['min','max','mean'])"
   ]
  },
  {
   "cell_type": "code",
   "execution_count": 174,
   "metadata": {
    "ExecuteTime": {
     "end_time": "2021-07-04T14:00:10.076375Z",
     "start_time": "2021-07-04T14:00:10.068404Z"
    }
   },
   "outputs": [
    {
     "data": {
      "text/plain": [
       "32.37114865824223"
      ]
     },
     "execution_count": 174,
     "metadata": {},
     "output_type": "execute_result"
    }
   ],
   "source": [
    "df['tenure'].mean()\n",
    "#mean of the data lies in 5-6 deciles"
   ]
  },
  {
   "cell_type": "code",
   "execution_count": 176,
   "metadata": {
    "ExecuteTime": {
     "end_time": "2021-07-04T14:04:10.232082Z",
     "start_time": "2021-07-04T14:04:10.228081Z"
    }
   },
   "outputs": [],
   "source": [
    "# hence everyone <=6 will be low tensure else high\n",
    "df['Tenure_Segment']=np.where(df['Tenure_Rank']<=6,\"Low Tenure\",\"High Tenure\")"
   ]
  },
  {
   "cell_type": "code",
   "execution_count": 178,
   "metadata": {
    "ExecuteTime": {
     "end_time": "2021-07-04T14:06:59.829248Z",
     "start_time": "2021-07-04T14:06:59.629248Z"
    }
   },
   "outputs": [
    {
     "data": {
      "text/html": [
       "<div>\n",
       "<style scoped>\n",
       "    .dataframe tbody tr th:only-of-type {\n",
       "        vertical-align: middle;\n",
       "    }\n",
       "\n",
       "    .dataframe tbody tr th {\n",
       "        vertical-align: top;\n",
       "    }\n",
       "\n",
       "    .dataframe thead th {\n",
       "        text-align: right;\n",
       "    }\n",
       "</style>\n",
       "<table border=\"1\" class=\"dataframe\">\n",
       "  <thead>\n",
       "    <tr style=\"text-align: right;\">\n",
       "      <th></th>\n",
       "      <th>min</th>\n",
       "      <th>max</th>\n",
       "      <th>mean</th>\n",
       "    </tr>\n",
       "    <tr>\n",
       "      <th>Monthly_Charges_Rank</th>\n",
       "      <th></th>\n",
       "      <th></th>\n",
       "      <th></th>\n",
       "    </tr>\n",
       "  </thead>\n",
       "  <tbody>\n",
       "    <tr>\n",
       "      <th>1</th>\n",
       "      <td>18.25</td>\n",
       "      <td>20.05</td>\n",
       "      <td>19.622482</td>\n",
       "    </tr>\n",
       "    <tr>\n",
       "      <th>2</th>\n",
       "      <td>20.05</td>\n",
       "      <td>25.05</td>\n",
       "      <td>21.732599</td>\n",
       "    </tr>\n",
       "    <tr>\n",
       "      <th>3</th>\n",
       "      <td>25.05</td>\n",
       "      <td>45.85</td>\n",
       "      <td>35.514773</td>\n",
       "    </tr>\n",
       "    <tr>\n",
       "      <th>4</th>\n",
       "      <td>45.85</td>\n",
       "      <td>58.75</td>\n",
       "      <td>52.532244</td>\n",
       "    </tr>\n",
       "    <tr>\n",
       "      <th>5</th>\n",
       "      <td>58.85</td>\n",
       "      <td>70.35</td>\n",
       "      <td>65.314965</td>\n",
       "    </tr>\n",
       "    <tr>\n",
       "      <th>6</th>\n",
       "      <td>70.35</td>\n",
       "      <td>79.10</td>\n",
       "      <td>74.623864</td>\n",
       "    </tr>\n",
       "    <tr>\n",
       "      <th>7</th>\n",
       "      <td>79.10</td>\n",
       "      <td>85.50</td>\n",
       "      <td>82.140057</td>\n",
       "    </tr>\n",
       "    <tr>\n",
       "      <th>8</th>\n",
       "      <td>85.50</td>\n",
       "      <td>94.25</td>\n",
       "      <td>89.840199</td>\n",
       "    </tr>\n",
       "    <tr>\n",
       "      <th>9</th>\n",
       "      <td>94.25</td>\n",
       "      <td>102.60</td>\n",
       "      <td>98.036364</td>\n",
       "    </tr>\n",
       "    <tr>\n",
       "      <th>10</th>\n",
       "      <td>102.60</td>\n",
       "      <td>118.75</td>\n",
       "      <td>108.260922</td>\n",
       "    </tr>\n",
       "  </tbody>\n",
       "</table>\n",
       "</div>"
      ],
      "text/plain": [
       "                         min     max        mean\n",
       "Monthly_Charges_Rank                            \n",
       "1                      18.25   20.05   19.622482\n",
       "2                      20.05   25.05   21.732599\n",
       "3                      25.05   45.85   35.514773\n",
       "4                      45.85   58.75   52.532244\n",
       "5                      58.85   70.35   65.314965\n",
       "6                      70.35   79.10   74.623864\n",
       "7                      79.10   85.50   82.140057\n",
       "8                      85.50   94.25   89.840199\n",
       "9                      94.25  102.60   98.036364\n",
       "10                    102.60  118.75  108.260922"
      ]
     },
     "execution_count": 178,
     "metadata": {},
     "output_type": "execute_result"
    }
   ],
   "source": [
    "# similarly doing for monthly charges\n",
    "\n",
    "df['Monthly_Charges_Rank']=pd.qcut(df['MonthlyCharges'].rank(method='first').values,10,duplicates='drop').codes+1\n",
    "df.groupby('Monthly_Charges_Rank')['MonthlyCharges'].agg(['min','max',mean])"
   ]
  },
  {
   "cell_type": "code",
   "execution_count": 179,
   "metadata": {
    "ExecuteTime": {
     "end_time": "2021-07-04T14:07:25.397815Z",
     "start_time": "2021-07-04T14:07:25.389787Z"
    }
   },
   "outputs": [
    {
     "data": {
      "text/plain": [
       "64.76169246059922"
      ]
     },
     "execution_count": 179,
     "metadata": {},
     "output_type": "execute_result"
    }
   ],
   "source": [
    "df['MonthlyCharges'].mean()"
   ]
  },
  {
   "cell_type": "code",
   "execution_count": 196,
   "metadata": {
    "ExecuteTime": {
     "end_time": "2021-07-04T14:36:00.473656Z",
     "start_time": "2021-07-04T14:36:00.453643Z"
    }
   },
   "outputs": [],
   "source": [
    "df['MonthlyChargeSegement']=np.where(df['Monthly_Charges_Rank']<=5,\"Low Charges\",\"High Charges\")"
   ]
  },
  {
   "cell_type": "code",
   "execution_count": null,
   "metadata": {},
   "outputs": [],
   "source": []
  },
  {
   "cell_type": "code",
   "execution_count": null,
   "metadata": {},
   "outputs": [],
   "source": [
    "# similarly using the rank from  GBM output we can classify the output with the 30-70% instead  as GBM counters for\n",
    "# most data in the first 30% or 3 deciles \n",
    "# instead of using the default cutoff of 50% like confusion matrix\n",
    "\n",
    "# using the resource and directing our attendtion to the top 30% probablisitic churn customers we can reduce cost and time\n",
    "# by not concentrating on the other 70% of population."
   ]
  },
  {
   "cell_type": "code",
   "execution_count": 182,
   "metadata": {
    "ExecuteTime": {
     "end_time": "2021-07-04T14:11:35.860765Z",
     "start_time": "2021-07-04T14:11:35.828707Z"
    }
   },
   "outputs": [],
   "source": [
    "df['Predicted_Churn_Rank']=np.where(df['P_rank_gbm']>=8,\"Top 3\",\"Bottom 7\")"
   ]
  },
  {
   "cell_type": "code",
   "execution_count": null,
   "metadata": {},
   "outputs": [],
   "source": []
  },
  {
   "cell_type": "markdown",
   "metadata": {},
   "source": [
    "### Slice the data wrt Top 3 and Bottom 7 Probalitiy Rank from the GBM Model"
   ]
  },
  {
   "cell_type": "code",
   "execution_count": 191,
   "metadata": {
    "ExecuteTime": {
     "end_time": "2021-07-04T14:21:03.492398Z",
     "start_time": "2021-07-04T14:21:03.325195Z"
    }
   },
   "outputs": [],
   "source": [
    "# keeping only the Top 3 deciles data(30%) and creating strategies on them\n",
    "\n",
    "df_top3=df.loc[df['Predicted_Churn_Rank']=='Top 3',:]"
   ]
  },
  {
   "cell_type": "code",
   "execution_count": 192,
   "metadata": {
    "ExecuteTime": {
     "end_time": "2021-07-04T14:21:04.643972Z",
     "start_time": "2021-07-04T14:21:04.623931Z"
    }
   },
   "outputs": [],
   "source": [
    "service_list=['PhoneService','MultipleLines','InternetService','OnlineSecurity','OnlineBackup','DeviceProtection','TechSupport'\n",
    "              ,'StreamingTV','StreamingMovies','Contract','PaperlessBilling']\n",
    "target=['target']"
   ]
  },
  {
   "cell_type": "code",
   "execution_count": 193,
   "metadata": {
    "ExecuteTime": {
     "end_time": "2021-07-04T14:21:06.315712Z",
     "start_time": "2021-07-04T14:21:06.307677Z"
    }
   },
   "outputs": [],
   "source": [
    "df_top3_services=df_top3[service_list]"
   ]
  },
  {
   "cell_type": "markdown",
   "metadata": {},
   "source": [
    "#### Finding the services that the top 30% probable Churn customers mostly use"
   ]
  },
  {
   "cell_type": "code",
   "execution_count": 194,
   "metadata": {
    "ExecuteTime": {
     "end_time": "2021-07-04T14:21:09.900994Z",
     "start_time": "2021-07-04T14:21:08.505459Z"
    }
   },
   "outputs": [
    {
     "data": {
      "image/png": "[encoded data removed]",
      "text/plain": [
       "<Figure size 432x288 with 1 Axes>"
      ]
     },
     "metadata": {
      "needs_background": "light"
     },
     "output_type": "display_data"
    },
    {
     "data": {
      "image/png": "[encoded data removed]",
      "text/plain": [
       "<Figure size 432x288 with 1 Axes>"
      ]
     },
     "metadata": {
      "needs_background": "light"
     },
     "output_type": "display_data"
    },
    {
     "data": {
      "image/png": "[encoded data removed]",
      "text/plain": [
       "<Figure size 432x288 with 1 Axes>"
      ]
     },
     "metadata": {
      "needs_background": "light"
     },
     "output_type": "display_data"
    },
    {
     "data": {
      "image/png": "[encoded data removed]",
      "text/plain": [
       "<Figure size 432x288 with 1 Axes>"
      ]
     },
     "metadata": {
      "needs_background": "light"
     },
     "output_type": "display_data"
    },
    {
     "data": {
      "image/png": "[encoded data removed]",
      "text/plain": [
       "<Figure size 432x288 with 1 Axes>"
      ]
     },
     "metadata": {
      "needs_background": "light"
     },
     "output_type": "display_data"
    },
    {
     "data": {
      "image/png": "[encoded data removed]",
      "text/plain": [
       "<Figure size 432x288 with 1 Axes>"
      ]
     },
     "metadata": {
      "needs_background": "light"
     },
     "output_type": "display_data"
    },
    {
     "data": {
      "image/png": "[encoded data removed]",
      "text/plain": [
       "<Figure size 432x288 with 1 Axes>"
      ]
     },
     "metadata": {
      "needs_background": "light"
     },
     "output_type": "display_data"
    },
    {
     "data": {
      "image/png": "[encoded data removed]",
      "text/plain": [
       "<Figure size 432x288 with 1 Axes>"
      ]
     },
     "metadata": {
      "needs_background": "light"
     },
     "output_type": "display_data"
    },
    {
     "data": {
      "image/png": "[encoded data removed]",
      "text/plain": [
       "<Figure size 432x288 with 1 Axes>"
      ]
     },
     "metadata": {
      "needs_background": "light"
     },
     "output_type": "display_data"
    },
    {
     "data": {
      "image/png": "[encoded data removed]",
      "text/plain": [
       "<Figure size 432x288 with 1 Axes>"
      ]
     },
     "metadata": {
      "needs_background": "light"
     },
     "output_type": "display_data"
    },
    {
     "data": {
      "image/png": "[encoded data removed]",
      "text/plain": [
       "<Figure size 432x288 with 1 Axes>"
      ]
     },
     "metadata": {
      "needs_background": "light"
     },
     "output_type": "display_data"
    }
   ],
   "source": [
    "\n",
    "for col in (df_top3_services.columns):\n",
    "    plt.figure()\n",
    "    sns.countplot(x=col,data=df_top3_services)\n",
    "plt.show()"
   ]
  },
  {
   "cell_type": "code",
   "execution_count": 195,
   "metadata": {
    "ExecuteTime": {
     "end_time": "2021-07-04T14:23:33.576200Z",
     "start_time": "2021-07-04T14:23:33.556174Z"
    }
   },
   "outputs": [],
   "source": [
    "# From the above plot we could figure out the services mostly the proabable churn customers use and can be used\n",
    "# to make strategies on that\n",
    "\n",
    "# for eg:  1)they mostly use fibre optic services, we could check if there are issues there\n",
    "#     2) most of them don't have online security, so we may improve on that\n",
    "#     3) mmost of them don't have online backup, no device protection etc\n",
    "#     4) People with high churn have usually give month to month subscription, and very low churn for one year contract\n",
    "#     hence we should try to get people to take one year contracts or more by giving doscounts\n",
    "\n",
    "# Strategies could created based on these results"
   ]
  },
  {
   "cell_type": "code",
   "execution_count": null,
   "metadata": {},
   "outputs": [],
   "source": []
  },
  {
   "cell_type": "markdown",
   "metadata": {},
   "source": [
    "### Prioritization amongst the top 30% of the customers"
   ]
  },
  {
   "cell_type": "code",
   "execution_count": null,
   "metadata": {},
   "outputs": [],
   "source": [
    "# So since we have created strategies for the first 30% customers, we can further create a list to prioritize \n",
    "# for the marketing team to target the potential churn customers"
   ]
  },
  {
   "cell_type": "code",
   "execution_count": 201,
   "metadata": {
    "ExecuteTime": {
     "end_time": "2021-07-04T14:38:17.986747Z",
     "start_time": "2021-07-04T14:38:17.850712Z"
    }
   },
   "outputs": [
    {
     "data": {
      "text/html": [
       "<div>\n",
       "<style scoped>\n",
       "    .dataframe tbody tr th:only-of-type {\n",
       "        vertical-align: middle;\n",
       "    }\n",
       "\n",
       "    .dataframe tbody tr th {\n",
       "        vertical-align: top;\n",
       "    }\n",
       "\n",
       "    .dataframe thead th {\n",
       "        text-align: right;\n",
       "    }\n",
       "</style>\n",
       "<table border=\"1\" class=\"dataframe\">\n",
       "  <thead>\n",
       "    <tr style=\"text-align: right;\">\n",
       "      <th>Tenure_Segment</th>\n",
       "      <th>High Tenure</th>\n",
       "      <th>Low Tenure</th>\n",
       "    </tr>\n",
       "    <tr>\n",
       "      <th>MonthlyChargeSegement</th>\n",
       "      <th></th>\n",
       "      <th></th>\n",
       "    </tr>\n",
       "  </thead>\n",
       "  <tbody>\n",
       "    <tr>\n",
       "      <th>High Charges</th>\n",
       "      <td>99.677500</td>\n",
       "      <td>86.720748</td>\n",
       "    </tr>\n",
       "    <tr>\n",
       "      <th>Low Charges</th>\n",
       "      <td>44.390909</td>\n",
       "      <td>47.903046</td>\n",
       "    </tr>\n",
       "  </tbody>\n",
       "</table>\n",
       "</div>"
      ],
      "text/plain": [
       "Tenure_Segment         High Tenure  Low Tenure\n",
       "MonthlyChargeSegement                         \n",
       "High Charges             99.677500   86.720748\n",
       "Low Charges              44.390909   47.903046"
      ]
     },
     "execution_count": 201,
     "metadata": {},
     "output_type": "execute_result"
    }
   ],
   "source": [
    "pd.crosstab(index=df_top3['MonthlyChargeSegement'],\n",
    "           columns=df_top3['Tenure_Segment'],\n",
    "           values=df_top3['MonthlyCharges'],\n",
    "           aggfunc='mean')"
   ]
  },
  {
   "cell_type": "code",
   "execution_count": null,
   "metadata": {},
   "outputs": [],
   "source": [
    "# hence we should first prioritize high charges high tensure customers and then high charges and low tensure"
   ]
  },
  {
   "cell_type": "code",
   "execution_count": 202,
   "metadata": {
    "ExecuteTime": {
     "end_time": "2021-07-04T14:39:22.652134Z",
     "start_time": "2021-07-04T14:39:22.620108Z"
    }
   },
   "outputs": [
    {
     "data": {
      "text/html": [
       "<div>\n",
       "<style scoped>\n",
       "    .dataframe tbody tr th:only-of-type {\n",
       "        vertical-align: middle;\n",
       "    }\n",
       "\n",
       "    .dataframe tbody tr th {\n",
       "        vertical-align: top;\n",
       "    }\n",
       "\n",
       "    .dataframe thead th {\n",
       "        text-align: right;\n",
       "    }\n",
       "</style>\n",
       "<table border=\"1\" class=\"dataframe\">\n",
       "  <thead>\n",
       "    <tr style=\"text-align: right;\">\n",
       "      <th>Tenure_Segment</th>\n",
       "      <th>High Tenure</th>\n",
       "      <th>Low Tenure</th>\n",
       "    </tr>\n",
       "    <tr>\n",
       "      <th>MonthlyChargeSegement</th>\n",
       "      <th></th>\n",
       "      <th></th>\n",
       "    </tr>\n",
       "  </thead>\n",
       "  <tbody>\n",
       "    <tr>\n",
       "      <th>High Charges</th>\n",
       "      <td>200</td>\n",
       "      <td>1311</td>\n",
       "    </tr>\n",
       "    <tr>\n",
       "      <th>Low Charges</th>\n",
       "      <td>11</td>\n",
       "      <td>591</td>\n",
       "    </tr>\n",
       "  </tbody>\n",
       "</table>\n",
       "</div>"
      ],
      "text/plain": [
       "Tenure_Segment         High Tenure  Low Tenure\n",
       "MonthlyChargeSegement                         \n",
       "High Charges                   200        1311\n",
       "Low Charges                     11         591"
      ]
     },
     "execution_count": 202,
     "metadata": {},
     "output_type": "execute_result"
    }
   ],
   "source": [
    "#number of customers in each segment\n",
    "pd.crosstab(index=df_top3['MonthlyChargeSegement'],\n",
    "           columns=df_top3['Tenure_Segment'],\n",
    "           values=df_top3['MonthlyCharges'],\n",
    "           aggfunc='count')"
   ]
  },
  {
   "cell_type": "code",
   "execution_count": null,
   "metadata": {},
   "outputs": [],
   "source": [
    "# Recommendations\n",
    "# Device Protection with Online Services\n",
    "# Convert customer to DSL if they are facing challenges with Fiber Optics\n",
    "# Offer discounts on Yearly contracts"
   ]
  }
 ],
 "metadata": {
  "kernelspec": {
   "display_name": "Python 3",
   "language": "python",
   "name": "python3"
  },
  "language_info": {
   "codemirror_mode": {
    "name": "ipython",
    "version": 3
   },
   "file_extension": ".py",
   "mimetype": "text/x-python",
   "name": "python",
   "nbconvert_exporter": "python",
   "pygments_lexer": "ipython3",
   "version": "3.8.3"
  }
 },
 "nbformat": 4,
 "nbformat_minor": 4
}
